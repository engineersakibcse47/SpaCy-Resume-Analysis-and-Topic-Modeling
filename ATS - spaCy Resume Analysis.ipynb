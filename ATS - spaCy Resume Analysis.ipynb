{
 "cells": [
  {
   "cell_type": "markdown",
   "id": "f41bbd39",
   "metadata": {},
   "source": [
    "## Introduction\n",
    "\n",
    "In this project, going to use spacy for entity recognition on 200 Resume and experiment around various NLP tools for text analysis. The main purpose of this project is to help recruiters go throwing hundreds of applications within a few minutes. We have also added skills match feature so that hiring managers can follow a metric that will help them to decide whether they should move to the interview stage or not. We will be using two datasets; the first contains resume texts and the second contains skills that we will use to create an entity ruler.\n",
    "\n",
    "## Dataset\n",
    "\n",
    "livecareer.com resume Dataset\n",
    "A collection of 2400+ Resume Examples taken from livecareer.com for categorizing a given resume into any of the labels defined in the dataset: [Resume Dataset](https://www.kaggle.com/datasets/snehaanbhawal/resume-dataset)\n",
    "\n",
    "### Inside the CSV\n",
    "ID: Unique identifier and file name for the respective pdf.\n",
    "Resume_str : Contains the resume text only in string format.\n",
    "Resume_html : Contains the resume data in html format as present while web scrapping.\n",
    "Category : Category of the job the resume was used to apply.\n",
    "\n",
    "### Present categories\n",
    "HR, Designer, Information-Technology, Teacher, Advocate, Business-Development, Healthcare, Fitness, Agriculture, BPO, Sales, Consultant, Digital-Media, Automobile, Chef, Finance, Apparel, Engineering, Accountant, Construction, Public-Relations, Banking, Arts, Aviation\n",
    "\n",
    "### Acknowledgements\n",
    "Data was obtained by scrapping individual resume examples from www.livecareer.com website. Web Scrapping code present in my Github Repo.\n",
    "\n",
    "### Jobzilla skill patterns\n",
    "The jobzilla skill dataset is jsonl file containing different skills that can be used to create spaCy entity_ruler. The data set contains label and pattern-> diferent words used to descibe skills in various resume."
   ]
  },
  {
   "cell_type": "markdown",
   "id": "ea2f2671",
   "metadata": {},
   "source": [
    "## Import Libraries"
   ]
  },
  {
   "cell_type": "code",
   "execution_count": 1,
   "id": "0af139f3",
   "metadata": {},
   "outputs": [
    {
     "name": "stderr",
     "output_type": "stream",
     "text": [
      "/Users/sakib/anaconda3/lib/python3.11/site-packages/plotly/express/imshow_utils.py:24: DeprecationWarning: `np.bool8` is a deprecated alias for `np.bool_`.  (Deprecated NumPy 1.24)\n",
      "  np.bool8: (False, True),\n",
      "[nltk_data] Downloading package stopwords to /Users/sakib/nltk_data...\n",
      "[nltk_data]   Package stopwords is already up-to-date!\n",
      "[nltk_data] Downloading package wordnet to /Users/sakib/nltk_data...\n",
      "[nltk_data]   Package wordnet is already up-to-date!\n"
     ]
    }
   ],
   "source": [
    "import spacy\n",
    "from spacy.cli import download\n",
    "from spacy.pipeline import EntityRuler\n",
    "from spacy.lang.en import English\n",
    "from spacy.tokens import Doc\n",
    "\n",
    "#gensim\n",
    "import gensim\n",
    "from gensim import corpora\n",
    "\n",
    "#Visualization\n",
    "from spacy import displacy\n",
    "import pyLDAvis.gensim_models\n",
    "from wordcloud import WordCloud\n",
    "import plotly.express as px\n",
    "import matplotlib.pyplot as plt\n",
    "\n",
    "#Data loading/ Data manipulation\n",
    "import pandas as pd\n",
    "import numpy as np\n",
    "import jsonlines\n",
    "\n",
    "#nltk\n",
    "import re\n",
    "import nltk\n",
    "from nltk.corpus import stopwords\n",
    "from nltk.stem import WordNetLemmatizer\n",
    "nltk.download(['stopwords','wordnet'])\n",
    "\n",
    "#warning\n",
    "import warnings \n",
    "warnings.filterwarnings('ignore')"
   ]
  },
  {
   "cell_type": "markdown",
   "id": "4960eca3",
   "metadata": {},
   "source": [
    "## Loading\n",
    "In this section, I am going to load the spaCy model, Resume Dataset, and Jobzilla skills dataset directly into the entity ruler.\n",
    "\n",
    "## Resume Dataset\n",
    "Using Pandas read_csv to read dataset containing text data about Resume.\n",
    "\n"
   ]
  },
  {
   "cell_type": "code",
   "execution_count": 10,
   "id": "d5f1b0a2",
   "metadata": {},
   "outputs": [
    {
     "data": {
      "text/html": [
       "<div>\n",
       "<style scoped>\n",
       "    .dataframe tbody tr th:only-of-type {\n",
       "        vertical-align: middle;\n",
       "    }\n",
       "\n",
       "    .dataframe tbody tr th {\n",
       "        vertical-align: top;\n",
       "    }\n",
       "\n",
       "    .dataframe thead th {\n",
       "        text-align: right;\n",
       "    }\n",
       "</style>\n",
       "<table border=\"1\" class=\"dataframe\">\n",
       "  <thead>\n",
       "    <tr style=\"text-align: right;\">\n",
       "      <th></th>\n",
       "      <th>ID</th>\n",
       "      <th>Resume_str</th>\n",
       "      <th>Resume_html</th>\n",
       "      <th>Category</th>\n",
       "    </tr>\n",
       "  </thead>\n",
       "  <tbody>\n",
       "    <tr>\n",
       "      <th>0</th>\n",
       "      <td>16852973</td>\n",
       "      <td>HR ADMINISTRATOR/MARKETING ASSOCIATE\\...</td>\n",
       "      <td>&lt;div class=\"fontsize fontface vmargins hmargin...</td>\n",
       "      <td>HR</td>\n",
       "    </tr>\n",
       "    <tr>\n",
       "      <th>1</th>\n",
       "      <td>22323967</td>\n",
       "      <td>HR SPECIALIST, US HR OPERATIONS      ...</td>\n",
       "      <td>&lt;div class=\"fontsize fontface vmargins hmargin...</td>\n",
       "      <td>HR</td>\n",
       "    </tr>\n",
       "    <tr>\n",
       "      <th>2</th>\n",
       "      <td>33176873</td>\n",
       "      <td>HR DIRECTOR       Summary      Over 2...</td>\n",
       "      <td>&lt;div class=\"fontsize fontface vmargins hmargin...</td>\n",
       "      <td>HR</td>\n",
       "    </tr>\n",
       "    <tr>\n",
       "      <th>3</th>\n",
       "      <td>27018550</td>\n",
       "      <td>HR SPECIALIST       Summary    Dedica...</td>\n",
       "      <td>&lt;div class=\"fontsize fontface vmargins hmargin...</td>\n",
       "      <td>HR</td>\n",
       "    </tr>\n",
       "    <tr>\n",
       "      <th>4</th>\n",
       "      <td>17812897</td>\n",
       "      <td>HR MANAGER         Skill Highlights  ...</td>\n",
       "      <td>&lt;div class=\"fontsize fontface vmargins hmargin...</td>\n",
       "      <td>HR</td>\n",
       "    </tr>\n",
       "  </tbody>\n",
       "</table>\n",
       "</div>"
      ],
      "text/plain": [
       "         ID                                         Resume_str  \\\n",
       "0  16852973           HR ADMINISTRATOR/MARKETING ASSOCIATE\\...   \n",
       "1  22323967           HR SPECIALIST, US HR OPERATIONS      ...   \n",
       "2  33176873           HR DIRECTOR       Summary      Over 2...   \n",
       "3  27018550           HR SPECIALIST       Summary    Dedica...   \n",
       "4  17812897           HR MANAGER         Skill Highlights  ...   \n",
       "\n",
       "                                         Resume_html Category  \n",
       "0  <div class=\"fontsize fontface vmargins hmargin...       HR  \n",
       "1  <div class=\"fontsize fontface vmargins hmargin...       HR  \n",
       "2  <div class=\"fontsize fontface vmargins hmargin...       HR  \n",
       "3  <div class=\"fontsize fontface vmargins hmargin...       HR  \n",
       "4  <div class=\"fontsize fontface vmargins hmargin...       HR  "
      ]
     },
     "execution_count": 10,
     "metadata": {},
     "output_type": "execute_result"
    }
   ],
   "source": [
    "data = pd.read_csv(\"Resume/Resume.csv\")\n",
    "data.head()"
   ]
  },
  {
   "cell_type": "code",
   "execution_count": 5,
   "id": "2f10bc80",
   "metadata": {
    "scrolled": true
   },
   "outputs": [
    {
     "name": "stdout",
     "output_type": "stream",
     "text": [
      "Collecting en-core-web-lg==3.7.1\n",
      "  Downloading https://github.com/explosion/spacy-models/releases/download/en_core_web_lg-3.7.1/en_core_web_lg-3.7.1-py3-none-any.whl (587.7 MB)\n",
      "\u001b[2K     \u001b[90m━━━━━━━━━━━━━━━━━━━━━━━━━━━━━━━━━━━━━━━\u001b[0m \u001b[32m587.7/587.7 MB\u001b[0m \u001b[31m3.1 MB/s\u001b[0m eta \u001b[36m0:00:00\u001b[0m00:01\u001b[0m00:02\u001b[0m\n",
      "\u001b[?25hRequirement already satisfied: spacy<3.8.0,>=3.7.2 in /Users/sakib/anaconda3/lib/python3.11/site-packages (from en-core-web-lg==3.7.1) (3.7.5)\n",
      "Requirement already satisfied: spacy-legacy<3.1.0,>=3.0.11 in /Users/sakib/anaconda3/lib/python3.11/site-packages (from spacy<3.8.0,>=3.7.2->en-core-web-lg==3.7.1) (3.0.12)\n",
      "Requirement already satisfied: spacy-loggers<2.0.0,>=1.0.0 in /Users/sakib/anaconda3/lib/python3.11/site-packages (from spacy<3.8.0,>=3.7.2->en-core-web-lg==3.7.1) (1.0.5)\n",
      "Requirement already satisfied: murmurhash<1.1.0,>=0.28.0 in /Users/sakib/anaconda3/lib/python3.11/site-packages (from spacy<3.8.0,>=3.7.2->en-core-web-lg==3.7.1) (1.0.7)\n",
      "Requirement already satisfied: cymem<2.1.0,>=2.0.2 in /Users/sakib/anaconda3/lib/python3.11/site-packages (from spacy<3.8.0,>=3.7.2->en-core-web-lg==3.7.1) (2.0.6)\n",
      "Requirement already satisfied: preshed<3.1.0,>=3.0.2 in /Users/sakib/anaconda3/lib/python3.11/site-packages (from spacy<3.8.0,>=3.7.2->en-core-web-lg==3.7.1) (3.0.6)\n",
      "Requirement already satisfied: thinc<8.3.0,>=8.2.2 in /Users/sakib/anaconda3/lib/python3.11/site-packages (from spacy<3.8.0,>=3.7.2->en-core-web-lg==3.7.1) (8.2.5)\n",
      "Requirement already satisfied: wasabi<1.2.0,>=0.9.1 in /Users/sakib/anaconda3/lib/python3.11/site-packages (from spacy<3.8.0,>=3.7.2->en-core-web-lg==3.7.1) (0.10.1)\n",
      "Requirement already satisfied: srsly<3.0.0,>=2.4.3 in /Users/sakib/anaconda3/lib/python3.11/site-packages (from spacy<3.8.0,>=3.7.2->en-core-web-lg==3.7.1) (2.4.8)\n",
      "Requirement already satisfied: catalogue<2.1.0,>=2.0.6 in /Users/sakib/anaconda3/lib/python3.11/site-packages (from spacy<3.8.0,>=3.7.2->en-core-web-lg==3.7.1) (2.0.10)\n",
      "Requirement already satisfied: weasel<0.5.0,>=0.1.0 in /Users/sakib/anaconda3/lib/python3.11/site-packages (from spacy<3.8.0,>=3.7.2->en-core-web-lg==3.7.1) (0.4.1)\n",
      "Requirement already satisfied: typer<1.0.0,>=0.3.0 in /Users/sakib/anaconda3/lib/python3.11/site-packages (from spacy<3.8.0,>=3.7.2->en-core-web-lg==3.7.1) (0.4.2)\n",
      "Requirement already satisfied: tqdm<5.0.0,>=4.38.0 in /Users/sakib/anaconda3/lib/python3.11/site-packages (from spacy<3.8.0,>=3.7.2->en-core-web-lg==3.7.1) (4.65.0)\n",
      "Requirement already satisfied: requests<3.0.0,>=2.13.0 in /Users/sakib/anaconda3/lib/python3.11/site-packages (from spacy<3.8.0,>=3.7.2->en-core-web-lg==3.7.1) (2.31.0)\n",
      "Requirement already satisfied: pydantic!=1.8,!=1.8.1,<3.0.0,>=1.7.4 in /Users/sakib/anaconda3/lib/python3.11/site-packages (from spacy<3.8.0,>=3.7.2->en-core-web-lg==3.7.1) (2.8.2)\n",
      "Requirement already satisfied: jinja2 in /Users/sakib/anaconda3/lib/python3.11/site-packages (from spacy<3.8.0,>=3.7.2->en-core-web-lg==3.7.1) (3.1.2)\n",
      "Requirement already satisfied: setuptools in /Users/sakib/anaconda3/lib/python3.11/site-packages (from spacy<3.8.0,>=3.7.2->en-core-web-lg==3.7.1) (68.0.0)\n",
      "Requirement already satisfied: packaging>=20.0 in /Users/sakib/anaconda3/lib/python3.11/site-packages (from spacy<3.8.0,>=3.7.2->en-core-web-lg==3.7.1) (23.2)\n",
      "Requirement already satisfied: langcodes<4.0.0,>=3.2.0 in /Users/sakib/anaconda3/lib/python3.11/site-packages (from spacy<3.8.0,>=3.7.2->en-core-web-lg==3.7.1) (3.3.0)\n",
      "Requirement already satisfied: numpy>=1.19.0 in /Users/sakib/anaconda3/lib/python3.11/site-packages (from spacy<3.8.0,>=3.7.2->en-core-web-lg==3.7.1) (1.26.4)\n",
      "Requirement already satisfied: annotated-types>=0.4.0 in /Users/sakib/anaconda3/lib/python3.11/site-packages (from pydantic!=1.8,!=1.8.1,<3.0.0,>=1.7.4->spacy<3.8.0,>=3.7.2->en-core-web-lg==3.7.1) (0.7.0)\n",
      "Requirement already satisfied: pydantic-core==2.20.1 in /Users/sakib/anaconda3/lib/python3.11/site-packages (from pydantic!=1.8,!=1.8.1,<3.0.0,>=1.7.4->spacy<3.8.0,>=3.7.2->en-core-web-lg==3.7.1) (2.20.1)\n",
      "Requirement already satisfied: typing-extensions>=4.6.1 in /Users/sakib/anaconda3/lib/python3.11/site-packages (from pydantic!=1.8,!=1.8.1,<3.0.0,>=1.7.4->spacy<3.8.0,>=3.7.2->en-core-web-lg==3.7.1) (4.12.2)\n",
      "Requirement already satisfied: charset-normalizer<4,>=2 in /Users/sakib/anaconda3/lib/python3.11/site-packages (from requests<3.0.0,>=2.13.0->spacy<3.8.0,>=3.7.2->en-core-web-lg==3.7.1) (2.0.4)\n",
      "Requirement already satisfied: idna<4,>=2.5 in /Users/sakib/anaconda3/lib/python3.11/site-packages (from requests<3.0.0,>=2.13.0->spacy<3.8.0,>=3.7.2->en-core-web-lg==3.7.1) (3.4)\n",
      "Requirement already satisfied: urllib3<3,>=1.21.1 in /Users/sakib/anaconda3/lib/python3.11/site-packages (from requests<3.0.0,>=2.13.0->spacy<3.8.0,>=3.7.2->en-core-web-lg==3.7.1) (1.26.16)\n",
      "Requirement already satisfied: certifi>=2017.4.17 in /Users/sakib/anaconda3/lib/python3.11/site-packages (from requests<3.0.0,>=2.13.0->spacy<3.8.0,>=3.7.2->en-core-web-lg==3.7.1) (2023.11.17)\n",
      "Requirement already satisfied: blis<0.8.0,>=0.7.8 in /Users/sakib/anaconda3/lib/python3.11/site-packages (from thinc<8.3.0,>=8.2.2->spacy<3.8.0,>=3.7.2->en-core-web-lg==3.7.1) (0.7.9)\n",
      "Requirement already satisfied: confection<1.0.0,>=0.0.1 in /Users/sakib/anaconda3/lib/python3.11/site-packages (from thinc<8.3.0,>=8.2.2->spacy<3.8.0,>=3.7.2->en-core-web-lg==3.7.1) (0.1.5)\n",
      "Requirement already satisfied: click<9.0.0,>=7.1.1 in /Users/sakib/anaconda3/lib/python3.11/site-packages (from typer<1.0.0,>=0.3.0->spacy<3.8.0,>=3.7.2->en-core-web-lg==3.7.1) (8.0.4)\n",
      "Requirement already satisfied: cloudpathlib<1.0.0,>=0.7.0 in /Users/sakib/anaconda3/lib/python3.11/site-packages (from weasel<0.5.0,>=0.1.0->spacy<3.8.0,>=3.7.2->en-core-web-lg==3.7.1) (0.18.1)\n",
      "Requirement already satisfied: smart-open<8.0.0,>=5.2.1 in /Users/sakib/anaconda3/lib/python3.11/site-packages (from weasel<0.5.0,>=0.1.0->spacy<3.8.0,>=3.7.2->en-core-web-lg==3.7.1) (5.2.1)\n",
      "Requirement already satisfied: MarkupSafe>=2.0 in /Users/sakib/anaconda3/lib/python3.11/site-packages (from jinja2->spacy<3.8.0,>=3.7.2->en-core-web-lg==3.7.1) (2.1.1)\n",
      "Installing collected packages: en-core-web-lg\n",
      "Successfully installed en-core-web-lg-3.7.1\n",
      "\u001b[38;5;2m✔ Download and installation successful\u001b[0m\n",
      "You can now load the package via spacy.load('en_core_web_lg')\n",
      "\u001b[38;5;3m⚠ Restart to reload dependencies\u001b[0m\n",
      "If you are in a Jupyter or Colab notebook, you may need to restart Python in\n",
      "order to load all the package's dependencies. You can do this by selecting the\n",
      "'Restart kernel' or 'Restart runtime' option.\n"
     ]
    },
    {
     "name": "stderr",
     "output_type": "stream",
     "text": [
      "\n",
      "\u001b[1m[\u001b[0m\u001b[34;49mnotice\u001b[0m\u001b[1;39;49m]\u001b[0m\u001b[39;49m A new release of pip is available: \u001b[0m\u001b[31;49m24.1.1\u001b[0m\u001b[39;49m -> \u001b[0m\u001b[32;49m24.2\u001b[0m\n",
      "\u001b[1m[\u001b[0m\u001b[34;49mnotice\u001b[0m\u001b[1;39;49m]\u001b[0m\u001b[39;49m To update, run: \u001b[0m\u001b[32;49m/Users/sakib/anaconda3/bin/python -m pip install --upgrade pip\u001b[0m\n"
     ]
    }
   ],
   "source": [
    "download(\"en_core_web_lg\")"
   ]
  },
  {
   "cell_type": "code",
   "execution_count": 7,
   "id": "7490a62f",
   "metadata": {},
   "outputs": [],
   "source": [
    "nlp = spacy.load(\"en_core_web_lg\")\n",
    "skill_pattern_path = \"jz_skill_patterns.jsonl\""
   ]
  },
  {
   "cell_type": "markdown",
   "id": "296c91e3",
   "metadata": {},
   "source": [
    "## Entity Ruler\n",
    "To create an entity ruler we need to add a pipeline and then load the .jsonl file containing skills into ruler. As you can see we have successfully added a new pipeline entity_ruler. Entity ruler helps us add additional rules to highlight various categories within the text, such as skills and job description in our case."
   ]
  },
  {
   "cell_type": "code",
   "execution_count": 8,
   "id": "5da8570d",
   "metadata": {},
   "outputs": [
    {
     "data": {
      "text/plain": [
       "['tok2vec',\n",
       " 'tagger',\n",
       " 'parser',\n",
       " 'attribute_ruler',\n",
       " 'lemmatizer',\n",
       " 'ner',\n",
       " 'entity_ruler']"
      ]
     },
     "execution_count": 8,
     "metadata": {},
     "output_type": "execute_result"
    }
   ],
   "source": [
    "ruler = nlp.add_pipe(\"entity_ruler\")\n",
    "ruler.from_disk(skill_pattern_path)\n",
    "nlp.pipe_names"
   ]
  },
  {
   "cell_type": "markdown",
   "id": "0020e384",
   "metadata": {},
   "source": [
    "## Skills\n",
    "I will create two python functions to extract all the skills within a resume and create an array containing all the skills. Later we are going to apply this function to our dataset and create a new feature called skill. This will help us visualize trends and patterns within the dataset.\n",
    "\n",
    "`get_skills` is going to extract skills from a single text.\n",
    "`unique_skills` will remove duplicates."
   ]
  },
  {
   "cell_type": "code",
   "execution_count": 9,
   "id": "952cb375",
   "metadata": {},
   "outputs": [],
   "source": [
    "def get_skills(text):\n",
    "    doc = nlp(text)\n",
    "    myset = []\n",
    "    subset = []\n",
    "    for ent in doc.ents:\n",
    "        if ent.label_ == \"SKILL\":\n",
    "            subset.append(ent.text)\n",
    "    myset.append(subset)\n",
    "    return subset\n",
    "\n",
    "\n",
    "def unique_skills(x):\n",
    "    return list(set(x))"
   ]
  },
  {
   "cell_type": "markdown",
   "id": "ff842761",
   "metadata": {},
   "source": [
    "## Cleaning Resume Text\n",
    "Going to use nltk library to clean our dataset in a few steps:\n",
    "\n",
    "- Going to use regex to remove hyperlinks, special characters, or punctuations.\n",
    "- Lowering text\n",
    "- Splitting text into array based on space\n",
    "- Lemmatizing text to its base form for normalizations\n",
    "- Removing English stopwords\n",
    "- Appending the results into an array."
   ]
  },
  {
   "cell_type": "code",
   "execution_count": 11,
   "id": "ca0d66d6",
   "metadata": {},
   "outputs": [],
   "source": [
    "clean = []\n",
    "for i in range(data.shape[0]):\n",
    "    review = re.sub(\n",
    "        '(@[A-Za-z0-9]+)|([^0-9A-Za-z \\t])|(\\w+:\\/\\/\\S+)|^rt|http.+?\"',\n",
    "        \" \",\n",
    "        data[\"Resume_str\"].iloc[i],\n",
    "    )\n",
    "    review = review.lower()\n",
    "    review = review.split()\n",
    "    lm = WordNetLemmatizer()\n",
    "    review = [\n",
    "        lm.lemmatize(word)\n",
    "        for word in review\n",
    "        if not word in set(stopwords.words(\"english\"))\n",
    "    ]\n",
    "    review = \" \".join(review)\n",
    "    clean.append(review)"
   ]
  },
  {
   "cell_type": "markdown",
   "id": "51b3218e",
   "metadata": {},
   "source": [
    "## Applying functions\n",
    "In this section, going to apply all the functions we have created previously\n",
    "\n",
    "- creating Clean_Resume columns and adding cleaning Resume data.\n",
    "- creating skills columns, lowering text, and applying the get_skills function.\n",
    "- removing duplicates from skills columns.\n",
    "> As we can see below that we have cleaned the resume and skills columns."
   ]
  },
  {
   "cell_type": "code",
   "execution_count": 30,
   "id": "4d289dab",
   "metadata": {},
   "outputs": [
    {
     "data": {
      "text/html": [
       "<div>\n",
       "<style scoped>\n",
       "    .dataframe tbody tr th:only-of-type {\n",
       "        vertical-align: middle;\n",
       "    }\n",
       "\n",
       "    .dataframe tbody tr th {\n",
       "        vertical-align: top;\n",
       "    }\n",
       "\n",
       "    .dataframe thead th {\n",
       "        text-align: right;\n",
       "    }\n",
       "</style>\n",
       "<table border=\"1\" class=\"dataframe\">\n",
       "  <thead>\n",
       "    <tr style=\"text-align: right;\">\n",
       "      <th></th>\n",
       "      <th>ID</th>\n",
       "      <th>Resume_str</th>\n",
       "      <th>Resume_html</th>\n",
       "      <th>Category</th>\n",
       "      <th>Clean_Resume</th>\n",
       "      <th>skills</th>\n",
       "    </tr>\n",
       "  </thead>\n",
       "  <tbody>\n",
       "    <tr>\n",
       "      <th>0</th>\n",
       "      <td>16852973</td>\n",
       "      <td>HR ADMINISTRATOR/MARKETING ASSOCIATE\\...</td>\n",
       "      <td>&lt;div class=\"fontsize fontface vmargins hmargin...</td>\n",
       "      <td>HR</td>\n",
       "      <td>hr administrator marketing associate hr admini...</td>\n",
       "      <td>[interaction, swift, advertising, support, doc...</td>\n",
       "    </tr>\n",
       "    <tr>\n",
       "      <th>1</th>\n",
       "      <td>22323967</td>\n",
       "      <td>HR SPECIALIST, US HR OPERATIONS      ...</td>\n",
       "      <td>&lt;div class=\"fontsize fontface vmargins hmargin...</td>\n",
       "      <td>HR</td>\n",
       "      <td>hr specialist u hr operation summary versatile...</td>\n",
       "      <td>[advertising, support, material, design, marke...</td>\n",
       "    </tr>\n",
       "    <tr>\n",
       "      <th>2</th>\n",
       "      <td>33176873</td>\n",
       "      <td>HR DIRECTOR       Summary      Over 2...</td>\n",
       "      <td>&lt;div class=\"fontsize fontface vmargins hmargin...</td>\n",
       "      <td>HR</td>\n",
       "      <td>hr director summary 20 year experience recruit...</td>\n",
       "      <td>[security, advertising, support, tracking syst...</td>\n",
       "    </tr>\n",
       "    <tr>\n",
       "      <th>3</th>\n",
       "      <td>27018550</td>\n",
       "      <td>HR SPECIALIST       Summary    Dedica...</td>\n",
       "      <td>&lt;div class=\"fontsize fontface vmargins hmargin...</td>\n",
       "      <td>HR</td>\n",
       "      <td>hr specialist summary dedicated driven dynamic...</td>\n",
       "      <td>[documentation, process management, certificat...</td>\n",
       "    </tr>\n",
       "    <tr>\n",
       "      <th>4</th>\n",
       "      <td>17812897</td>\n",
       "      <td>HR MANAGER         Skill Highlights  ...</td>\n",
       "      <td>&lt;div class=\"fontsize fontface vmargins hmargin...</td>\n",
       "      <td>HR</td>\n",
       "      <td>hr manager skill highlight hr skill hr departm...</td>\n",
       "      <td>[support, business, project management, box, b...</td>\n",
       "    </tr>\n",
       "  </tbody>\n",
       "</table>\n",
       "</div>"
      ],
      "text/plain": [
       "         ID                                         Resume_str  \\\n",
       "0  16852973           HR ADMINISTRATOR/MARKETING ASSOCIATE\\...   \n",
       "1  22323967           HR SPECIALIST, US HR OPERATIONS      ...   \n",
       "2  33176873           HR DIRECTOR       Summary      Over 2...   \n",
       "3  27018550           HR SPECIALIST       Summary    Dedica...   \n",
       "4  17812897           HR MANAGER         Skill Highlights  ...   \n",
       "\n",
       "                                         Resume_html Category  \\\n",
       "0  <div class=\"fontsize fontface vmargins hmargin...       HR   \n",
       "1  <div class=\"fontsize fontface vmargins hmargin...       HR   \n",
       "2  <div class=\"fontsize fontface vmargins hmargin...       HR   \n",
       "3  <div class=\"fontsize fontface vmargins hmargin...       HR   \n",
       "4  <div class=\"fontsize fontface vmargins hmargin...       HR   \n",
       "\n",
       "                                        Clean_Resume  \\\n",
       "0  hr administrator marketing associate hr admini...   \n",
       "1  hr specialist u hr operation summary versatile...   \n",
       "2  hr director summary 20 year experience recruit...   \n",
       "3  hr specialist summary dedicated driven dynamic...   \n",
       "4  hr manager skill highlight hr skill hr departm...   \n",
       "\n",
       "                                              skills  \n",
       "0  [interaction, swift, advertising, support, doc...  \n",
       "1  [advertising, support, material, design, marke...  \n",
       "2  [security, advertising, support, tracking syst...  \n",
       "3  [documentation, process management, certificat...  \n",
       "4  [support, business, project management, box, b...  "
      ]
     },
     "execution_count": 30,
     "metadata": {},
     "output_type": "execute_result"
    }
   ],
   "source": [
    "data[\"Clean_Resume\"] = clean\n",
    "data[\"skills\"] = data[\"Clean_Resume\"].str.lower().apply(get_skills)\n",
    "data[\"skills\"] = data[\"skills\"].apply(unique_skills)\n",
    "data.head()"
   ]
  },
  {
   "cell_type": "markdown",
   "id": "33a76d88",
   "metadata": {},
   "source": [
    "## Visualization\n",
    "Now that we have everything we want, going to visualize Job distributions and skill distributions.\n",
    "\n",
    "## Jobs Distribution\n",
    "As we can see our resume samples contain a variety of job categories. Accountants, Business development, and Advocates are the top categories."
   ]
  },
  {
   "cell_type": "code",
   "execution_count": 81,
   "id": "09304bd8",
   "metadata": {},
   "outputs": [
    {
     "data": {
      "image/png": "[encoded data removed]",
      "text/plain": [
       "<Figure size 1200x400 with 1 Axes>"
      ]
     },
     "metadata": {},
     "output_type": "display_data"
    }
   ],
   "source": [
    "# Count occurrences of each category\n",
    "category_counts = data['Category'].value_counts().reset_index()\n",
    "category_counts.columns = ['Category', 'Count']\n",
    "\n",
    "# Set the category order based on the counts (descending)\n",
    "category_order = category_counts['Category']\n",
    "\n",
    "# Create the count plot with Seaborn\n",
    "plt.figure(figsize=(12, 4))\n",
    "sns.countplot(data=data, x='Category', order=category_order)\n",
    "\n",
    "# Customize the plot\n",
    "plt.title('Distribution of Jobs Categories')\n",
    "plt.xlabel('Category')\n",
    "plt.ylabel('Count')\n",
    "plt.xticks(rotation=90)  # Rotate x labels for better readability if needed\n",
    "\n",
    "# Show the plot\n",
    "plt.show()"
   ]
  },
  {
   "cell_type": "markdown",
   "id": "efb764da",
   "metadata": {},
   "source": [
    "## Skills\n",
    "In this part, going to use the Deepnote input cell to create category variables and then visualize the distribution of skills based on selected Job Descriptions.\n"
   ]
  },
  {
   "cell_type": "code",
   "execution_count": 46,
   "id": "e470d28f",
   "metadata": {},
   "outputs": [
    {
     "data": {
      "application/vnd.plotly.v1+json": {
       "config": {
        "plotlyServerURL": "https://plot.ly"
       },
       "data": [
        {
         "alignmentgroup": "True",
         "hovertemplate": "Skills=%{x}<br>Count=%{y}<extra></extra>",
         "legendgroup": "",
         "marker": {
          "color": "#636efa",
          "pattern": {
           "shape": ""
          }
         },
         "name": "",
         "offsetgroup": "",
         "orientation": "v",
         "showlegend": false,
         "textposition": "auto",
         "type": "bar",
         "x": [
          "support",
          "software",
          "business",
          "security",
          "server",
          "design",
          "database",
          "project management",
          "documentation",
          "operating system",
          "testing",
          "deployment",
          "help desk",
          "monitoring",
          "material",
          "router",
          "mobile",
          "schedule",
          "engineering",
          "linux",
          "marketing",
          "specification",
          "oracle",
          "component",
          "business process",
          "wireless",
          "certificate",
          "computer science",
          "workflow",
          "network security",
          "medium",
          "business administration",
          "framework",
          "release",
          "interaction",
          "computer network",
          "data analysis",
          "finance",
          "accounting",
          "collaboration",
          "scanner",
          "data center",
          "java",
          "terminal",
          "visual basic",
          "library",
          "javascript",
          "business intelligence",
          "visual studio",
          "wireless network",
          "asp net",
          "virtual machine",
          "analytics",
          "data warehouse",
          "mysql",
          "system integration",
          "local area network",
          "tracking system",
          "database design",
          "performance metric",
          "computer hardware",
          "information management",
          "user interface",
          "programming language",
          "python",
          "publishing",
          "diagram",
          "financial system",
          "file system",
          "encryption",
          "ubuntu",
          "data integrity",
          "content management",
          "ethernet",
          "performance monitoring",
          "data processing",
          "android",
          "crystal",
          "web service",
          "shell",
          "computer engineering",
          "system testing",
          "data management",
          "resource allocation",
          "jquery",
          "wide area network",
          "telephony",
          "knowledge base",
          "high availability",
          "front end",
          "relay",
          "unity",
          "customer relationship management",
          "access network",
          "data system",
          "network management",
          "debugging",
          "bash",
          "authentication",
          "bootstrap",
          "wordpress",
          "github",
          "advertising",
          "sorting",
          "data model",
          "multimedia",
          "data validation",
          "data structure",
          "trend analysis",
          "access control",
          "network performance",
          "relational database",
          "complex system",
          "application server",
          "data access",
          "segment",
          "document management system",
          "data file",
          "eclipse",
          "software engineering",
          "play",
          "tableau",
          "perl",
          "google",
          "search engine",
          "data acquisition",
          "computer security",
          "data quality",
          "rotation",
          "azure",
          "user profile",
          "drupal",
          "algorithm",
          "web server",
          "queue",
          "mode",
          "graphic design",
          "decision support system",
          "ecommerce",
          "microcomputer",
          "vmware vsphere",
          "engineering drawing",
          "centos",
          "distributed file system",
          "query language",
          "ai",
          "npm",
          "data sharing",
          "back office",
          "commerce",
          "tower",
          "data retrieval",
          "fusion",
          "data mining",
          "remote control",
          "network interface",
          "task management",
          "data integration",
          "visualization",
          "text editor",
          "code review",
          "email marketing",
          "selenium",
          "response time",
          "box",
          "big data",
          "computer programming",
          "time tracking",
          "workload",
          "scalability",
          "gradle",
          "junit",
          "network architecture",
          "spring",
          "git",
          "object model",
          "algorithm design",
          "enterprise system",
          "grunt",
          "mongodb",
          "cucumber",
          "robot",
          "data cube",
          "data manipulation language",
          "bower",
          "postgresql",
          "performance prediction",
          "cloud storage",
          "font",
          "segmentation",
          "microprocessor",
          "distributed computing",
          "batch processing",
          "management science",
          "mobile computing",
          "bot",
          "echo",
          "cryptography",
          "hibernate",
          "phonegap",
          "signal processing",
          "version control system",
          "jenkins",
          "microcontroller",
          "correctness",
          "angularjs",
          "braintree",
          "smart card",
          "codeigniter",
          "continuous integration",
          "maven",
          "spring boot",
          "database security",
          "intrusion detection system",
          "pattern recognition",
          "computer program",
          "skype",
          "microsoft azure",
          "file storage",
          "electronic engineering",
          "chef",
          "magento",
          "sentry",
          "swift",
          "mechanical engineering",
          "electrical engineering",
          "fedora",
          "devise",
          "password management",
          "chrome",
          "source document",
          "fortran",
          "data transmission",
          "functional testing",
          "adobe photoshop",
          "process engineering",
          "distributed database",
          "microsoft sql server",
          "coordinate system",
          "routing protocol",
          "synchronization",
          "enterprise information security architecture",
          "international trade",
          "visual inspection",
          "simulation",
          "composer",
          "data modeling",
          "electronic data interchange",
          "middleware",
          "code quality",
          "apache tomcat",
          "scripting language",
          "ajax",
          "agile project management",
          "vault",
          "azure storage",
          "electronic document",
          "graphical user interface",
          "fault tolerance",
          "celery",
          "web app",
          "buffer",
          "chemical engineering",
          "trello",
          "supervisory control",
          "confluence",
          "throughput",
          "civil engineering",
          "dropbox",
          "twitter",
          "knowledge management",
          "computer architecture",
          "cataloging"
         ],
         "xaxis": "x",
         "y": [
          108,
          103,
          83,
          79,
          76,
          72,
          69,
          58,
          50,
          45,
          44,
          40,
          38,
          35,
          35,
          33,
          31,
          31,
          31,
          28,
          25,
          25,
          22,
          22,
          22,
          22,
          21,
          20,
          20,
          19,
          18,
          17,
          17,
          17,
          15,
          14,
          14,
          14,
          14,
          14,
          12,
          12,
          12,
          12,
          11,
          10,
          10,
          10,
          10,
          9,
          9,
          9,
          9,
          9,
          9,
          8,
          8,
          7,
          7,
          7,
          7,
          7,
          7,
          7,
          7,
          7,
          7,
          6,
          6,
          6,
          6,
          6,
          6,
          5,
          5,
          5,
          5,
          5,
          5,
          5,
          5,
          5,
          5,
          5,
          5,
          5,
          5,
          4,
          4,
          4,
          4,
          4,
          4,
          4,
          4,
          4,
          4,
          4,
          4,
          4,
          4,
          4,
          4,
          4,
          4,
          4,
          4,
          4,
          4,
          4,
          4,
          4,
          4,
          3,
          3,
          3,
          3,
          3,
          3,
          3,
          3,
          3,
          3,
          3,
          3,
          3,
          3,
          3,
          3,
          3,
          3,
          3,
          3,
          3,
          3,
          3,
          2,
          2,
          2,
          2,
          2,
          2,
          2,
          2,
          2,
          2,
          2,
          2,
          2,
          2,
          2,
          2,
          2,
          2,
          2,
          2,
          2,
          2,
          2,
          2,
          2,
          2,
          2,
          2,
          2,
          2,
          2,
          2,
          2,
          1,
          1,
          1,
          1,
          1,
          1,
          1,
          1,
          1,
          1,
          1,
          1,
          1,
          1,
          1,
          1,
          1,
          1,
          1,
          1,
          1,
          1,
          1,
          1,
          1,
          1,
          1,
          1,
          1,
          1,
          1,
          1,
          1,
          1,
          1,
          1,
          1,
          1,
          1,
          1,
          1,
          1,
          1,
          1,
          1,
          1,
          1,
          1,
          1,
          1,
          1,
          1,
          1,
          1,
          1,
          1,
          1,
          1,
          1,
          1,
          1,
          1,
          1,
          1,
          1,
          1,
          1,
          1,
          1,
          1,
          1,
          1,
          1,
          1,
          1,
          1,
          1,
          1,
          1,
          1,
          1,
          1,
          1,
          1,
          1,
          1,
          1,
          1,
          1,
          1,
          1,
          1,
          1,
          1,
          1,
          1,
          1,
          1,
          1,
          1,
          1,
          1,
          1,
          1
         ],
         "yaxis": "y"
        }
       ],
       "layout": {
        "barmode": "relative",
        "legend": {
         "tracegroupgap": 0
        },
        "template": {
         "data": {
          "bar": [
           {
            "error_x": {
             "color": "#2a3f5f"
            },
            "error_y": {
             "color": "#2a3f5f"
            },
            "marker": {
             "line": {
              "color": "#E5ECF6",
              "width": 0.5
             },
             "pattern": {
              "fillmode": "overlay",
              "size": 10,
              "solidity": 0.2
             }
            },
            "type": "bar"
           }
          ],
          "barpolar": [
           {
            "marker": {
             "line": {
              "color": "#E5ECF6",
              "width": 0.5
             },
             "pattern": {
              "fillmode": "overlay",
              "size": 10,
              "solidity": 0.2
             }
            },
            "type": "barpolar"
           }
          ],
          "carpet": [
           {
            "aaxis": {
             "endlinecolor": "#2a3f5f",
             "gridcolor": "white",
             "linecolor": "white",
             "minorgridcolor": "white",
             "startlinecolor": "#2a3f5f"
            },
            "baxis": {
             "endlinecolor": "#2a3f5f",
             "gridcolor": "white",
             "linecolor": "white",
             "minorgridcolor": "white",
             "startlinecolor": "#2a3f5f"
            },
            "type": "carpet"
           }
          ],
          "choropleth": [
           {
            "colorbar": {
             "outlinewidth": 0,
             "ticks": ""
            },
            "type": "choropleth"
           }
          ],
          "contour": [
           {
            "colorbar": {
             "outlinewidth": 0,
             "ticks": ""
            },
            "colorscale": [
             [
              0,
              "#0d0887"
             ],
             [
              0.1111111111111111,
              "#46039f"
             ],
             [
              0.2222222222222222,
              "#7201a8"
             ],
             [
              0.3333333333333333,
              "#9c179e"
             ],
             [
              0.4444444444444444,
              "#bd3786"
             ],
             [
              0.5555555555555556,
              "#d8576b"
             ],
             [
              0.6666666666666666,
              "#ed7953"
             ],
             [
              0.7777777777777778,
              "#fb9f3a"
             ],
             [
              0.8888888888888888,
              "#fdca26"
             ],
             [
              1,
              "#f0f921"
             ]
            ],
            "type": "contour"
           }
          ],
          "contourcarpet": [
           {
            "colorbar": {
             "outlinewidth": 0,
             "ticks": ""
            },
            "type": "contourcarpet"
           }
          ],
          "heatmap": [
           {
            "colorbar": {
             "outlinewidth": 0,
             "ticks": ""
            },
            "colorscale": [
             [
              0,
              "#0d0887"
             ],
             [
              0.1111111111111111,
              "#46039f"
             ],
             [
              0.2222222222222222,
              "#7201a8"
             ],
             [
              0.3333333333333333,
              "#9c179e"
             ],
             [
              0.4444444444444444,
              "#bd3786"
             ],
             [
              0.5555555555555556,
              "#d8576b"
             ],
             [
              0.6666666666666666,
              "#ed7953"
             ],
             [
              0.7777777777777778,
              "#fb9f3a"
             ],
             [
              0.8888888888888888,
              "#fdca26"
             ],
             [
              1,
              "#f0f921"
             ]
            ],
            "type": "heatmap"
           }
          ],
          "heatmapgl": [
           {
            "colorbar": {
             "outlinewidth": 0,
             "ticks": ""
            },
            "colorscale": [
             [
              0,
              "#0d0887"
             ],
             [
              0.1111111111111111,
              "#46039f"
             ],
             [
              0.2222222222222222,
              "#7201a8"
             ],
             [
              0.3333333333333333,
              "#9c179e"
             ],
             [
              0.4444444444444444,
              "#bd3786"
             ],
             [
              0.5555555555555556,
              "#d8576b"
             ],
             [
              0.6666666666666666,
              "#ed7953"
             ],
             [
              0.7777777777777778,
              "#fb9f3a"
             ],
             [
              0.8888888888888888,
              "#fdca26"
             ],
             [
              1,
              "#f0f921"
             ]
            ],
            "type": "heatmapgl"
           }
          ],
          "histogram": [
           {
            "marker": {
             "pattern": {
              "fillmode": "overlay",
              "size": 10,
              "solidity": 0.2
             }
            },
            "type": "histogram"
           }
          ],
          "histogram2d": [
           {
            "colorbar": {
             "outlinewidth": 0,
             "ticks": ""
            },
            "colorscale": [
             [
              0,
              "#0d0887"
             ],
             [
              0.1111111111111111,
              "#46039f"
             ],
             [
              0.2222222222222222,
              "#7201a8"
             ],
             [
              0.3333333333333333,
              "#9c179e"
             ],
             [
              0.4444444444444444,
              "#bd3786"
             ],
             [
              0.5555555555555556,
              "#d8576b"
             ],
             [
              0.6666666666666666,
              "#ed7953"
             ],
             [
              0.7777777777777778,
              "#fb9f3a"
             ],
             [
              0.8888888888888888,
              "#fdca26"
             ],
             [
              1,
              "#f0f921"
             ]
            ],
            "type": "histogram2d"
           }
          ],
          "histogram2dcontour": [
           {
            "colorbar": {
             "outlinewidth": 0,
             "ticks": ""
            },
            "colorscale": [
             [
              0,
              "#0d0887"
             ],
             [
              0.1111111111111111,
              "#46039f"
             ],
             [
              0.2222222222222222,
              "#7201a8"
             ],
             [
              0.3333333333333333,
              "#9c179e"
             ],
             [
              0.4444444444444444,
              "#bd3786"
             ],
             [
              0.5555555555555556,
              "#d8576b"
             ],
             [
              0.6666666666666666,
              "#ed7953"
             ],
             [
              0.7777777777777778,
              "#fb9f3a"
             ],
             [
              0.8888888888888888,
              "#fdca26"
             ],
             [
              1,
              "#f0f921"
             ]
            ],
            "type": "histogram2dcontour"
           }
          ],
          "mesh3d": [
           {
            "colorbar": {
             "outlinewidth": 0,
             "ticks": ""
            },
            "type": "mesh3d"
           }
          ],
          "parcoords": [
           {
            "line": {
             "colorbar": {
              "outlinewidth": 0,
              "ticks": ""
             }
            },
            "type": "parcoords"
           }
          ],
          "pie": [
           {
            "automargin": true,
            "type": "pie"
           }
          ],
          "scatter": [
           {
            "fillpattern": {
             "fillmode": "overlay",
             "size": 10,
             "solidity": 0.2
            },
            "type": "scatter"
           }
          ],
          "scatter3d": [
           {
            "line": {
             "colorbar": {
              "outlinewidth": 0,
              "ticks": ""
             }
            },
            "marker": {
             "colorbar": {
              "outlinewidth": 0,
              "ticks": ""
             }
            },
            "type": "scatter3d"
           }
          ],
          "scattercarpet": [
           {
            "marker": {
             "colorbar": {
              "outlinewidth": 0,
              "ticks": ""
             }
            },
            "type": "scattercarpet"
           }
          ],
          "scattergeo": [
           {
            "marker": {
             "colorbar": {
              "outlinewidth": 0,
              "ticks": ""
             }
            },
            "type": "scattergeo"
           }
          ],
          "scattergl": [
           {
            "marker": {
             "colorbar": {
              "outlinewidth": 0,
              "ticks": ""
             }
            },
            "type": "scattergl"
           }
          ],
          "scattermapbox": [
           {
            "marker": {
             "colorbar": {
              "outlinewidth": 0,
              "ticks": ""
             }
            },
            "type": "scattermapbox"
           }
          ],
          "scatterpolar": [
           {
            "marker": {
             "colorbar": {
              "outlinewidth": 0,
              "ticks": ""
             }
            },
            "type": "scatterpolar"
           }
          ],
          "scatterpolargl": [
           {
            "marker": {
             "colorbar": {
              "outlinewidth": 0,
              "ticks": ""
             }
            },
            "type": "scatterpolargl"
           }
          ],
          "scatterternary": [
           {
            "marker": {
             "colorbar": {
              "outlinewidth": 0,
              "ticks": ""
             }
            },
            "type": "scatterternary"
           }
          ],
          "surface": [
           {
            "colorbar": {
             "outlinewidth": 0,
             "ticks": ""
            },
            "colorscale": [
             [
              0,
              "#0d0887"
             ],
             [
              0.1111111111111111,
              "#46039f"
             ],
             [
              0.2222222222222222,
              "#7201a8"
             ],
             [
              0.3333333333333333,
              "#9c179e"
             ],
             [
              0.4444444444444444,
              "#bd3786"
             ],
             [
              0.5555555555555556,
              "#d8576b"
             ],
             [
              0.6666666666666666,
              "#ed7953"
             ],
             [
              0.7777777777777778,
              "#fb9f3a"
             ],
             [
              0.8888888888888888,
              "#fdca26"
             ],
             [
              1,
              "#f0f921"
             ]
            ],
            "type": "surface"
           }
          ],
          "table": [
           {
            "cells": {
             "fill": {
              "color": "#EBF0F8"
             },
             "line": {
              "color": "white"
             }
            },
            "header": {
             "fill": {
              "color": "#C8D4E3"
             },
             "line": {
              "color": "white"
             }
            },
            "type": "table"
           }
          ]
         },
         "layout": {
          "annotationdefaults": {
           "arrowcolor": "#2a3f5f",
           "arrowhead": 0,
           "arrowwidth": 1
          },
          "autotypenumbers": "strict",
          "coloraxis": {
           "colorbar": {
            "outlinewidth": 0,
            "ticks": ""
           }
          },
          "colorscale": {
           "diverging": [
            [
             0,
             "#8e0152"
            ],
            [
             0.1,
             "#c51b7d"
            ],
            [
             0.2,
             "#de77ae"
            ],
            [
             0.3,
             "#f1b6da"
            ],
            [
             0.4,
             "#fde0ef"
            ],
            [
             0.5,
             "#f7f7f7"
            ],
            [
             0.6,
             "#e6f5d0"
            ],
            [
             0.7,
             "#b8e186"
            ],
            [
             0.8,
             "#7fbc41"
            ],
            [
             0.9,
             "#4d9221"
            ],
            [
             1,
             "#276419"
            ]
           ],
           "sequential": [
            [
             0,
             "#0d0887"
            ],
            [
             0.1111111111111111,
             "#46039f"
            ],
            [
             0.2222222222222222,
             "#7201a8"
            ],
            [
             0.3333333333333333,
             "#9c179e"
            ],
            [
             0.4444444444444444,
             "#bd3786"
            ],
            [
             0.5555555555555556,
             "#d8576b"
            ],
            [
             0.6666666666666666,
             "#ed7953"
            ],
            [
             0.7777777777777778,
             "#fb9f3a"
            ],
            [
             0.8888888888888888,
             "#fdca26"
            ],
            [
             1,
             "#f0f921"
            ]
           ],
           "sequentialminus": [
            [
             0,
             "#0d0887"
            ],
            [
             0.1111111111111111,
             "#46039f"
            ],
            [
             0.2222222222222222,
             "#7201a8"
            ],
            [
             0.3333333333333333,
             "#9c179e"
            ],
            [
             0.4444444444444444,
             "#bd3786"
            ],
            [
             0.5555555555555556,
             "#d8576b"
            ],
            [
             0.6666666666666666,
             "#ed7953"
            ],
            [
             0.7777777777777778,
             "#fb9f3a"
            ],
            [
             0.8888888888888888,
             "#fdca26"
            ],
            [
             1,
             "#f0f921"
            ]
           ]
          },
          "colorway": [
           "#636efa",
           "#EF553B",
           "#00cc96",
           "#ab63fa",
           "#FFA15A",
           "#19d3f3",
           "#FF6692",
           "#B6E880",
           "#FF97FF",
           "#FECB52"
          ],
          "font": {
           "color": "#2a3f5f"
          },
          "geo": {
           "bgcolor": "white",
           "lakecolor": "white",
           "landcolor": "#E5ECF6",
           "showlakes": true,
           "showland": true,
           "subunitcolor": "white"
          },
          "hoverlabel": {
           "align": "left"
          },
          "hovermode": "closest",
          "mapbox": {
           "style": "light"
          },
          "paper_bgcolor": "white",
          "plot_bgcolor": "#E5ECF6",
          "polar": {
           "angularaxis": {
            "gridcolor": "white",
            "linecolor": "white",
            "ticks": ""
           },
           "bgcolor": "#E5ECF6",
           "radialaxis": {
            "gridcolor": "white",
            "linecolor": "white",
            "ticks": ""
           }
          },
          "scene": {
           "xaxis": {
            "backgroundcolor": "#E5ECF6",
            "gridcolor": "white",
            "gridwidth": 2,
            "linecolor": "white",
            "showbackground": true,
            "ticks": "",
            "zerolinecolor": "white"
           },
           "yaxis": {
            "backgroundcolor": "#E5ECF6",
            "gridcolor": "white",
            "gridwidth": 2,
            "linecolor": "white",
            "showbackground": true,
            "ticks": "",
            "zerolinecolor": "white"
           },
           "zaxis": {
            "backgroundcolor": "#E5ECF6",
            "gridcolor": "white",
            "gridwidth": 2,
            "linecolor": "white",
            "showbackground": true,
            "ticks": "",
            "zerolinecolor": "white"
           }
          },
          "shapedefaults": {
           "line": {
            "color": "#2a3f5f"
           }
          },
          "ternary": {
           "aaxis": {
            "gridcolor": "white",
            "linecolor": "white",
            "ticks": ""
           },
           "baxis": {
            "gridcolor": "white",
            "linecolor": "white",
            "ticks": ""
           },
           "bgcolor": "#E5ECF6",
           "caxis": {
            "gridcolor": "white",
            "linecolor": "white",
            "ticks": ""
           }
          },
          "title": {
           "x": 0.05
          },
          "xaxis": {
           "automargin": true,
           "gridcolor": "white",
           "linecolor": "white",
           "ticks": "",
           "title": {
            "standoff": 15
           },
           "zerolinecolor": "white",
           "zerolinewidth": 2
          },
          "yaxis": {
           "automargin": true,
           "gridcolor": "white",
           "linecolor": "white",
           "ticks": "",
           "title": {
            "standoff": 15
           },
           "zerolinecolor": "white",
           "zerolinewidth": 2
          }
         }
        },
        "title": {
         "text": "INFORMATION-TECHNOLOGY Distribution of Skills"
        },
        "xaxis": {
         "anchor": "y",
         "categoryorder": "total descending",
         "domain": [
          0,
          1
         ],
         "title": {
          "text": "Skills"
         }
        },
        "yaxis": {
         "anchor": "x",
         "domain": [
          0,
          1
         ],
         "title": {
          "text": "Count"
         }
        }
       }
      },
      "text/html": [
       "<div>                            <div id=\"bd3aa29b-0524-4799-892a-e185eef0a753\" class=\"plotly-graph-div\" style=\"height:525px; width:100%;\"></div>            <script type=\"text/javascript\">                require([\"plotly\"], function(Plotly) {                    window.PLOTLYENV=window.PLOTLYENV || {};                                    if (document.getElementById(\"bd3aa29b-0524-4799-892a-e185eef0a753\")) {                    Plotly.newPlot(                        \"bd3aa29b-0524-4799-892a-e185eef0a753\",                        [{\"alignmentgroup\":\"True\",\"hovertemplate\":\"Skills=%{x}<br>Count=%{y}<extra></extra>\",\"legendgroup\":\"\",\"marker\":{\"color\":\"#636efa\",\"pattern\":{\"shape\":\"\"}},\"name\":\"\",\"offsetgroup\":\"\",\"orientation\":\"v\",\"showlegend\":false,\"textposition\":\"auto\",\"x\":[\"support\",\"software\",\"business\",\"security\",\"server\",\"design\",\"database\",\"project management\",\"documentation\",\"operating system\",\"testing\",\"deployment\",\"help desk\",\"monitoring\",\"material\",\"router\",\"mobile\",\"schedule\",\"engineering\",\"linux\",\"marketing\",\"specification\",\"oracle\",\"component\",\"business process\",\"wireless\",\"certificate\",\"computer science\",\"workflow\",\"network security\",\"medium\",\"business administration\",\"framework\",\"release\",\"interaction\",\"computer network\",\"data analysis\",\"finance\",\"accounting\",\"collaboration\",\"scanner\",\"data center\",\"java\",\"terminal\",\"visual basic\",\"library\",\"javascript\",\"business intelligence\",\"visual studio\",\"wireless network\",\"asp net\",\"virtual machine\",\"analytics\",\"data warehouse\",\"mysql\",\"system integration\",\"local area network\",\"tracking system\",\"database design\",\"performance metric\",\"computer hardware\",\"information management\",\"user interface\",\"programming language\",\"python\",\"publishing\",\"diagram\",\"financial system\",\"file system\",\"encryption\",\"ubuntu\",\"data integrity\",\"content management\",\"ethernet\",\"performance monitoring\",\"data processing\",\"android\",\"crystal\",\"web service\",\"shell\",\"computer engineering\",\"system testing\",\"data management\",\"resource allocation\",\"jquery\",\"wide area network\",\"telephony\",\"knowledge base\",\"high availability\",\"front end\",\"relay\",\"unity\",\"customer relationship management\",\"access network\",\"data system\",\"network management\",\"debugging\",\"bash\",\"authentication\",\"bootstrap\",\"wordpress\",\"github\",\"advertising\",\"sorting\",\"data model\",\"multimedia\",\"data validation\",\"data structure\",\"trend analysis\",\"access control\",\"network performance\",\"relational database\",\"complex system\",\"application server\",\"data access\",\"segment\",\"document management system\",\"data file\",\"eclipse\",\"software engineering\",\"play\",\"tableau\",\"perl\",\"google\",\"search engine\",\"data acquisition\",\"computer security\",\"data quality\",\"rotation\",\"azure\",\"user profile\",\"drupal\",\"algorithm\",\"web server\",\"queue\",\"mode\",\"graphic design\",\"decision support system\",\"ecommerce\",\"microcomputer\",\"vmware vsphere\",\"engineering drawing\",\"centos\",\"distributed file system\",\"query language\",\"ai\",\"npm\",\"data sharing\",\"back office\",\"commerce\",\"tower\",\"data retrieval\",\"fusion\",\"data mining\",\"remote control\",\"network interface\",\"task management\",\"data integration\",\"visualization\",\"text editor\",\"code review\",\"email marketing\",\"selenium\",\"response time\",\"box\",\"big data\",\"computer programming\",\"time tracking\",\"workload\",\"scalability\",\"gradle\",\"junit\",\"network architecture\",\"spring\",\"git\",\"object model\",\"algorithm design\",\"enterprise system\",\"grunt\",\"mongodb\",\"cucumber\",\"robot\",\"data cube\",\"data manipulation language\",\"bower\",\"postgresql\",\"performance prediction\",\"cloud storage\",\"font\",\"segmentation\",\"microprocessor\",\"distributed computing\",\"batch processing\",\"management science\",\"mobile computing\",\"bot\",\"echo\",\"cryptography\",\"hibernate\",\"phonegap\",\"signal processing\",\"version control system\",\"jenkins\",\"microcontroller\",\"correctness\",\"angularjs\",\"braintree\",\"smart card\",\"codeigniter\",\"continuous integration\",\"maven\",\"spring boot\",\"database security\",\"intrusion detection system\",\"pattern recognition\",\"computer program\",\"skype\",\"microsoft azure\",\"file storage\",\"electronic engineering\",\"chef\",\"magento\",\"sentry\",\"swift\",\"mechanical engineering\",\"electrical engineering\",\"fedora\",\"devise\",\"password management\",\"chrome\",\"source document\",\"fortran\",\"data transmission\",\"functional testing\",\"adobe photoshop\",\"process engineering\",\"distributed database\",\"microsoft sql server\",\"coordinate system\",\"routing protocol\",\"synchronization\",\"enterprise information security architecture\",\"international trade\",\"visual inspection\",\"simulation\",\"composer\",\"data modeling\",\"electronic data interchange\",\"middleware\",\"code quality\",\"apache tomcat\",\"scripting language\",\"ajax\",\"agile project management\",\"vault\",\"azure storage\",\"electronic document\",\"graphical user interface\",\"fault tolerance\",\"celery\",\"web app\",\"buffer\",\"chemical engineering\",\"trello\",\"supervisory control\",\"confluence\",\"throughput\",\"civil engineering\",\"dropbox\",\"twitter\",\"knowledge management\",\"computer architecture\",\"cataloging\"],\"xaxis\":\"x\",\"y\":[108,103,83,79,76,72,69,58,50,45,44,40,38,35,35,33,31,31,31,28,25,25,22,22,22,22,21,20,20,19,18,17,17,17,15,14,14,14,14,14,12,12,12,12,11,10,10,10,10,9,9,9,9,9,9,8,8,7,7,7,7,7,7,7,7,7,7,6,6,6,6,6,6,5,5,5,5,5,5,5,5,5,5,5,5,5,5,4,4,4,4,4,4,4,4,4,4,4,4,4,4,4,4,4,4,4,4,4,4,4,4,4,4,3,3,3,3,3,3,3,3,3,3,3,3,3,3,3,3,3,3,3,3,3,3,3,2,2,2,2,2,2,2,2,2,2,2,2,2,2,2,2,2,2,2,2,2,2,2,2,2,2,2,2,2,2,2,2,2,1,1,1,1,1,1,1,1,1,1,1,1,1,1,1,1,1,1,1,1,1,1,1,1,1,1,1,1,1,1,1,1,1,1,1,1,1,1,1,1,1,1,1,1,1,1,1,1,1,1,1,1,1,1,1,1,1,1,1,1,1,1,1,1,1,1,1,1,1,1,1,1,1,1,1,1,1,1,1,1,1,1,1,1,1,1,1,1,1,1,1,1,1,1,1,1,1,1,1,1,1,1,1,1],\"yaxis\":\"y\",\"type\":\"bar\"}],                        {\"template\":{\"data\":{\"histogram2dcontour\":[{\"type\":\"histogram2dcontour\",\"colorbar\":{\"outlinewidth\":0,\"ticks\":\"\"},\"colorscale\":[[0.0,\"#0d0887\"],[0.1111111111111111,\"#46039f\"],[0.2222222222222222,\"#7201a8\"],[0.3333333333333333,\"#9c179e\"],[0.4444444444444444,\"#bd3786\"],[0.5555555555555556,\"#d8576b\"],[0.6666666666666666,\"#ed7953\"],[0.7777777777777778,\"#fb9f3a\"],[0.8888888888888888,\"#fdca26\"],[1.0,\"#f0f921\"]]}],\"choropleth\":[{\"type\":\"choropleth\",\"colorbar\":{\"outlinewidth\":0,\"ticks\":\"\"}}],\"histogram2d\":[{\"type\":\"histogram2d\",\"colorbar\":{\"outlinewidth\":0,\"ticks\":\"\"},\"colorscale\":[[0.0,\"#0d0887\"],[0.1111111111111111,\"#46039f\"],[0.2222222222222222,\"#7201a8\"],[0.3333333333333333,\"#9c179e\"],[0.4444444444444444,\"#bd3786\"],[0.5555555555555556,\"#d8576b\"],[0.6666666666666666,\"#ed7953\"],[0.7777777777777778,\"#fb9f3a\"],[0.8888888888888888,\"#fdca26\"],[1.0,\"#f0f921\"]]}],\"heatmap\":[{\"type\":\"heatmap\",\"colorbar\":{\"outlinewidth\":0,\"ticks\":\"\"},\"colorscale\":[[0.0,\"#0d0887\"],[0.1111111111111111,\"#46039f\"],[0.2222222222222222,\"#7201a8\"],[0.3333333333333333,\"#9c179e\"],[0.4444444444444444,\"#bd3786\"],[0.5555555555555556,\"#d8576b\"],[0.6666666666666666,\"#ed7953\"],[0.7777777777777778,\"#fb9f3a\"],[0.8888888888888888,\"#fdca26\"],[1.0,\"#f0f921\"]]}],\"heatmapgl\":[{\"type\":\"heatmapgl\",\"colorbar\":{\"outlinewidth\":0,\"ticks\":\"\"},\"colorscale\":[[0.0,\"#0d0887\"],[0.1111111111111111,\"#46039f\"],[0.2222222222222222,\"#7201a8\"],[0.3333333333333333,\"#9c179e\"],[0.4444444444444444,\"#bd3786\"],[0.5555555555555556,\"#d8576b\"],[0.6666666666666666,\"#ed7953\"],[0.7777777777777778,\"#fb9f3a\"],[0.8888888888888888,\"#fdca26\"],[1.0,\"#f0f921\"]]}],\"contourcarpet\":[{\"type\":\"contourcarpet\",\"colorbar\":{\"outlinewidth\":0,\"ticks\":\"\"}}],\"contour\":[{\"type\":\"contour\",\"colorbar\":{\"outlinewidth\":0,\"ticks\":\"\"},\"colorscale\":[[0.0,\"#0d0887\"],[0.1111111111111111,\"#46039f\"],[0.2222222222222222,\"#7201a8\"],[0.3333333333333333,\"#9c179e\"],[0.4444444444444444,\"#bd3786\"],[0.5555555555555556,\"#d8576b\"],[0.6666666666666666,\"#ed7953\"],[0.7777777777777778,\"#fb9f3a\"],[0.8888888888888888,\"#fdca26\"],[1.0,\"#f0f921\"]]}],\"surface\":[{\"type\":\"surface\",\"colorbar\":{\"outlinewidth\":0,\"ticks\":\"\"},\"colorscale\":[[0.0,\"#0d0887\"],[0.1111111111111111,\"#46039f\"],[0.2222222222222222,\"#7201a8\"],[0.3333333333333333,\"#9c179e\"],[0.4444444444444444,\"#bd3786\"],[0.5555555555555556,\"#d8576b\"],[0.6666666666666666,\"#ed7953\"],[0.7777777777777778,\"#fb9f3a\"],[0.8888888888888888,\"#fdca26\"],[1.0,\"#f0f921\"]]}],\"mesh3d\":[{\"type\":\"mesh3d\",\"colorbar\":{\"outlinewidth\":0,\"ticks\":\"\"}}],\"scatter\":[{\"fillpattern\":{\"fillmode\":\"overlay\",\"size\":10,\"solidity\":0.2},\"type\":\"scatter\"}],\"parcoords\":[{\"type\":\"parcoords\",\"line\":{\"colorbar\":{\"outlinewidth\":0,\"ticks\":\"\"}}}],\"scatterpolargl\":[{\"type\":\"scatterpolargl\",\"marker\":{\"colorbar\":{\"outlinewidth\":0,\"ticks\":\"\"}}}],\"bar\":[{\"error_x\":{\"color\":\"#2a3f5f\"},\"error_y\":{\"color\":\"#2a3f5f\"},\"marker\":{\"line\":{\"color\":\"#E5ECF6\",\"width\":0.5},\"pattern\":{\"fillmode\":\"overlay\",\"size\":10,\"solidity\":0.2}},\"type\":\"bar\"}],\"scattergeo\":[{\"type\":\"scattergeo\",\"marker\":{\"colorbar\":{\"outlinewidth\":0,\"ticks\":\"\"}}}],\"scatterpolar\":[{\"type\":\"scatterpolar\",\"marker\":{\"colorbar\":{\"outlinewidth\":0,\"ticks\":\"\"}}}],\"histogram\":[{\"marker\":{\"pattern\":{\"fillmode\":\"overlay\",\"size\":10,\"solidity\":0.2}},\"type\":\"histogram\"}],\"scattergl\":[{\"type\":\"scattergl\",\"marker\":{\"colorbar\":{\"outlinewidth\":0,\"ticks\":\"\"}}}],\"scatter3d\":[{\"type\":\"scatter3d\",\"line\":{\"colorbar\":{\"outlinewidth\":0,\"ticks\":\"\"}},\"marker\":{\"colorbar\":{\"outlinewidth\":0,\"ticks\":\"\"}}}],\"scattermapbox\":[{\"type\":\"scattermapbox\",\"marker\":{\"colorbar\":{\"outlinewidth\":0,\"ticks\":\"\"}}}],\"scatterternary\":[{\"type\":\"scatterternary\",\"marker\":{\"colorbar\":{\"outlinewidth\":0,\"ticks\":\"\"}}}],\"scattercarpet\":[{\"type\":\"scattercarpet\",\"marker\":{\"colorbar\":{\"outlinewidth\":0,\"ticks\":\"\"}}}],\"carpet\":[{\"aaxis\":{\"endlinecolor\":\"#2a3f5f\",\"gridcolor\":\"white\",\"linecolor\":\"white\",\"minorgridcolor\":\"white\",\"startlinecolor\":\"#2a3f5f\"},\"baxis\":{\"endlinecolor\":\"#2a3f5f\",\"gridcolor\":\"white\",\"linecolor\":\"white\",\"minorgridcolor\":\"white\",\"startlinecolor\":\"#2a3f5f\"},\"type\":\"carpet\"}],\"table\":[{\"cells\":{\"fill\":{\"color\":\"#EBF0F8\"},\"line\":{\"color\":\"white\"}},\"header\":{\"fill\":{\"color\":\"#C8D4E3\"},\"line\":{\"color\":\"white\"}},\"type\":\"table\"}],\"barpolar\":[{\"marker\":{\"line\":{\"color\":\"#E5ECF6\",\"width\":0.5},\"pattern\":{\"fillmode\":\"overlay\",\"size\":10,\"solidity\":0.2}},\"type\":\"barpolar\"}],\"pie\":[{\"automargin\":true,\"type\":\"pie\"}]},\"layout\":{\"autotypenumbers\":\"strict\",\"colorway\":[\"#636efa\",\"#EF553B\",\"#00cc96\",\"#ab63fa\",\"#FFA15A\",\"#19d3f3\",\"#FF6692\",\"#B6E880\",\"#FF97FF\",\"#FECB52\"],\"font\":{\"color\":\"#2a3f5f\"},\"hovermode\":\"closest\",\"hoverlabel\":{\"align\":\"left\"},\"paper_bgcolor\":\"white\",\"plot_bgcolor\":\"#E5ECF6\",\"polar\":{\"bgcolor\":\"#E5ECF6\",\"angularaxis\":{\"gridcolor\":\"white\",\"linecolor\":\"white\",\"ticks\":\"\"},\"radialaxis\":{\"gridcolor\":\"white\",\"linecolor\":\"white\",\"ticks\":\"\"}},\"ternary\":{\"bgcolor\":\"#E5ECF6\",\"aaxis\":{\"gridcolor\":\"white\",\"linecolor\":\"white\",\"ticks\":\"\"},\"baxis\":{\"gridcolor\":\"white\",\"linecolor\":\"white\",\"ticks\":\"\"},\"caxis\":{\"gridcolor\":\"white\",\"linecolor\":\"white\",\"ticks\":\"\"}},\"coloraxis\":{\"colorbar\":{\"outlinewidth\":0,\"ticks\":\"\"}},\"colorscale\":{\"sequential\":[[0.0,\"#0d0887\"],[0.1111111111111111,\"#46039f\"],[0.2222222222222222,\"#7201a8\"],[0.3333333333333333,\"#9c179e\"],[0.4444444444444444,\"#bd3786\"],[0.5555555555555556,\"#d8576b\"],[0.6666666666666666,\"#ed7953\"],[0.7777777777777778,\"#fb9f3a\"],[0.8888888888888888,\"#fdca26\"],[1.0,\"#f0f921\"]],\"sequentialminus\":[[0.0,\"#0d0887\"],[0.1111111111111111,\"#46039f\"],[0.2222222222222222,\"#7201a8\"],[0.3333333333333333,\"#9c179e\"],[0.4444444444444444,\"#bd3786\"],[0.5555555555555556,\"#d8576b\"],[0.6666666666666666,\"#ed7953\"],[0.7777777777777778,\"#fb9f3a\"],[0.8888888888888888,\"#fdca26\"],[1.0,\"#f0f921\"]],\"diverging\":[[0,\"#8e0152\"],[0.1,\"#c51b7d\"],[0.2,\"#de77ae\"],[0.3,\"#f1b6da\"],[0.4,\"#fde0ef\"],[0.5,\"#f7f7f7\"],[0.6,\"#e6f5d0\"],[0.7,\"#b8e186\"],[0.8,\"#7fbc41\"],[0.9,\"#4d9221\"],[1,\"#276419\"]]},\"xaxis\":{\"gridcolor\":\"white\",\"linecolor\":\"white\",\"ticks\":\"\",\"title\":{\"standoff\":15},\"zerolinecolor\":\"white\",\"automargin\":true,\"zerolinewidth\":2},\"yaxis\":{\"gridcolor\":\"white\",\"linecolor\":\"white\",\"ticks\":\"\",\"title\":{\"standoff\":15},\"zerolinecolor\":\"white\",\"automargin\":true,\"zerolinewidth\":2},\"scene\":{\"xaxis\":{\"backgroundcolor\":\"#E5ECF6\",\"gridcolor\":\"white\",\"linecolor\":\"white\",\"showbackground\":true,\"ticks\":\"\",\"zerolinecolor\":\"white\",\"gridwidth\":2},\"yaxis\":{\"backgroundcolor\":\"#E5ECF6\",\"gridcolor\":\"white\",\"linecolor\":\"white\",\"showbackground\":true,\"ticks\":\"\",\"zerolinecolor\":\"white\",\"gridwidth\":2},\"zaxis\":{\"backgroundcolor\":\"#E5ECF6\",\"gridcolor\":\"white\",\"linecolor\":\"white\",\"showbackground\":true,\"ticks\":\"\",\"zerolinecolor\":\"white\",\"gridwidth\":2}},\"shapedefaults\":{\"line\":{\"color\":\"#2a3f5f\"}},\"annotationdefaults\":{\"arrowcolor\":\"#2a3f5f\",\"arrowhead\":0,\"arrowwidth\":1},\"geo\":{\"bgcolor\":\"white\",\"landcolor\":\"#E5ECF6\",\"subunitcolor\":\"white\",\"showland\":true,\"showlakes\":true,\"lakecolor\":\"white\"},\"title\":{\"x\":0.05},\"mapbox\":{\"style\":\"light\"}}},\"xaxis\":{\"anchor\":\"y\",\"domain\":[0.0,1.0],\"title\":{\"text\":\"Skills\"},\"categoryorder\":\"total descending\"},\"yaxis\":{\"anchor\":\"x\",\"domain\":[0.0,1.0],\"title\":{\"text\":\"Count\"}},\"legend\":{\"tracegroupgap\":0},\"title\":{\"text\":\"INFORMATION-TECHNOLOGY Distribution of Skills\"},\"barmode\":\"relative\"},                        {\"responsive\": true}                    ).then(function(){\n",
       "                            \n",
       "var gd = document.getElementById('bd3aa29b-0524-4799-892a-e185eef0a753');\n",
       "var x = new MutationObserver(function (mutations, observer) {{\n",
       "        var display = window.getComputedStyle(gd).display;\n",
       "        if (!display || display === 'none') {{\n",
       "            console.log([gd, 'removed!']);\n",
       "            Plotly.purge(gd);\n",
       "            observer.disconnect();\n",
       "        }}\n",
       "}});\n",
       "\n",
       "// Listen for the removal of the full notebook cells\n",
       "var notebookContainer = gd.closest('#notebook-container');\n",
       "if (notebookContainer) {{\n",
       "    x.observe(notebookContainer, {childList: true});\n",
       "}}\n",
       "\n",
       "// Listen for the clearing of the current output cell\n",
       "var outputEl = gd.closest('.output');\n",
       "if (outputEl) {{\n",
       "    x.observe(outputEl, {childList: true});\n",
       "}}\n",
       "\n",
       "                        })                };                });            </script>        </div>"
      ]
     },
     "metadata": {},
     "output_type": "display_data"
    }
   ],
   "source": [
    "import pandas as pd\n",
    "import plotly.express as px\n",
    "import numpy as np\n",
    "\n",
    "# Define the job category to filter by\n",
    "Job_Category = \"INFORMATION-TECHNOLOGY\"\n",
    "\n",
    "# Filter the data to only include the specified job category\n",
    "fltr = data[data[\"Category\"] == Job_Category][\"skills\"]\n",
    "\n",
    "# Initialize a list to store all skills\n",
    "Total_skills = []\n",
    "\n",
    "# Extract skills from the filtered data\n",
    "for x in fltr:\n",
    "    for i in x:\n",
    "        Total_skills.append(i)\n",
    "\n",
    "# Convert the list of skills to a DataFrame for easier manipulation\n",
    "skills_df = pd.DataFrame(Total_skills, columns=['Skill'])\n",
    "\n",
    "# Count the occurrences of each skill\n",
    "skills_count = skills_df['Skill'].value_counts().reset_index()\n",
    "skills_count.columns = ['Skill', 'Count']\n",
    "\n",
    "# Plot the distribution of skills using a histogram\n",
    "fig = px.bar(\n",
    "    skills_count,\n",
    "    x='Skill',\n",
    "    y='Count',\n",
    "    labels={\"Skill\": \"Skills\", \"Count\": \"Count\"},\n",
    "    title=f\"{Job_Category} Distribution of Skills\"\n",
    ").update_xaxes(categoryorder=\"total descending\")\n",
    "\n",
    "# Show the plot\n",
    "fig.show()\n"
   ]
  },
  {
   "cell_type": "markdown",
   "id": "b403024b",
   "metadata": {},
   "source": [
    "## Most used words\n",
    "In this part, I am going to display the most used words in the Resume filter by job category. In Information technology, the most words used are system, network, and database. We can also discover more patterns by exploring the word cloud below."
   ]
  },
  {
   "cell_type": "code",
   "execution_count": 47,
   "id": "28dee695",
   "metadata": {},
   "outputs": [
    {
     "data": {
      "image/png": "[encoded data removed]",
      "text/plain": [
       "<Figure size 800x800 with 1 Axes>"
      ]
     },
     "metadata": {},
     "output_type": "display_data"
    }
   ],
   "source": [
    "# Concatenate all resume texts for the specified job category\n",
    "text = \"\"\n",
    "for i in data[data[\"Category\"] == Job_Category][\"Clean_Resume\"].values:\n",
    "    text += i + \" \"\n",
    "\n",
    "# Create a circular mask for the word cloud\n",
    "x, y = np.ogrid[:300, :300]\n",
    "mask = (x - 150) ** 2 + (y - 150) ** 2 > 130 ** 2\n",
    "mask = 255 * mask.astype(int)\n",
    "\n",
    "# Generate the word cloud\n",
    "wc = WordCloud(\n",
    "    width=800,\n",
    "    height=800,\n",
    "    background_color=\"white\",\n",
    "    min_font_size=6,\n",
    "    repeat=True,\n",
    "    mask=mask,\n",
    ").generate(text)\n",
    "\n",
    "# Plot the word cloud\n",
    "plt.figure(figsize=(8, 8))\n",
    "plt.axis(\"off\")\n",
    "plt.imshow(wc, interpolation=\"bilinear\")\n",
    "plt.title(f\"Most Used Words in {Job_Category} Resumes\", fontsize=20)\n",
    "plt.show()\n"
   ]
  },
  {
   "cell_type": "markdown",
   "id": "12aadc37",
   "metadata": {},
   "source": [
    "## Entity Recognition\n",
    "We can also display various entities within our raw text by using spaCy displacy.render. I am in love with this function as it is an amazing way to look at your entire document and discover SKILL or GEP within your Resume."
   ]
  },
  {
   "cell_type": "code",
   "execution_count": 48,
   "id": "df6a9694",
   "metadata": {},
   "outputs": [
    {
     "data": {
      "text/html": [
       "<span class=\"tex2jax_ignore\"><div class=\"entities\" style=\"line-height: 2.5; direction: ltr\">         HR ADMINISTRATOR/\n",
       "<mark class=\"entity\" style=\"background: #ddd; padding: 0.45em 0.6em; margin: 0 0.25em; line-height: 1; border-radius: 0.35em;\">\n",
       "    MARKETING\n",
       "    <span style=\"font-size: 0.8em; font-weight: bold; line-height: 1; border-radius: 0.35em; vertical-align: middle; margin-left: 0.5rem\">SKILL</span>\n",
       "</mark>\n",
       " ASSOCIATE<br><br>HR ADMINISTRATOR       Summary     Dedicated Customer Service Manager with \n",
       "<mark class=\"entity\" style=\"background: #bfe1d9; padding: 0.45em 0.6em; margin: 0 0.25em; line-height: 1; border-radius: 0.35em;\">\n",
       "    15+ years\n",
       "    <span style=\"font-size: 0.8em; font-weight: bold; line-height: 1; border-radius: 0.35em; vertical-align: middle; margin-left: 0.5rem\">DATE</span>\n",
       "</mark>\n",
       " of experience in \n",
       "<mark class=\"entity\" style=\"background: #7aecec; padding: 0.45em 0.6em; margin: 0 0.25em; line-height: 1; border-radius: 0.35em;\">\n",
       "    Hospitality and Customer Service Management\n",
       "    <span style=\"font-size: 0.8em; font-weight: bold; line-height: 1; border-radius: 0.35em; vertical-align: middle; margin-left: 0.5rem\">ORG</span>\n",
       "</mark>\n",
       ".   Respected builder and leader of customer-focused teams; strives to instill a shared, enthusiastic commitment to customer service.         Highlights         Focused on customer satisfaction  \n",
       "<mark class=\"entity\" style=\"background: #7aecec; padding: 0.45em 0.6em; margin: 0 0.25em; line-height: 1; border-radius: 0.35em;\">\n",
       "    Team\n",
       "    <span style=\"font-size: 0.8em; font-weight: bold; line-height: 1; border-radius: 0.35em; vertical-align: middle; margin-left: 0.5rem\">ORG</span>\n",
       "</mark>\n",
       " management  \n",
       "<mark class=\"entity\" style=\"background: #ddd; padding: 0.45em 0.6em; margin: 0 0.25em; line-height: 1; border-radius: 0.35em;\">\n",
       "    Marketing\n",
       "    <span style=\"font-size: 0.8em; font-weight: bold; line-height: 1; border-radius: 0.35em; vertical-align: middle; margin-left: 0.5rem\">SKILL</span>\n",
       "</mark>\n",
       " savvy  Conflict resolution techniques     Training and development  Skilled multi-tasker  Client relations specialist           \n",
       "<mark class=\"entity\" style=\"background: #aa9cfc; padding: 0.45em 0.6em; margin: 0 0.25em; line-height: 1; border-radius: 0.35em;\">\n",
       "    Accomplishments      \n",
       "    <span style=\"font-size: 0.8em; font-weight: bold; line-height: 1; border-radius: 0.35em; vertical-align: middle; margin-left: 0.5rem\">PERSON</span>\n",
       "</mark>\n",
       "\n",
       "<mark class=\"entity\" style=\"background: #feca74; padding: 0.45em 0.6em; margin: 0 0.25em; line-height: 1; border-radius: 0.35em;\">\n",
       "    Missouri\n",
       "    <span style=\"font-size: 0.8em; font-weight: bold; line-height: 1; border-radius: 0.35em; vertical-align: middle; margin-left: 0.5rem\">GPE</span>\n",
       "</mark>\n",
       " DOT Supervisor Training Certification  Certified by \n",
       "<mark class=\"entity\" style=\"background: #7aecec; padding: 0.45em 0.6em; margin: 0 0.25em; line-height: 1; border-radius: 0.35em;\">\n",
       "    IHG\n",
       "    <span style=\"font-size: 0.8em; font-weight: bold; line-height: 1; border-radius: 0.35em; vertical-align: middle; margin-left: 0.5rem\">ORG</span>\n",
       "</mark>\n",
       " in \n",
       "<mark class=\"entity\" style=\"background: #7aecec; padding: 0.45em 0.6em; margin: 0 0.25em; line-height: 1; border-radius: 0.35em;\">\n",
       "    Customer Loyalty and Marketing by Segment   \n",
       "    <span style=\"font-size: 0.8em; font-weight: bold; line-height: 1; border-radius: 0.35em; vertical-align: middle; margin-left: 0.5rem\">ORG</span>\n",
       "</mark>\n",
       "Hilton Worldwide General Manager Training Certification  Accomplished Trainer for cross \n",
       "<mark class=\"entity\" style=\"background: #ddd; padding: 0.45em 0.6em; margin: 0 0.25em; line-height: 1; border-radius: 0.35em;\">\n",
       "    server\n",
       "    <span style=\"font-size: 0.8em; font-weight: bold; line-height: 1; border-radius: 0.35em; vertical-align: middle; margin-left: 0.5rem\">SKILL</span>\n",
       "</mark>\n",
       " hospitality systems such as    \n",
       "<mark class=\"entity\" style=\"background: #aa9cfc; padding: 0.45em 0.6em; margin: 0 0.25em; line-height: 1; border-radius: 0.35em;\">\n",
       "    Hilton OnQ\n",
       "    <span style=\"font-size: 0.8em; font-weight: bold; line-height: 1; border-radius: 0.35em; vertical-align: middle; margin-left: 0.5rem\">PERSON</span>\n",
       "</mark>\n",
       "  ,   \n",
       "<mark class=\"entity\" style=\"background: #7aecec; padding: 0.45em 0.6em; margin: 0 0.25em; line-height: 1; border-radius: 0.35em;\">\n",
       "    Micros    Opera PMS\n",
       "    <span style=\"font-size: 0.8em; font-weight: bold; line-height: 1; border-radius: 0.35em; vertical-align: middle; margin-left: 0.5rem\">ORG</span>\n",
       "</mark>\n",
       "   , Fidelio    OPERA    Reservation System (ORS) ,   Holidex    Completed courses and seminars in customer service, sales strategies, inventory control, loss prevention, safety, time management, leadership and performance assessment.        Experience      HR Administrator/\n",
       "<mark class=\"entity\" style=\"background: #ddd; padding: 0.45em 0.6em; margin: 0 0.25em; line-height: 1; border-radius: 0.35em;\">\n",
       "    Marketing\n",
       "    <span style=\"font-size: 0.8em; font-weight: bold; line-height: 1; border-radius: 0.35em; vertical-align: middle; margin-left: 0.5rem\">SKILL</span>\n",
       "</mark>\n",
       " Associate<br><br>HR Administrator     \n",
       "<mark class=\"entity\" style=\"background: #bfe1d9; padding: 0.45em 0.6em; margin: 0 0.25em; line-height: 1; border-radius: 0.35em;\">\n",
       "    Dec 2013\n",
       "    <span style=\"font-size: 0.8em; font-weight: bold; line-height: 1; border-radius: 0.35em; vertical-align: middle; margin-left: 0.5rem\">DATE</span>\n",
       "</mark>\n",
       "   to   Current      Company Name   －   City  ,   \n",
       "<mark class=\"entity\" style=\"background: #7aecec; padding: 0.45em 0.6em; margin: 0 0.25em; line-height: 1; border-radius: 0.35em;\">\n",
       "    State\n",
       "    <span style=\"font-size: 0.8em; font-weight: bold; line-height: 1; border-radius: 0.35em; vertical-align: middle; margin-left: 0.5rem\">ORG</span>\n",
       "</mark>\n",
       "     Helps to develop policies, directs and coordinates activities such as employment, compensation, labor relations, benefits, training, and employee services.  Prepares employee separation notices and related \n",
       "<mark class=\"entity\" style=\"background: #ddd; padding: 0.45em 0.6em; margin: 0 0.25em; line-height: 1; border-radius: 0.35em;\">\n",
       "    documentation\n",
       "    <span style=\"font-size: 0.8em; font-weight: bold; line-height: 1; border-radius: 0.35em; vertical-align: middle; margin-left: 0.5rem\">SKILL</span>\n",
       "</mark>\n",
       "  Keeps records of benefits plans participation such as insurance and pension plan, personnel transactions such as hires, promotions, transfers, performance reviews, and terminations, and employee statistics for government reporting.  Advises management in appropriate resolution of employee relations issues.  Administers benefits programs such as life, health, dental, insurance, pension plans, vacation, sick leave, leave of absence, and employee assistance.     \n",
       "<mark class=\"entity\" style=\"background: #7aecec; padding: 0.45em 0.6em; margin: 0 0.25em; line-height: 1; border-radius: 0.35em;\">\n",
       "    Marketing Associate     Designed\n",
       "    <span style=\"font-size: 0.8em; font-weight: bold; line-height: 1; border-radius: 0.35em; vertical-align: middle; margin-left: 0.5rem\">ORG</span>\n",
       "</mark>\n",
       " and created \n",
       "<mark class=\"entity\" style=\"background: #ddd; padding: 0.45em 0.6em; margin: 0 0.25em; line-height: 1; border-radius: 0.35em;\">\n",
       "    marketing\n",
       "    <span style=\"font-size: 0.8em; font-weight: bold; line-height: 1; border-radius: 0.35em; vertical-align: middle; margin-left: 0.5rem\">SKILL</span>\n",
       "</mark>\n",
       " collateral for sales meetings, trade shows and company executives.  Managed the in-house \n",
       "<mark class=\"entity\" style=\"background: #ddd; padding: 0.45em 0.6em; margin: 0 0.25em; line-height: 1; border-radius: 0.35em;\">\n",
       "    advertising\n",
       "    <span style=\"font-size: 0.8em; font-weight: bold; line-height: 1; border-radius: 0.35em; vertical-align: middle; margin-left: 0.5rem\">SKILL</span>\n",
       "</mark>\n",
       " program consisting of print and media collateral pieces.  Assisted in the complete \n",
       "<mark class=\"entity\" style=\"background: #ddd; padding: 0.45em 0.6em; margin: 0 0.25em; line-height: 1; border-radius: 0.35em;\">\n",
       "    design\n",
       "    <span style=\"font-size: 0.8em; font-weight: bold; line-height: 1; border-radius: 0.35em; vertical-align: middle; margin-left: 0.5rem\">SKILL</span>\n",
       "</mark>\n",
       " and launch of the company's website in \n",
       "<mark class=\"entity\" style=\"background: #bfe1d9; padding: 0.45em 0.6em; margin: 0 0.25em; line-height: 1; border-radius: 0.35em;\">\n",
       "    2 months\n",
       "    <span style=\"font-size: 0.8em; font-weight: bold; line-height: 1; border-radius: 0.35em; vertical-align: middle; margin-left: 0.5rem\">DATE</span>\n",
       "</mark>\n",
       ".  Created an official company page on \n",
       "<mark class=\"entity\" style=\"background: #7aecec; padding: 0.45em 0.6em; margin: 0 0.25em; line-height: 1; border-radius: 0.35em;\">\n",
       "    Facebook\n",
       "    <span style=\"font-size: 0.8em; font-weight: bold; line-height: 1; border-radius: 0.35em; vertical-align: middle; margin-left: 0.5rem\">ORG</span>\n",
       "</mark>\n",
       " to facilitate \n",
       "<mark class=\"entity\" style=\"background: #ddd; padding: 0.45em 0.6em; margin: 0 0.25em; line-height: 1; border-radius: 0.35em;\">\n",
       "    interaction\n",
       "    <span style=\"font-size: 0.8em; font-weight: bold; line-height: 1; border-radius: 0.35em; vertical-align: middle; margin-left: 0.5rem\">SKILL</span>\n",
       "</mark>\n",
       " with customers.  Analyzed ratings and programming features of competitors to evaluate the effectiveness of \n",
       "<mark class=\"entity\" style=\"background: #ddd; padding: 0.45em 0.6em; margin: 0 0.25em; line-height: 1; border-radius: 0.35em;\">\n",
       "    marketing\n",
       "    <span style=\"font-size: 0.8em; font-weight: bold; line-height: 1; border-radius: 0.35em; vertical-align: middle; margin-left: 0.5rem\">SKILL</span>\n",
       "</mark>\n",
       " strategies.         \n",
       "<mark class=\"entity\" style=\"background: #7aecec; padding: 0.45em 0.6em; margin: 0 0.25em; line-height: 1; border-radius: 0.35em;\">\n",
       "    Advanced Medical\n",
       "    <span style=\"font-size: 0.8em; font-weight: bold; line-height: 1; border-radius: 0.35em; vertical-align: middle; margin-left: 0.5rem\">ORG</span>\n",
       "</mark>\n",
       " Claims Analyst     \n",
       "<mark class=\"entity\" style=\"background: #bfe1d9; padding: 0.45em 0.6em; margin: 0 0.25em; line-height: 1; border-radius: 0.35em;\">\n",
       "    Mar 2012\n",
       "    <span style=\"font-size: 0.8em; font-weight: bold; line-height: 1; border-radius: 0.35em; vertical-align: middle; margin-left: 0.5rem\">DATE</span>\n",
       "</mark>\n",
       "   to   \n",
       "<mark class=\"entity\" style=\"background: #bfe1d9; padding: 0.45em 0.6em; margin: 0 0.25em; line-height: 1; border-radius: 0.35em;\">\n",
       "    Dec 2013\n",
       "    <span style=\"font-size: 0.8em; font-weight: bold; line-height: 1; border-radius: 0.35em; vertical-align: middle; margin-left: 0.5rem\">DATE</span>\n",
       "</mark>\n",
       "      Company Name   －   City  ,   \n",
       "<mark class=\"entity\" style=\"background: #7aecec; padding: 0.45em 0.6em; margin: 0 0.25em; line-height: 1; border-radius: 0.35em;\">\n",
       "    State\n",
       "    <span style=\"font-size: 0.8em; font-weight: bold; line-height: 1; border-radius: 0.35em; vertical-align: middle; margin-left: 0.5rem\">ORG</span>\n",
       "</mark>\n",
       "     Reviewed medical bills for the accuracy of the treatments, tests, and hospital stays prior to sanctioning the claims.  Trained to interpret the codes (ICD-9, CPT) and terminology commonly used in medical billing to fully understand the paperwork that is submitted by healthcare providers.  Required to have organizational and analytical skills as well as computer skills, knowledge of medical terminology and procedures, statistics, billing standards, \n",
       "<mark class=\"entity\" style=\"background: #ddd; padding: 0.45em 0.6em; margin: 0 0.25em; line-height: 1; border-radius: 0.35em;\">\n",
       "    data analysis\n",
       "    <span style=\"font-size: 0.8em; font-weight: bold; line-height: 1; border-radius: 0.35em; vertical-align: middle; margin-left: 0.5rem\">SKILL</span>\n",
       "</mark>\n",
       " and laws regarding medical billing.         Assistant General Manager     \n",
       "<mark class=\"entity\" style=\"background: #bfe1d9; padding: 0.45em 0.6em; margin: 0 0.25em; line-height: 1; border-radius: 0.35em;\">\n",
       "    Jun 2010\n",
       "    <span style=\"font-size: 0.8em; font-weight: bold; line-height: 1; border-radius: 0.35em; vertical-align: middle; margin-left: 0.5rem\">DATE</span>\n",
       "</mark>\n",
       "   to   \n",
       "<mark class=\"entity\" style=\"background: #bfe1d9; padding: 0.45em 0.6em; margin: 0 0.25em; line-height: 1; border-radius: 0.35em;\">\n",
       "    Dec 2010\n",
       "    <span style=\"font-size: 0.8em; font-weight: bold; line-height: 1; border-radius: 0.35em; vertical-align: middle; margin-left: 0.5rem\">DATE</span>\n",
       "</mark>\n",
       "      Company Name   －   City  ,   \n",
       "<mark class=\"entity\" style=\"background: #7aecec; padding: 0.45em 0.6em; margin: 0 0.25em; line-height: 1; border-radius: 0.35em;\">\n",
       "    State\n",
       "    <span style=\"font-size: 0.8em; font-weight: bold; line-height: 1; border-radius: 0.35em; vertical-align: middle; margin-left: 0.5rem\">ORG</span>\n",
       "</mark>\n",
       "     Performed duties including but not limited to, budgeting and financial management, \n",
       "<mark class=\"entity\" style=\"background: #ddd; padding: 0.45em 0.6em; margin: 0 0.25em; line-height: 1; border-radius: 0.35em;\">\n",
       "    accounting\n",
       "    <span style=\"font-size: 0.8em; font-weight: bold; line-height: 1; border-radius: 0.35em; vertical-align: middle; margin-left: 0.5rem\">SKILL</span>\n",
       "</mark>\n",
       ", human resources, payroll and purchasing.  Established and maintained close working relationships with all departments of the hotel to ensure maximum operation, productivity, morale and guest service.  Handled \n",
       "<mark class=\"entity\" style=\"background: #bfe1d9; padding: 0.45em 0.6em; margin: 0 0.25em; line-height: 1; border-radius: 0.35em;\">\n",
       "    daily\n",
       "    <span style=\"font-size: 0.8em; font-weight: bold; line-height: 1; border-radius: 0.35em; vertical-align: middle; margin-left: 0.5rem\">DATE</span>\n",
       "</mark>\n",
       " operations and reported directly to the corporate office.  Hired and trained staff on overall objectives and goals with an emphasis on high customer service.  \n",
       "<mark class=\"entity\" style=\"background: #7aecec; padding: 0.45em 0.6em; margin: 0 0.25em; line-height: 1; border-radius: 0.35em;\">\n",
       "    Marketing and Advertising\n",
       "    <span style=\"font-size: 0.8em; font-weight: bold; line-height: 1; border-radius: 0.35em; vertical-align: middle; margin-left: 0.5rem\">ORG</span>\n",
       "</mark>\n",
       ", working on public relations with the media, government and local businesses and \n",
       "<mark class=\"entity\" style=\"background: #7aecec; padding: 0.45em 0.6em; margin: 0 0.25em; line-height: 1; border-radius: 0.35em;\">\n",
       "    Chamber of Commerce\n",
       "    <span style=\"font-size: 0.8em; font-weight: bold; line-height: 1; border-radius: 0.35em; vertical-align: middle; margin-left: 0.5rem\">ORG</span>\n",
       "</mark>\n",
       ".         Executive \n",
       "<mark class=\"entity\" style=\"background: #ddd; padding: 0.45em 0.6em; margin: 0 0.25em; line-height: 1; border-radius: 0.35em;\">\n",
       "    Support\n",
       "    <span style=\"font-size: 0.8em; font-weight: bold; line-height: 1; border-radius: 0.35em; vertical-align: middle; margin-left: 0.5rem\">SKILL</span>\n",
       "</mark>\n",
       " / \n",
       "<mark class=\"entity\" style=\"background: #ddd; padding: 0.45em 0.6em; margin: 0 0.25em; line-height: 1; border-radius: 0.35em;\">\n",
       "    Marketing\n",
       "    <span style=\"font-size: 0.8em; font-weight: bold; line-height: 1; border-radius: 0.35em; vertical-align: middle; margin-left: 0.5rem\">SKILL</span>\n",
       "</mark>\n",
       " Assistant     \n",
       "<mark class=\"entity\" style=\"background: #bfe1d9; padding: 0.45em 0.6em; margin: 0 0.25em; line-height: 1; border-radius: 0.35em;\">\n",
       "    Jul 2007\n",
       "    <span style=\"font-size: 0.8em; font-weight: bold; line-height: 1; border-radius: 0.35em; vertical-align: middle; margin-left: 0.5rem\">DATE</span>\n",
       "</mark>\n",
       "   to   \n",
       "<mark class=\"entity\" style=\"background: #bfe1d9; padding: 0.45em 0.6em; margin: 0 0.25em; line-height: 1; border-radius: 0.35em;\">\n",
       "    Jun 2010\n",
       "    <span style=\"font-size: 0.8em; font-weight: bold; line-height: 1; border-radius: 0.35em; vertical-align: middle; margin-left: 0.5rem\">DATE</span>\n",
       "</mark>\n",
       "      Company Name   －   City  ,   \n",
       "<mark class=\"entity\" style=\"background: #7aecec; padding: 0.45em 0.6em; margin: 0 0.25em; line-height: 1; border-radius: 0.35em;\">\n",
       "    State\n",
       "    <span style=\"font-size: 0.8em; font-weight: bold; line-height: 1; border-radius: 0.35em; vertical-align: middle; margin-left: 0.5rem\">ORG</span>\n",
       "</mark>\n",
       "     Provided assistance to various department heads - Executive, \n",
       "<mark class=\"entity\" style=\"background: #ddd; padding: 0.45em 0.6em; margin: 0 0.25em; line-height: 1; border-radius: 0.35em;\">\n",
       "    Marketing\n",
       "    <span style=\"font-size: 0.8em; font-weight: bold; line-height: 1; border-radius: 0.35em; vertical-align: middle; margin-left: 0.5rem\">SKILL</span>\n",
       "</mark>\n",
       ", \n",
       "<mark class=\"entity\" style=\"background: #7aecec; padding: 0.45em 0.6em; margin: 0 0.25em; line-height: 1; border-radius: 0.35em;\">\n",
       "    Customer Service\n",
       "    <span style=\"font-size: 0.8em; font-weight: bold; line-height: 1; border-radius: 0.35em; vertical-align: middle; margin-left: 0.5rem\">ORG</span>\n",
       "</mark>\n",
       ", \n",
       "<mark class=\"entity\" style=\"background: #7aecec; padding: 0.45em 0.6em; margin: 0 0.25em; line-height: 1; border-radius: 0.35em;\">\n",
       "    Human Resources\n",
       "    <span style=\"font-size: 0.8em; font-weight: bold; line-height: 1; border-radius: 0.35em; vertical-align: middle; margin-left: 0.5rem\">ORG</span>\n",
       "</mark>\n",
       ".  Managed front-end operations to ensure friendly and efficient transactions.  Ensured the \n",
       "<mark class=\"entity\" style=\"background: #ddd; padding: 0.45em 0.6em; margin: 0 0.25em; line-height: 1; border-radius: 0.35em;\">\n",
       "    swift\n",
       "    <span style=\"font-size: 0.8em; font-weight: bold; line-height: 1; border-radius: 0.35em; vertical-align: middle; margin-left: 0.5rem\">SKILL</span>\n",
       "</mark>\n",
       " resolution of customer issues to preserve customer loyalty while complying with company policies.  Exemplified the \n",
       "<mark class=\"entity\" style=\"background: #e4e7d2; padding: 0.45em 0.6em; margin: 0 0.25em; line-height: 1; border-radius: 0.35em;\">\n",
       "    second\n",
       "    <span style=\"font-size: 0.8em; font-weight: bold; line-height: 1; border-radius: 0.35em; vertical-align: middle; margin-left: 0.5rem\">ORDINAL</span>\n",
       "</mark>\n",
       "-to-none customer service delivery in all interactions with customers and potential clients.         \n",
       "<mark class=\"entity\" style=\"background: #7aecec; padding: 0.45em 0.6em; margin: 0 0.25em; line-height: 1; border-radius: 0.35em;\">\n",
       "    Reservation &amp; Front Office\n",
       "    <span style=\"font-size: 0.8em; font-weight: bold; line-height: 1; border-radius: 0.35em; vertical-align: middle; margin-left: 0.5rem\">ORG</span>\n",
       "</mark>\n",
       " Manager     \n",
       "<mark class=\"entity\" style=\"background: #bfe1d9; padding: 0.45em 0.6em; margin: 0 0.25em; line-height: 1; border-radius: 0.35em;\">\n",
       "    Jun 2004\n",
       "    <span style=\"font-size: 0.8em; font-weight: bold; line-height: 1; border-radius: 0.35em; vertical-align: middle; margin-left: 0.5rem\">DATE</span>\n",
       "</mark>\n",
       "   to   \n",
       "<mark class=\"entity\" style=\"background: #bfe1d9; padding: 0.45em 0.6em; margin: 0 0.25em; line-height: 1; border-radius: 0.35em;\">\n",
       "    Jul 2007\n",
       "    <span style=\"font-size: 0.8em; font-weight: bold; line-height: 1; border-radius: 0.35em; vertical-align: middle; margin-left: 0.5rem\">DATE</span>\n",
       "</mark>\n",
       "      Company Name   －   City  ,   \n",
       "<mark class=\"entity\" style=\"background: #7aecec; padding: 0.45em 0.6em; margin: 0 0.25em; line-height: 1; border-radius: 0.35em;\">\n",
       "    State\n",
       "    <span style=\"font-size: 0.8em; font-weight: bold; line-height: 1; border-radius: 0.35em; vertical-align: middle; margin-left: 0.5rem\">ORG</span>\n",
       "</mark>\n",
       "          \n",
       "<mark class=\"entity\" style=\"background: #7aecec; padding: 0.45em 0.6em; margin: 0 0.25em; line-height: 1; border-radius: 0.35em;\">\n",
       "    Owner/\n",
       "    <span style=\"font-size: 0.8em; font-weight: bold; line-height: 1; border-radius: 0.35em; vertical-align: middle; margin-left: 0.5rem\">ORG</span>\n",
       "</mark>\n",
       " Partner     \n",
       "<mark class=\"entity\" style=\"background: #bfe1d9; padding: 0.45em 0.6em; margin: 0 0.25em; line-height: 1; border-radius: 0.35em;\">\n",
       "    Dec 2001\n",
       "    <span style=\"font-size: 0.8em; font-weight: bold; line-height: 1; border-radius: 0.35em; vertical-align: middle; margin-left: 0.5rem\">DATE</span>\n",
       "</mark>\n",
       "   to   \n",
       "<mark class=\"entity\" style=\"background: #bfe1d9; padding: 0.45em 0.6em; margin: 0 0.25em; line-height: 1; border-radius: 0.35em;\">\n",
       "    May 2004\n",
       "    <span style=\"font-size: 0.8em; font-weight: bold; line-height: 1; border-radius: 0.35em; vertical-align: middle; margin-left: 0.5rem\">DATE</span>\n",
       "</mark>\n",
       "      Company Name   －   City  ,   \n",
       "<mark class=\"entity\" style=\"background: #7aecec; padding: 0.45em 0.6em; margin: 0 0.25em; line-height: 1; border-radius: 0.35em;\">\n",
       "    State\n",
       "    <span style=\"font-size: 0.8em; font-weight: bold; line-height: 1; border-radius: 0.35em; vertical-align: middle; margin-left: 0.5rem\">ORG</span>\n",
       "</mark>\n",
       "          Price Integrity Coordinator     \n",
       "<mark class=\"entity\" style=\"background: #bfe1d9; padding: 0.45em 0.6em; margin: 0 0.25em; line-height: 1; border-radius: 0.35em;\">\n",
       "    Aug 1999\n",
       "    <span style=\"font-size: 0.8em; font-weight: bold; line-height: 1; border-radius: 0.35em; vertical-align: middle; margin-left: 0.5rem\">DATE</span>\n",
       "</mark>\n",
       "   to   \n",
       "<mark class=\"entity\" style=\"background: #bfe1d9; padding: 0.45em 0.6em; margin: 0 0.25em; line-height: 1; border-radius: 0.35em;\">\n",
       "    Dec 2001\n",
       "    <span style=\"font-size: 0.8em; font-weight: bold; line-height: 1; border-radius: 0.35em; vertical-align: middle; margin-left: 0.5rem\">DATE</span>\n",
       "</mark>\n",
       "      Company Name   －   City  ,   \n",
       "<mark class=\"entity\" style=\"background: #7aecec; padding: 0.45em 0.6em; margin: 0 0.25em; line-height: 1; border-radius: 0.35em;\">\n",
       "    State\n",
       "    <span style=\"font-size: 0.8em; font-weight: bold; line-height: 1; border-radius: 0.35em; vertical-align: middle; margin-left: 0.5rem\">ORG</span>\n",
       "</mark>\n",
       "          Education      N/A  ,   \n",
       "<mark class=\"entity\" style=\"background: #7aecec; padding: 0.45em 0.6em; margin: 0 0.25em; line-height: 1; border-radius: 0.35em;\">\n",
       "    Business Administration\n",
       "    <span style=\"font-size: 0.8em; font-weight: bold; line-height: 1; border-radius: 0.35em; vertical-align: middle; margin-left: 0.5rem\">ORG</span>\n",
       "</mark>\n",
       "   \n",
       "<mark class=\"entity\" style=\"background: #bfe1d9; padding: 0.45em 0.6em; margin: 0 0.25em; line-height: 1; border-radius: 0.35em;\">\n",
       "    1999\n",
       "    <span style=\"font-size: 0.8em; font-weight: bold; line-height: 1; border-radius: 0.35em; vertical-align: middle; margin-left: 0.5rem\">DATE</span>\n",
       "</mark>\n",
       "     \n",
       "<mark class=\"entity\" style=\"background: #7aecec; padding: 0.45em 0.6em; margin: 0 0.25em; line-height: 1; border-radius: 0.35em;\">\n",
       "    Jefferson College\n",
       "    <span style=\"font-size: 0.8em; font-weight: bold; line-height: 1; border-radius: 0.35em; vertical-align: middle; margin-left: 0.5rem\">ORG</span>\n",
       "</mark>\n",
       "   －   City  ,   \n",
       "<mark class=\"entity\" style=\"background: #7aecec; padding: 0.45em 0.6em; margin: 0 0.25em; line-height: 1; border-radius: 0.35em;\">\n",
       "    State       Business Administration  Marketing / Advertising         High School Diploma\n",
       "    <span style=\"font-size: 0.8em; font-weight: bold; line-height: 1; border-radius: 0.35em; vertical-align: middle; margin-left: 0.5rem\">ORG</span>\n",
       "</mark>\n",
       "  ,   \n",
       "<mark class=\"entity\" style=\"background: #7aecec; padding: 0.45em 0.6em; margin: 0 0.25em; line-height: 1; border-radius: 0.35em;\">\n",
       "    College Prep\n",
       "    <span style=\"font-size: 0.8em; font-weight: bold; line-height: 1; border-radius: 0.35em; vertical-align: middle; margin-left: 0.5rem\">ORG</span>\n",
       "</mark>\n",
       ". studies   \n",
       "<mark class=\"entity\" style=\"background: #bfe1d9; padding: 0.45em 0.6em; margin: 0 0.25em; line-height: 1; border-radius: 0.35em;\">\n",
       "    1998\n",
       "    <span style=\"font-size: 0.8em; font-weight: bold; line-height: 1; border-radius: 0.35em; vertical-align: middle; margin-left: 0.5rem\">DATE</span>\n",
       "</mark>\n",
       "     \n",
       "<mark class=\"entity\" style=\"background: #aa9cfc; padding: 0.45em 0.6em; margin: 0 0.25em; line-height: 1; border-radius: 0.35em;\">\n",
       "    Sainte Genevieve\n",
       "    <span style=\"font-size: 0.8em; font-weight: bold; line-height: 1; border-radius: 0.35em; vertical-align: middle; margin-left: 0.5rem\">PERSON</span>\n",
       "</mark>\n",
       " Senior High   －   City  ,   State       Awarded \n",
       "<mark class=\"entity\" style=\"background: #f0d0ff; padding: 0.45em 0.6em; margin: 0 0.25em; line-height: 1; border-radius: 0.35em;\">\n",
       "    American Shrubel Leadership Scholarship\n",
       "    <span style=\"font-size: 0.8em; font-weight: bold; line-height: 1; border-radius: 0.35em; vertical-align: middle; margin-left: 0.5rem\">WORK_OF_ART</span>\n",
       "</mark>\n",
       " to \n",
       "<mark class=\"entity\" style=\"background: #7aecec; padding: 0.45em 0.6em; margin: 0 0.25em; line-height: 1; border-radius: 0.35em;\">\n",
       "    Jefferson College         Skills     Accounting\n",
       "    <span style=\"font-size: 0.8em; font-weight: bold; line-height: 1; border-radius: 0.35em; vertical-align: middle; margin-left: 0.5rem\">ORG</span>\n",
       "</mark>\n",
       ", ads, \n",
       "<mark class=\"entity\" style=\"background: #ddd; padding: 0.45em 0.6em; margin: 0 0.25em; line-height: 1; border-radius: 0.35em;\">\n",
       "    advertising\n",
       "    <span style=\"font-size: 0.8em; font-weight: bold; line-height: 1; border-radius: 0.35em; vertical-align: middle; margin-left: 0.5rem\">SKILL</span>\n",
       "</mark>\n",
       ", analytical skills, benefits, billing, budgeting, clients, \n",
       "<mark class=\"entity\" style=\"background: #7aecec; padding: 0.45em 0.6em; margin: 0 0.25em; line-height: 1; border-radius: 0.35em;\">\n",
       "    Customer Service\n",
       "    <span style=\"font-size: 0.8em; font-weight: bold; line-height: 1; border-radius: 0.35em; vertical-align: middle; margin-left: 0.5rem\">ORG</span>\n",
       "</mark>\n",
       ", \n",
       "<mark class=\"entity\" style=\"background: #ddd; padding: 0.45em 0.6em; margin: 0 0.25em; line-height: 1; border-radius: 0.35em;\">\n",
       "    data analysis\n",
       "    <span style=\"font-size: 0.8em; font-weight: bold; line-height: 1; border-radius: 0.35em; vertical-align: middle; margin-left: 0.5rem\">SKILL</span>\n",
       "</mark>\n",
       ", delivery, \n",
       "<mark class=\"entity\" style=\"background: #ddd; padding: 0.45em 0.6em; margin: 0 0.25em; line-height: 1; border-radius: 0.35em;\">\n",
       "    documentation\n",
       "    <span style=\"font-size: 0.8em; font-weight: bold; line-height: 1; border-radius: 0.35em; vertical-align: middle; margin-left: 0.5rem\">SKILL</span>\n",
       "</mark>\n",
       ", employee relations, financial management, government relations, \n",
       "<mark class=\"entity\" style=\"background: #7aecec; padding: 0.45em 0.6em; margin: 0 0.25em; line-height: 1; border-radius: 0.35em;\">\n",
       "    Human Resources\n",
       "    <span style=\"font-size: 0.8em; font-weight: bold; line-height: 1; border-radius: 0.35em; vertical-align: middle; margin-left: 0.5rem\">ORG</span>\n",
       "</mark>\n",
       ", insurance, labor relations, layout, \n",
       "<mark class=\"entity\" style=\"background: #ddd; padding: 0.45em 0.6em; margin: 0 0.25em; line-height: 1; border-radius: 0.35em;\">\n",
       "    Marketing\n",
       "    <span style=\"font-size: 0.8em; font-weight: bold; line-height: 1; border-radius: 0.35em; vertical-align: middle; margin-left: 0.5rem\">SKILL</span>\n",
       "</mark>\n",
       ", \n",
       "<mark class=\"entity\" style=\"background: #ddd; padding: 0.45em 0.6em; margin: 0 0.25em; line-height: 1; border-radius: 0.35em;\">\n",
       "    marketing\n",
       "    <span style=\"font-size: 0.8em; font-weight: bold; line-height: 1; border-radius: 0.35em; vertical-align: middle; margin-left: 0.5rem\">SKILL</span>\n",
       "</mark>\n",
       " collateral, medical billing, medical terminology, office, organizational, payroll, performance reviews, personnel, policies, posters, presentations, public relations, purchasing, reporting, statistics, website.    </div></span>"
      ],
      "text/plain": [
       "<IPython.core.display.HTML object>"
      ]
     },
     "metadata": {},
     "output_type": "display_data"
    }
   ],
   "source": [
    "sent = nlp(data[\"Resume_str\"].iloc[0])\n",
    "displacy.render(sent, style=\"ent\", jupyter=True)"
   ]
  },
  {
   "cell_type": "markdown",
   "id": "98af8e26",
   "metadata": {},
   "source": [
    "## Dependency Parsing\n",
    "We can also visualize dependencies by just changing style to dep as shown below. We have also limited words to 10 which includes space too. Limiting the words will make it visualize the small chunk of data and if you want to see the dependency, you can remove the filter.\n",
    "\n"
   ]
  },
  {
   "cell_type": "code",
   "execution_count": 49,
   "id": "0a8e02e9",
   "metadata": {},
   "outputs": [
    {
     "data": {
      "text/html": [
       "<span class=\"tex2jax_ignore\"><svg xmlns=\"http://www.w3.org/2000/svg\" xmlns:xlink=\"http://www.w3.org/1999/xlink\" xml:lang=\"en\" id=\"6313c064a90f4195b711bbc69e4d08fa-0\" class=\"displacy\" width=\"860\" height=\"272.0\" direction=\"ltr\" style=\"max-width: none; height: 272.0px; color: #000000; background: #ffffff; font-family: Arial; direction: ltr\">\n",
       "<text class=\"displacy-token\" fill=\"currentColor\" text-anchor=\"middle\" y=\"182.0\">\n",
       "    <tspan class=\"displacy-word\" fill=\"currentColor\" x=\"50\">         </tspan>\n",
       "    <tspan class=\"displacy-tag\" dy=\"2em\" fill=\"currentColor\" x=\"50\">SPACE</tspan>\n",
       "</text>\n",
       "\n",
       "<text class=\"displacy-token\" fill=\"currentColor\" text-anchor=\"middle\" y=\"182.0\">\n",
       "    <tspan class=\"displacy-word\" fill=\"currentColor\" x=\"140\">HR</tspan>\n",
       "    <tspan class=\"displacy-tag\" dy=\"2em\" fill=\"currentColor\" x=\"140\">PROPN</tspan>\n",
       "</text>\n",
       "\n",
       "<text class=\"displacy-token\" fill=\"currentColor\" text-anchor=\"middle\" y=\"182.0\">\n",
       "    <tspan class=\"displacy-word\" fill=\"currentColor\" x=\"230\">ADMINISTRATOR/</tspan>\n",
       "    <tspan class=\"displacy-tag\" dy=\"2em\" fill=\"currentColor\" x=\"230\">PROPN</tspan>\n",
       "</text>\n",
       "\n",
       "<text class=\"displacy-token\" fill=\"currentColor\" text-anchor=\"middle\" y=\"182.0\">\n",
       "    <tspan class=\"displacy-word\" fill=\"currentColor\" x=\"320\">MARKETING</tspan>\n",
       "    <tspan class=\"displacy-tag\" dy=\"2em\" fill=\"currentColor\" x=\"320\">NOUN</tspan>\n",
       "</text>\n",
       "\n",
       "<text class=\"displacy-token\" fill=\"currentColor\" text-anchor=\"middle\" y=\"182.0\">\n",
       "    <tspan class=\"displacy-word\" fill=\"currentColor\" x=\"410\">ASSOCIATE</tspan>\n",
       "    <tspan class=\"displacy-tag\" dy=\"2em\" fill=\"currentColor\" x=\"410\">PROPN</tspan>\n",
       "</text>\n",
       "\n",
       "<text class=\"displacy-token\" fill=\"currentColor\" text-anchor=\"middle\" y=\"182.0\">\n",
       "    <tspan class=\"displacy-word\" fill=\"currentColor\" x=\"500\">\n",
       "\n",
       "</tspan>\n",
       "    <tspan class=\"displacy-tag\" dy=\"2em\" fill=\"currentColor\" x=\"500\">SPACE</tspan>\n",
       "</text>\n",
       "\n",
       "<text class=\"displacy-token\" fill=\"currentColor\" text-anchor=\"middle\" y=\"182.0\">\n",
       "    <tspan class=\"displacy-word\" fill=\"currentColor\" x=\"590\">HR</tspan>\n",
       "    <tspan class=\"displacy-tag\" dy=\"2em\" fill=\"currentColor\" x=\"590\">PROPN</tspan>\n",
       "</text>\n",
       "\n",
       "<text class=\"displacy-token\" fill=\"currentColor\" text-anchor=\"middle\" y=\"182.0\">\n",
       "    <tspan class=\"displacy-word\" fill=\"currentColor\" x=\"680\">ADMINISTRATOR</tspan>\n",
       "    <tspan class=\"displacy-tag\" dy=\"2em\" fill=\"currentColor\" x=\"680\">NOUN</tspan>\n",
       "</text>\n",
       "\n",
       "<text class=\"displacy-token\" fill=\"currentColor\" text-anchor=\"middle\" y=\"182.0\">\n",
       "    <tspan class=\"displacy-word\" fill=\"currentColor\" x=\"770\">      </tspan>\n",
       "    <tspan class=\"displacy-tag\" dy=\"2em\" fill=\"currentColor\" x=\"770\">SPACE</tspan>\n",
       "</text>\n",
       "\n",
       "<g class=\"displacy-arrow\">\n",
       "    <path class=\"displacy-arc\" id=\"arrow-6313c064a90f4195b711bbc69e4d08fa-0-0\" stroke-width=\"2px\" d=\"M70,137.0 C70,92.0 130.0,92.0 130.0,137.0\" fill=\"none\" stroke=\"currentColor\"/>\n",
       "    <text dy=\"1.25em\" style=\"font-size: 0.8em; letter-spacing: 1px\">\n",
       "        <textPath xlink:href=\"#arrow-6313c064a90f4195b711bbc69e4d08fa-0-0\" class=\"displacy-label\" startOffset=\"50%\" side=\"left\" fill=\"currentColor\" text-anchor=\"middle\">dep</textPath>\n",
       "    </text>\n",
       "    <path class=\"displacy-arrowhead\" d=\"M70,139.0 L62,127.0 78,127.0\" fill=\"currentColor\"/>\n",
       "</g>\n",
       "\n",
       "<g class=\"displacy-arrow\">\n",
       "    <path class=\"displacy-arc\" id=\"arrow-6313c064a90f4195b711bbc69e4d08fa-0-1\" stroke-width=\"2px\" d=\"M160,137.0 C160,47.0 315.0,47.0 315.0,137.0\" fill=\"none\" stroke=\"currentColor\"/>\n",
       "    <text dy=\"1.25em\" style=\"font-size: 0.8em; letter-spacing: 1px\">\n",
       "        <textPath xlink:href=\"#arrow-6313c064a90f4195b711bbc69e4d08fa-0-1\" class=\"displacy-label\" startOffset=\"50%\" side=\"left\" fill=\"currentColor\" text-anchor=\"middle\">nmod</textPath>\n",
       "    </text>\n",
       "    <path class=\"displacy-arrowhead\" d=\"M160,139.0 L152,127.0 168,127.0\" fill=\"currentColor\"/>\n",
       "</g>\n",
       "\n",
       "<g class=\"displacy-arrow\">\n",
       "    <path class=\"displacy-arc\" id=\"arrow-6313c064a90f4195b711bbc69e4d08fa-0-2\" stroke-width=\"2px\" d=\"M250,137.0 C250,92.0 310.0,92.0 310.0,137.0\" fill=\"none\" stroke=\"currentColor\"/>\n",
       "    <text dy=\"1.25em\" style=\"font-size: 0.8em; letter-spacing: 1px\">\n",
       "        <textPath xlink:href=\"#arrow-6313c064a90f4195b711bbc69e4d08fa-0-2\" class=\"displacy-label\" startOffset=\"50%\" side=\"left\" fill=\"currentColor\" text-anchor=\"middle\">nmod</textPath>\n",
       "    </text>\n",
       "    <path class=\"displacy-arrowhead\" d=\"M250,139.0 L242,127.0 258,127.0\" fill=\"currentColor\"/>\n",
       "</g>\n",
       "\n",
       "<g class=\"displacy-arrow\">\n",
       "    <path class=\"displacy-arc\" id=\"arrow-6313c064a90f4195b711bbc69e4d08fa-0-3\" stroke-width=\"2px\" d=\"M340,137.0 C340,2.0 680.0,2.0 680.0,137.0\" fill=\"none\" stroke=\"currentColor\"/>\n",
       "    <text dy=\"1.25em\" style=\"font-size: 0.8em; letter-spacing: 1px\">\n",
       "        <textPath xlink:href=\"#arrow-6313c064a90f4195b711bbc69e4d08fa-0-3\" class=\"displacy-label\" startOffset=\"50%\" side=\"left\" fill=\"currentColor\" text-anchor=\"middle\">nmod</textPath>\n",
       "    </text>\n",
       "    <path class=\"displacy-arrowhead\" d=\"M340,139.0 L332,127.0 348,127.0\" fill=\"currentColor\"/>\n",
       "</g>\n",
       "\n",
       "<g class=\"displacy-arrow\">\n",
       "    <path class=\"displacy-arc\" id=\"arrow-6313c064a90f4195b711bbc69e4d08fa-0-4\" stroke-width=\"2px\" d=\"M430,137.0 C430,47.0 675.0,47.0 675.0,137.0\" fill=\"none\" stroke=\"currentColor\"/>\n",
       "    <text dy=\"1.25em\" style=\"font-size: 0.8em; letter-spacing: 1px\">\n",
       "        <textPath xlink:href=\"#arrow-6313c064a90f4195b711bbc69e4d08fa-0-4\" class=\"displacy-label\" startOffset=\"50%\" side=\"left\" fill=\"currentColor\" text-anchor=\"middle\">nmod</textPath>\n",
       "    </text>\n",
       "    <path class=\"displacy-arrowhead\" d=\"M430,139.0 L422,127.0 438,127.0\" fill=\"currentColor\"/>\n",
       "</g>\n",
       "\n",
       "<g class=\"displacy-arrow\">\n",
       "    <path class=\"displacy-arc\" id=\"arrow-6313c064a90f4195b711bbc69e4d08fa-0-5\" stroke-width=\"2px\" d=\"M430,137.0 C430,92.0 490.0,92.0 490.0,137.0\" fill=\"none\" stroke=\"currentColor\"/>\n",
       "    <text dy=\"1.25em\" style=\"font-size: 0.8em; letter-spacing: 1px\">\n",
       "        <textPath xlink:href=\"#arrow-6313c064a90f4195b711bbc69e4d08fa-0-5\" class=\"displacy-label\" startOffset=\"50%\" side=\"left\" fill=\"currentColor\" text-anchor=\"middle\">dep</textPath>\n",
       "    </text>\n",
       "    <path class=\"displacy-arrowhead\" d=\"M490.0,139.0 L498.0,127.0 482.0,127.0\" fill=\"currentColor\"/>\n",
       "</g>\n",
       "\n",
       "<g class=\"displacy-arrow\">\n",
       "    <path class=\"displacy-arc\" id=\"arrow-6313c064a90f4195b711bbc69e4d08fa-0-6\" stroke-width=\"2px\" d=\"M610,137.0 C610,92.0 670.0,92.0 670.0,137.0\" fill=\"none\" stroke=\"currentColor\"/>\n",
       "    <text dy=\"1.25em\" style=\"font-size: 0.8em; letter-spacing: 1px\">\n",
       "        <textPath xlink:href=\"#arrow-6313c064a90f4195b711bbc69e4d08fa-0-6\" class=\"displacy-label\" startOffset=\"50%\" side=\"left\" fill=\"currentColor\" text-anchor=\"middle\">compound</textPath>\n",
       "    </text>\n",
       "    <path class=\"displacy-arrowhead\" d=\"M610,139.0 L602,127.0 618,127.0\" fill=\"currentColor\"/>\n",
       "</g>\n",
       "\n",
       "<g class=\"displacy-arrow\">\n",
       "    <path class=\"displacy-arc\" id=\"arrow-6313c064a90f4195b711bbc69e4d08fa-0-7\" stroke-width=\"2px\" d=\"M700,137.0 C700,92.0 760.0,92.0 760.0,137.0\" fill=\"none\" stroke=\"currentColor\"/>\n",
       "    <text dy=\"1.25em\" style=\"font-size: 0.8em; letter-spacing: 1px\">\n",
       "        <textPath xlink:href=\"#arrow-6313c064a90f4195b711bbc69e4d08fa-0-7\" class=\"displacy-label\" startOffset=\"50%\" side=\"left\" fill=\"currentColor\" text-anchor=\"middle\">dep</textPath>\n",
       "    </text>\n",
       "    <path class=\"displacy-arrowhead\" d=\"M760.0,139.0 L768.0,127.0 752.0,127.0\" fill=\"currentColor\"/>\n",
       "</g>\n",
       "</svg></span>"
      ],
      "text/plain": [
       "<IPython.core.display.HTML object>"
      ]
     },
     "metadata": {},
     "output_type": "display_data"
    }
   ],
   "source": [
    "displacy.render(sent[0:10], style=\"dep\", jupyter=True, options={\"distance\": 90})"
   ]
  },
  {
   "cell_type": "markdown",
   "id": "66d097e9",
   "metadata": {},
   "source": [
    "## Custom Entity Recognition\n",
    "In our case, I have added a new entity called SKILL and is displayed in gray color. I was not impressed by colors and I also wanted to add another entity called Job Description so I started experimenting with various parameters within `displace.\n",
    "\n",
    "- Adding Job-Category into entity ruler.\n",
    "- Adding custom colors to all categories.\n",
    "- Adding gradient colors to SKILL and Job-Category\n",
    "- You can see the result below as the new highlighted texts look beautiful."
   ]
  },
  {
   "cell_type": "code",
   "execution_count": 51,
   "id": "7e78dbd8",
   "metadata": {},
   "outputs": [],
   "source": [
    "patterns = data.Category.unique()\n",
    "for a in patterns:\n",
    "    ruler.add_patterns([{\"label\": \"Job-Category\", \"pattern\": a}])"
   ]
  },
  {
   "cell_type": "code",
   "execution_count": 52,
   "id": "5f78e431",
   "metadata": {},
   "outputs": [
    {
     "data": {
      "text/html": [
       "<span class=\"tex2jax_ignore\"><div class=\"entities\" style=\"line-height: 2.5; direction: ltr\">         \n",
       "<mark class=\"entity\" style=\"background: linear-gradient(90deg, #aa9cfc, #fc9ce7); padding: 0.45em 0.6em; margin: 0 0.25em; line-height: 1; border-radius: 0.35em;\">\n",
       "    HR\n",
       "    <span style=\"font-size: 0.8em; font-weight: bold; line-height: 1; border-radius: 0.35em; vertical-align: middle; margin-left: 0.5rem\">Job-Category</span>\n",
       "</mark>\n",
       " GENERALIST       Summary     Dedicated and focused Administrative Assistant who excels at prioritizing, completing multiple tasks simultaneously and following through to achieve project goals. Seeking a role of increased responsibility and authority.       \n",
       "<mark class=\"entity\" style=\"background: #ffd966; padding: 0.45em 0.6em; margin: 0 0.25em; line-height: 1; border-radius: 0.35em;\">\n",
       "    Highlights         Microsoft Office\n",
       "    <span style=\"font-size: 0.8em; font-weight: bold; line-height: 1; border-radius: 0.35em; vertical-align: middle; margin-left: 0.5rem\">ORG</span>\n",
       "</mark>\n",
       " proficiency  \n",
       "<mark class=\"entity\" style=\"background: #f9cb9c; padding: 0.45em 0.6em; margin: 0 0.25em; line-height: 1; border-radius: 0.35em;\">\n",
       "    Excel\n",
       "    <span style=\"font-size: 0.8em; font-weight: bold; line-height: 1; border-radius: 0.35em; vertical-align: middle; margin-left: 0.5rem\">PRODUCT</span>\n",
       "</mark>\n",
       " spreadsheets  Meticulous attention to detail  Results-oriented  Self-directed      \n",
       "<mark class=\"entity\" style=\"background: #ffd966; padding: 0.45em 0.6em; margin: 0 0.25em; line-height: 1; border-radius: 0.35em;\">\n",
       "    Time\n",
       "    <span style=\"font-size: 0.8em; font-weight: bold; line-height: 1; border-radius: 0.35em; vertical-align: middle; margin-left: 0.5rem\">ORG</span>\n",
       "</mark>\n",
       " management  Professional and mature  Self-starter  Legal administrative \n",
       "<mark class=\"entity\" style=\"background: linear-gradient(90deg, #9BE15D, #00E3AE); padding: 0.45em 0.6em; margin: 0 0.25em; line-height: 1; border-radius: 0.35em;\">\n",
       "    support\n",
       "    <span style=\"font-size: 0.8em; font-weight: bold; line-height: 1; border-radius: 0.35em; vertical-align: middle; margin-left: 0.5rem\">SKILL</span>\n",
       "</mark>\n",
       "            Experience     11/2008   to   \n",
       "<mark class=\"entity\" style=\"background: #ffd966; padding: 0.45em 0.6em; margin: 0 0.25em; line-height: 1; border-radius: 0.35em;\">\n",
       "    08/2014     \n",
       "    <span style=\"font-size: 0.8em; font-weight: bold; line-height: 1; border-radius: 0.35em; vertical-align: middle; margin-left: 0.5rem\">ORG</span>\n",
       "</mark>\n",
       "\n",
       "<mark class=\"entity\" style=\"background: linear-gradient(90deg, #aa9cfc, #fc9ce7); padding: 0.45em 0.6em; margin: 0 0.25em; line-height: 1; border-radius: 0.35em;\">\n",
       "    HR\n",
       "    <span style=\"font-size: 0.8em; font-weight: bold; line-height: 1; border-radius: 0.35em; vertical-align: middle; margin-left: 0.5rem\">Job-Category</span>\n",
       "</mark>\n",
       " Generalist    Company Name   －   City  ,   \n",
       "<mark class=\"entity\" style=\"background: #ffd966; padding: 0.45em 0.6em; margin: 0 0.25em; line-height: 1; border-radius: 0.35em;\">\n",
       "    State\n",
       "    <span style=\"font-size: 0.8em; font-weight: bold; line-height: 1; border-radius: 0.35em; vertical-align: middle; margin-left: 0.5rem\">ORG</span>\n",
       "</mark>\n",
       "      Managed visa related employment processes for all non-immigrant faculty and staff.  Improved productivity and enhanced visa related services.  Improved operational structure by developing guidelines and tools for internal and external administration of non-immigrant employment procedures  Reduced internal employment authorization processing times by approximately 30 percent.  Prepared, reviewed and submitted petitions for USCIS adjudication  Maintained electronic \n",
       "<mark class=\"entity\" style=\"background: linear-gradient(90deg, #9BE15D, #00E3AE); padding: 0.45em 0.6em; margin: 0 0.25em; line-height: 1; border-radius: 0.35em;\">\n",
       "    database\n",
       "    <span style=\"font-size: 0.8em; font-weight: bold; line-height: 1; border-radius: 0.35em; vertical-align: middle; margin-left: 0.5rem\">SKILL</span>\n",
       "</mark>\n",
       " of petitions filed  Served as a university point of contact for USCIS.  Developed and presented university with guidelines to adhere to mandates presented by \n",
       "<mark class=\"entity\" style=\"background: #ffd966; padding: 0.45em 0.6em; margin: 0 0.25em; line-height: 1; border-radius: 0.35em;\">\n",
       "    USCIS\n",
       "    <span style=\"font-size: 0.8em; font-weight: bold; line-height: 1; border-radius: 0.35em; vertical-align: middle; margin-left: 0.5rem\">ORG</span>\n",
       "</mark>\n",
       ", \n",
       "<mark class=\"entity\" style=\"background: #ffd966; padding: 0.45em 0.6em; margin: 0 0.25em; line-height: 1; border-radius: 0.35em;\">\n",
       "    USDHS\n",
       "    <span style=\"font-size: 0.8em; font-weight: bold; line-height: 1; border-radius: 0.35em; vertical-align: middle; margin-left: 0.5rem\">ORG</span>\n",
       "</mark>\n",
       " and \n",
       "<mark class=\"entity\" style=\"background: #ffd966; padding: 0.45em 0.6em; margin: 0 0.25em; line-height: 1; border-radius: 0.35em;\">\n",
       "    USDOS\n",
       "    <span style=\"font-size: 0.8em; font-weight: bold; line-height: 1; border-radius: 0.35em; vertical-align: middle; margin-left: 0.5rem\">ORG</span>\n",
       "</mark>\n",
       "   Presented \n",
       "<mark class=\"entity\" style=\"background: #c27ba0; padding: 0.45em 0.6em; margin: 0 0.25em; line-height: 1; border-radius: 0.35em;\">\n",
       "    monthly\n",
       "    <span style=\"font-size: 0.8em; font-weight: bold; line-height: 1; border-radius: 0.35em; vertical-align: middle; margin-left: 0.5rem\">DATE</span>\n",
       "</mark>\n",
       " orientation  \n",
       "<mark class=\"entity\" style=\"background: #ffd966; padding: 0.45em 0.6em; margin: 0 0.25em; line-height: 1; border-radius: 0.35em;\">\n",
       "    Created\n",
       "    <span style=\"font-size: 0.8em; font-weight: bold; line-height: 1; border-radius: 0.35em; vertical-align: middle; margin-left: 0.5rem\">ORG</span>\n",
       "</mark>\n",
       ", edited and internally distributed bi-annual newsletter  Maintained \n",
       "<mark class=\"entity\" style=\"background: linear-gradient(90deg, #aa9cfc, #fc9ce7); padding: 0.45em 0.6em; margin: 0 0.25em; line-height: 1; border-radius: 0.35em;\">\n",
       "    HR\n",
       "    <span style=\"font-size: 0.8em; font-weight: bold; line-height: 1; border-radius: 0.35em; vertical-align: middle; margin-left: 0.5rem\">Job-Category</span>\n",
       "</mark>\n",
       " Website         05/2000   to   \n",
       "<mark class=\"entity\" style=\"background: #c27ba0; padding: 0.45em 0.6em; margin: 0 0.25em; line-height: 1; border-radius: 0.35em;\">\n",
       "    11/2008\n",
       "    <span style=\"font-size: 0.8em; font-weight: bold; line-height: 1; border-radius: 0.35em; vertical-align: middle; margin-left: 0.5rem\">DATE</span>\n",
       "</mark>\n",
       "     Coordinator    Company Name   －   City  ,   State      Provided advice to faculty, staff, scholars and students by interpreting complex regulatory guidelines.  Thoroughly prepared and filed non-immigrant petitions to USCIS for non-immigrant students and employees.  Maintained highly confidential and sensitive data  \n",
       "<mark class=\"entity\" style=\"background: #ffd966; padding: 0.45em 0.6em; margin: 0 0.25em; line-height: 1; border-radius: 0.35em;\">\n",
       "    Identified as Designated School Official\n",
       "    <span style=\"font-size: 0.8em; font-weight: bold; line-height: 1; border-radius: 0.35em; vertical-align: middle; margin-left: 0.5rem\">ORG</span>\n",
       "</mark>\n",
       " for non-immigrant student programs and Alternate Responsible Officer  overseeing \n",
       "<mark class=\"entity\" style=\"background: #ffd966; padding: 0.45em 0.6em; margin: 0 0.25em; line-height: 1; border-radius: 0.35em;\">\n",
       "    the J-1 Exchange Visitor Program\n",
       "    <span style=\"font-size: 0.8em; font-weight: bold; line-height: 1; border-radius: 0.35em; vertical-align: middle; margin-left: 0.5rem\">ORG</span>\n",
       "</mark>\n",
       " for \n",
       "<mark class=\"entity\" style=\"background: #f9cb9c; padding: 0.45em 0.6em; margin: 0 0.25em; line-height: 1; border-radius: 0.35em;\">\n",
       "    J-1\n",
       "    <span style=\"font-size: 0.8em; font-weight: bold; line-height: 1; border-radius: 0.35em; vertical-align: middle; margin-left: 0.5rem\">PRODUCT</span>\n",
       "</mark>\n",
       " employees   Assisted foreign nationals in obtaining the \n",
       "<mark class=\"entity\" style=\"background: #ffd966; padding: 0.45em 0.6em; margin: 0 0.25em; line-height: 1; border-radius: 0.35em;\">\n",
       "    H-1B\n",
       "    <span style=\"font-size: 0.8em; font-weight: bold; line-height: 1; border-radius: 0.35em; vertical-align: middle; margin-left: 0.5rem\">ORG</span>\n",
       "</mark>\n",
       " visa status for employment in the \n",
       "<mark class=\"entity\" style=\"background: #9fc5e8; padding: 0.45em 0.6em; margin: 0 0.25em; line-height: 1; border-radius: 0.35em;\">\n",
       "    U.S.\n",
       "    <span style=\"font-size: 0.8em; font-weight: bold; line-height: 1; border-radius: 0.35em; vertical-align: middle; margin-left: 0.5rem\">GPE</span>\n",
       "</mark>\n",
       "  Coordinated bi-annual student orientation   Created training programs; supervised and trained volunteers  Supervised Administrative Assistant and student employees   Managed and coordinated student activities.         05/2000   to   \n",
       "<mark class=\"entity\" style=\"background: #c27ba0; padding: 0.45em 0.6em; margin: 0 0.25em; line-height: 1; border-radius: 0.35em;\">\n",
       "    11/2008\n",
       "    <span style=\"font-size: 0.8em; font-weight: bold; line-height: 1; border-radius: 0.35em; vertical-align: middle; margin-left: 0.5rem\">DATE</span>\n",
       "</mark>\n",
       "     \n",
       "<mark class=\"entity\" style=\"background: #ffd966; padding: 0.45em 0.6em; margin: 0 0.25em; line-height: 1; border-radius: 0.35em;\">\n",
       "    Coordinator/International Student Advisor\n",
       "    <span style=\"font-size: 0.8em; font-weight: bold; line-height: 1; border-radius: 0.35em; vertical-align: middle; margin-left: 0.5rem\">ORG</span>\n",
       "</mark>\n",
       "/Secretary    Company Name   －   City  ,   State      Drafted meeting agendas, supplied advance materials and executed follow-up for meetings and team conferences.  Managed the receptionist area, including greeting visitors and responding to telephone and in-person requests for information.  Designed electronic file systems and maintained electronic and paper files.  Handled all media and public relations inquiries.  Planned meetings and prepared conference rooms.  Wrote reports and correspondence from dictation and handwritten notes.  Dispersed incoming mail to correct recipients throughout the office.  Made copies, sent faxes and handled all incoming and outgoing correspondence.  Created \n",
       "<mark class=\"entity\" style=\"background: #f9cb9c; padding: 0.45em 0.6em; margin: 0 0.25em; line-height: 1; border-radius: 0.35em;\">\n",
       "    PowerPoint\n",
       "    <span style=\"font-size: 0.8em; font-weight: bold; line-height: 1; border-radius: 0.35em; vertical-align: middle; margin-left: 0.5rem\">PRODUCT</span>\n",
       "</mark>\n",
       " presentations used for \n",
       "<mark class=\"entity\" style=\"background: linear-gradient(90deg, #9BE15D, #00E3AE); padding: 0.45em 0.6em; margin: 0 0.25em; line-height: 1; border-radius: 0.35em;\">\n",
       "    business\n",
       "    <span style=\"font-size: 0.8em; font-weight: bold; line-height: 1; border-radius: 0.35em; vertical-align: middle; margin-left: 0.5rem\">SKILL</span>\n",
       "</mark>\n",
       " development.  Organized files, developed spreadsheets, faxed reports and scanned documents.  Managed \n",
       "<mark class=\"entity\" style=\"background: #c27ba0; padding: 0.45em 0.6em; margin: 0 0.25em; line-height: 1; border-radius: 0.35em;\">\n",
       "    daily\n",
       "    <span style=\"font-size: 0.8em; font-weight: bold; line-height: 1; border-radius: 0.35em; vertical-align: middle; margin-left: 0.5rem\">DATE</span>\n",
       "</mark>\n",
       " office operations and maintenance of equipment.          \n",
       "<mark class=\"entity\" style=\"background: #ffd966; padding: 0.45em 0.6em; margin: 0 0.25em; line-height: 1; border-radius: 0.35em;\">\n",
       "    Education\n",
       "    <span style=\"font-size: 0.8em; font-weight: bold; line-height: 1; border-radius: 0.35em; vertical-align: middle; margin-left: 0.5rem\">ORG</span>\n",
       "</mark>\n",
       "     8/2013     \n",
       "<mark class=\"entity\" style=\"background: #ffd966; padding: 0.45em 0.6em; margin: 0 0.25em; line-height: 1; border-radius: 0.35em;\">\n",
       "    ABA Approved Paralegal Program Certification             \n",
       "    <span style=\"font-size: 0.8em; font-weight: bold; line-height: 1; border-radius: 0.35em; vertical-align: middle; margin-left: 0.5rem\">ORG</span>\n",
       "</mark>\n",
       "8/2013     BA  :   Justice Studies    \n",
       "<mark class=\"entity\" style=\"background: #ffd966; padding: 0.45em 0.6em; margin: 0 0.25em; line-height: 1; border-radius: 0.35em;\">\n",
       "    Montclair State University\n",
       "    <span style=\"font-size: 0.8em; font-weight: bold; line-height: 1; border-radius: 0.35em; vertical-align: middle; margin-left: 0.5rem\">ORG</span>\n",
       "</mark>\n",
       "   －   City  ,   \n",
       "<mark class=\"entity\" style=\"background: #ffd966; padding: 0.45em 0.6em; margin: 0 0.25em; line-height: 1; border-radius: 0.35em;\">\n",
       "    State      \n",
       "    <span style=\"font-size: 0.8em; font-weight: bold; line-height: 1; border-radius: 0.35em; vertical-align: middle; margin-left: 0.5rem\">ORG</span>\n",
       "</mark>\n",
       "Justice Studies       06/2002     \n",
       "<mark class=\"entity\" style=\"background: #f9cb9c; padding: 0.45em 0.6em; margin: 0 0.25em; line-height: 1; border-radius: 0.35em;\">\n",
       "    AS  :\n",
       "    <span style=\"font-size: 0.8em; font-weight: bold; line-height: 1; border-radius: 0.35em; vertical-align: middle; margin-left: 0.5rem\">PRODUCT</span>\n",
       "</mark>\n",
       "   Psychology    Essex County College   －   City  ,   \n",
       "<mark class=\"entity\" style=\"background: #ffd966; padding: 0.45em 0.6em; margin: 0 0.25em; line-height: 1; border-radius: 0.35em;\">\n",
       "    State      Psychology            Certificate\n",
       "    <span style=\"font-size: 0.8em; font-weight: bold; line-height: 1; border-radius: 0.35em; vertical-align: middle; margin-left: 0.5rem\">ORG</span>\n",
       "</mark>\n",
       " in SHRM Essentials of Human Resource Management, 6/2013 Program Highlights<br>*Performance Management\t\t\t-    Critical Analysis<br>*Recruitment and Selection\t\t\t-    Strategic Planning<br>*\n",
       "<mark class=\"entity\" style=\"background: #ffd966; padding: 0.45em 0.6em; margin: 0 0.25em; line-height: 1; border-radius: 0.35em;\">\n",
       "    Effective Human Resources Management\n",
       "    <span style=\"font-size: 0.8em; font-weight: bold; line-height: 1; border-radius: 0.35em; vertical-align: middle; margin-left: 0.5rem\">ORG</span>\n",
       "</mark>\n",
       "\t-    Establishing Competencies      New York Institute of Technology   －   \n",
       "<mark class=\"entity\" style=\"background: #ffd966; padding: 0.45em 0.6em; margin: 0 0.25em; line-height: 1; border-radius: 0.35em;\">\n",
       "    City                Publications    Identified by the Department of State\n",
       "    <span style=\"font-size: 0.8em; font-weight: bold; line-height: 1; border-radius: 0.35em; vertical-align: middle; margin-left: 0.5rem\">ORG</span>\n",
       "</mark>\n",
       " as an Alternate Responsible Officer for \n",
       "<mark class=\"entity\" style=\"background: #ffd966; padding: 0.45em 0.6em; margin: 0 0.25em; line-height: 1; border-radius: 0.35em;\">\n",
       "    Exchange Visitor Programs\n",
       "    <span style=\"font-size: 0.8em; font-weight: bold; line-height: 1; border-radius: 0.35em; vertical-align: middle; margin-left: 0.5rem\">ORG</span>\n",
       "</mark>\n",
       " and recognized by \n",
       "<mark class=\"entity\" style=\"background: #ffd966; padding: 0.45em 0.6em; margin: 0 0.25em; line-height: 1; border-radius: 0.35em;\">\n",
       "    United States Citizenship and Immigration Services\n",
       "    <span style=\"font-size: 0.8em; font-weight: bold; line-height: 1; border-radius: 0.35em; vertical-align: middle; margin-left: 0.5rem\">ORG</span>\n",
       "</mark>\n",
       " as \n",
       "<mark class=\"entity\" style=\"background: #ffd966; padding: 0.45em 0.6em; margin: 0 0.25em; line-height: 1; border-radius: 0.35em;\">\n",
       "    Designated School\n",
       "    <span style=\"font-size: 0.8em; font-weight: bold; line-height: 1; border-radius: 0.35em; vertical-align: middle; margin-left: 0.5rem\">ORG</span>\n",
       "</mark>\n",
       " Official. Conference Presenter, National Association of Foreign Student Advisors (NAFSA) \n",
       "<mark class=\"entity\" style=\"background: #c27ba0; padding: 0.45em 0.6em; margin: 0 0.25em; line-height: 1; border-radius: 0.35em;\">\n",
       "    2012\n",
       "    <span style=\"font-size: 0.8em; font-weight: bold; line-height: 1; border-radius: 0.35em; vertical-align: middle; margin-left: 0.5rem\">DATE</span>\n",
       "</mark>\n",
       " Appointed Acting Assistant Director (Coordinator) of \n",
       "<mark class=\"entity\" style=\"background: #ffd966; padding: 0.45em 0.6em; margin: 0 0.25em; line-height: 1; border-radius: 0.35em;\">\n",
       "    International Students\n",
       "    <span style=\"font-size: 0.8em; font-weight: bold; line-height: 1; border-radius: 0.35em; vertical-align: middle; margin-left: 0.5rem\">ORG</span>\n",
       "</mark>\n",
       ", \n",
       "<mark class=\"entity\" style=\"background: #c27ba0; padding: 0.45em 0.6em; margin: 0 0.25em; line-height: 1; border-radius: 0.35em;\">\n",
       "    2000\n",
       "    <span style=\"font-size: 0.8em; font-weight: bold; line-height: 1; border-radius: 0.35em; vertical-align: middle; margin-left: 0.5rem\">DATE</span>\n",
       "</mark>\n",
       " She brings calm attention to detail and an approach that places the customer as the number one focus in any activity or service.  This style works.  It benefits all of us.&quot;  \n",
       "<mark class=\"entity\" style=\"background: #c27ba0; padding: 0.45em 0.6em; margin: 0 0.25em; line-height: 1; border-radius: 0.35em;\">\n",
       "    2008\n",
       "    <span style=\"font-size: 0.8em; font-weight: bold; line-height: 1; border-radius: 0.35em; vertical-align: middle; margin-left: 0.5rem\">DATE</span>\n",
       "</mark>\n",
       " Annual Performance Evaluation, \n",
       "<mark class=\"entity\" style=\"background: #ffd966; padding: 0.45em 0.6em; margin: 0 0.25em; line-height: 1; border-radius: 0.35em;\">\n",
       "    NJIT\n",
       "    <span style=\"font-size: 0.8em; font-weight: bold; line-height: 1; border-radius: 0.35em; vertical-align: middle; margin-left: 0.5rem\">ORG</span>\n",
       "</mark>\n",
       " - Overall Performance Level -Outstanding. \n",
       "<mark class=\"entity\" style=\"background: #e06666; padding: 0.45em 0.6em; margin: 0 0.25em; line-height: 1; border-radius: 0.35em;\">\n",
       "    Lisa\n",
       "    <span style=\"font-size: 0.8em; font-weight: bold; line-height: 1; border-radius: 0.35em; vertical-align: middle; margin-left: 0.5rem\">PERSON</span>\n",
       "</mark>\n",
       " is a quality employee.  She often works beyond contractual hours to complete a task.  This office could not operate in its current modus operandi without her efforts.&quot;  \n",
       "<mark class=\"entity\" style=\"background: #c27ba0; padding: 0.45em 0.6em; margin: 0 0.25em; line-height: 1; border-radius: 0.35em;\">\n",
       "    2008\n",
       "    <span style=\"font-size: 0.8em; font-weight: bold; line-height: 1; border-radius: 0.35em; vertical-align: middle; margin-left: 0.5rem\">DATE</span>\n",
       "</mark>\n",
       " Annual Performance Evaluation, Merit Proposal, \n",
       "<mark class=\"entity\" style=\"background: #ffd966; padding: 0.45em 0.6em; margin: 0 0.25em; line-height: 1; border-radius: 0.35em;\">\n",
       "    NJIT\n",
       "    <span style=\"font-size: 0.8em; font-weight: bold; line-height: 1; border-radius: 0.35em; vertical-align: middle; margin-left: 0.5rem\">ORG</span>\n",
       "</mark>\n",
       " Thank you for your steadfast style and contributions you make to this office.  You are truly valued.&quot;  \n",
       "<mark class=\"entity\" style=\"background: #c27ba0; padding: 0.45em 0.6em; margin: 0 0.25em; line-height: 1; border-radius: 0.35em;\">\n",
       "    2006\n",
       "    <span style=\"font-size: 0.8em; font-weight: bold; line-height: 1; border-radius: 0.35em; vertical-align: middle; margin-left: 0.5rem\">DATE</span>\n",
       "</mark>\n",
       " Annual Performance Evaluation Notification, \n",
       "<mark class=\"entity\" style=\"background: #ffd966; padding: 0.45em 0.6em; margin: 0 0.25em; line-height: 1; border-radius: 0.35em;\">\n",
       "    NJIT\n",
       "    <span style=\"font-size: 0.8em; font-weight: bold; line-height: 1; border-radius: 0.35em; vertical-align: middle; margin-left: 0.5rem\">ORG</span>\n",
       "</mark>\n",
       " - Overall Performance Level - Commendable/Outstanding. She is calm, humorous, personable and a model of patience.&quot;  \n",
       "<mark class=\"entity\" style=\"background: #c27ba0; padding: 0.45em 0.6em; margin: 0 0.25em; line-height: 1; border-radius: 0.35em;\">\n",
       "    2004\n",
       "    <span style=\"font-size: 0.8em; font-weight: bold; line-height: 1; border-radius: 0.35em; vertical-align: middle; margin-left: 0.5rem\">DATE</span>\n",
       "</mark>\n",
       " Annual Performance Evaluation, \n",
       "<mark class=\"entity\" style=\"background: #ffd966; padding: 0.45em 0.6em; margin: 0 0.25em; line-height: 1; border-radius: 0.35em;\">\n",
       "    NJIT\n",
       "    <span style=\"font-size: 0.8em; font-weight: bold; line-height: 1; border-radius: 0.35em; vertical-align: middle; margin-left: 0.5rem\">ORG</span>\n",
       "</mark>\n",
       " - Overall Performance Level - Outstanding.       Skills    administrative, Administrative Assistant, bi, conferences, \n",
       "<mark class=\"entity\" style=\"background: linear-gradient(90deg, #9BE15D, #00E3AE); padding: 0.45em 0.6em; margin: 0 0.25em; line-height: 1; border-radius: 0.35em;\">\n",
       "    database\n",
       "    <span style=\"font-size: 0.8em; font-weight: bold; line-height: 1; border-radius: 0.35em; vertical-align: middle; margin-left: 0.5rem\">SKILL</span>\n",
       "</mark>\n",
       ", special events, filing, \n",
       "<mark class=\"entity\" style=\"background: #ffd966; padding: 0.45em 0.6em; margin: 0 0.25em; line-height: 1; border-radius: 0.35em;\">\n",
       "    Human Resource Management\n",
       "    <span style=\"font-size: 0.8em; font-weight: bold; line-height: 1; border-radius: 0.35em; vertical-align: middle; margin-left: 0.5rem\">ORG</span>\n",
       "</mark>\n",
       ", \n",
       "<mark class=\"entity\" style=\"background: linear-gradient(90deg, #aa9cfc, #fc9ce7); padding: 0.45em 0.6em; margin: 0 0.25em; line-height: 1; border-radius: 0.35em;\">\n",
       "    HR\n",
       "    <span style=\"font-size: 0.8em; font-weight: bold; line-height: 1; border-radius: 0.35em; vertical-align: middle; margin-left: 0.5rem\">Job-Category</span>\n",
       "</mark>\n",
       ", \n",
       "<mark class=\"entity\" style=\"background: #ffd966; padding: 0.45em 0.6em; margin: 0 0.25em; line-height: 1; border-radius: 0.35em;\">\n",
       "    Human Resources Management\n",
       "    <span style=\"font-size: 0.8em; font-weight: bold; line-height: 1; border-radius: 0.35em; vertical-align: middle; margin-left: 0.5rem\">ORG</span>\n",
       "</mark>\n",
       ", \n",
       "<mark class=\"entity\" style=\"background: #ffd966; padding: 0.45em 0.6em; margin: 0 0.25em; line-height: 1; border-radius: 0.35em;\">\n",
       "    Excel, Exchange\n",
       "    <span style=\"font-size: 0.8em; font-weight: bold; line-height: 1; border-radius: 0.35em; vertical-align: middle; margin-left: 0.5rem\">ORG</span>\n",
       "</mark>\n",
       ", \n",
       "<mark class=\"entity\" style=\"background: #ffd966; padding: 0.45em 0.6em; margin: 0 0.25em; line-height: 1; border-radius: 0.35em;\">\n",
       "    Microsoft Office\n",
       "    <span style=\"font-size: 0.8em; font-weight: bold; line-height: 1; border-radius: 0.35em; vertical-align: middle; margin-left: 0.5rem\">ORG</span>\n",
       "</mark>\n",
       ", Office, Outlook, \n",
       "<mark class=\"entity\" style=\"background: #f9cb9c; padding: 0.45em 0.6em; margin: 0 0.25em; line-height: 1; border-radius: 0.35em;\">\n",
       "    PowerPoint\n",
       "    <span style=\"font-size: 0.8em; font-weight: bold; line-height: 1; border-radius: 0.35em; vertical-align: middle; margin-left: 0.5rem\">PRODUCT</span>\n",
       "</mark>\n",
       ", \n",
       "<mark class=\"entity\" style=\"background: #f9cb9c; padding: 0.45em 0.6em; margin: 0 0.25em; line-height: 1; border-radius: 0.35em;\">\n",
       "    Word\n",
       "    <span style=\"font-size: 0.8em; font-weight: bold; line-height: 1; border-radius: 0.35em; vertical-align: middle; margin-left: 0.5rem\">PRODUCT</span>\n",
       "</mark>\n",
       ", newsletter, \n",
       "<mark class=\"entity\" style=\"background: #ffd966; padding: 0.45em 0.6em; margin: 0 0.25em; line-height: 1; border-radius: 0.35em;\">\n",
       "    Paralegal, Performance Management\n",
       "    <span style=\"font-size: 0.8em; font-weight: bold; line-height: 1; border-radius: 0.35em; vertical-align: middle; margin-left: 0.5rem\">ORG</span>\n",
       "</mark>\n",
       ", processes, \n",
       "<mark class=\"entity\" style=\"background: #ffd966; padding: 0.45em 0.6em; margin: 0 0.25em; line-height: 1; border-radius: 0.35em;\">\n",
       "    Publications, Recruitment,\n",
       "    <span style=\"font-size: 0.8em; font-weight: bold; line-height: 1; border-radius: 0.35em; vertical-align: middle; margin-left: 0.5rem\">ORG</span>\n",
       "</mark>\n",
       " Strategic Planning, Supervisor, training programs, travel arrangements, \n",
       "<mark class=\"entity\" style=\"background: #ffd966; padding: 0.45em 0.6em; margin: 0 0.25em; line-height: 1; border-radius: 0.35em;\">\n",
       "    Visio\n",
       "    <span style=\"font-size: 0.8em; font-weight: bold; line-height: 1; border-radius: 0.35em; vertical-align: middle; margin-left: 0.5rem\">ORG</span>\n",
       "</mark>\n",
       ", Website, workshops, \n",
       "<mark class=\"entity\" style=\"background: #c27ba0; padding: 0.45em 0.6em; margin: 0 0.25em; line-height: 1; border-radius: 0.35em;\">\n",
       "    annual\n",
       "    <span style=\"font-size: 0.8em; font-weight: bold; line-height: 1; border-radius: 0.35em; vertical-align: middle; margin-left: 0.5rem\">DATE</span>\n",
       "</mark>\n",
       " reports   </div></span>"
      ],
      "text/plain": [
       "<IPython.core.display.HTML object>"
      ]
     },
     "metadata": {},
     "output_type": "display_data"
    }
   ],
   "source": [
    "# options=[{\"ents\": \"Job-Category\", \"colors\": \"#ff3232\"},{\"ents\": \"SKILL\", \"colors\": \"#56c426\"}]\n",
    "colors = {\n",
    "    \"Job-Category\": \"linear-gradient(90deg, #aa9cfc, #fc9ce7)\",\n",
    "    \"SKILL\": \"linear-gradient(90deg, #9BE15D, #00E3AE)\",\n",
    "    \"ORG\": \"#ffd966\",\n",
    "    \"PERSON\": \"#e06666\",\n",
    "    \"GPE\": \"#9fc5e8\",\n",
    "    \"DATE\": \"#c27ba0\",\n",
    "    \"ORDINAL\": \"#674ea7\",\n",
    "    \"PRODUCT\": \"#f9cb9c\",\n",
    "}\n",
    "options = {\n",
    "    \"ents\": [\n",
    "        \"Job-Category\",\n",
    "        \"SKILL\",\n",
    "        \"ORG\",\n",
    "        \"PERSON\",\n",
    "        \"GPE\",\n",
    "        \"DATE\",\n",
    "        \"ORDINAL\",\n",
    "        \"PRODUCT\",\n",
    "    ],\n",
    "    \"colors\": colors,\n",
    "}\n",
    "sent = nlp(data[\"Resume_str\"].iloc[5])\n",
    "displacy.render(sent, style=\"ent\", jupyter=True, options=options)"
   ]
  },
  {
   "cell_type": "markdown",
   "id": "ab4de26f",
   "metadata": {},
   "source": [
    "## Any Resume Anlaysis\n",
    "In this part, I am allowing users to copy&paste their resumes and see the results.\n",
    "\n",
    "As we can see my I have added my Resume and the results are amazing. The model has successfully highlighted all the skills."
   ]
  },
  {
   "cell_type": "code",
   "execution_count": 79,
   "id": "492a54e9",
   "metadata": {},
   "outputs": [
    {
     "data": {
      "application/vnd.jupyter.widget-view+json": {
       "model_id": "2d42cf1f555840579e575d1da5e009de",
       "version_major": 2,
       "version_minor": 0
      },
      "text/plain": [
       "Textarea(value='', description='Resume:', layout=Layout(height='200px', width='70%'), placeholder='Type or pas…"
      ]
     },
     "metadata": {},
     "output_type": "display_data"
    },
    {
     "data": {
      "application/vnd.jupyter.widget-view+json": {
       "model_id": "9afa14386d794207a7a6a1b5a1ef5550",
       "version_major": 2,
       "version_minor": 0
      },
      "text/plain": [
       "Button(description='Submit', style=ButtonStyle())"
      ]
     },
     "metadata": {},
     "output_type": "display_data"
    }
   ],
   "source": [
    "import spacy\n",
    "from spacy import displacy\n",
    "from ipywidgets import widgets\n",
    "from IPython.display import display, HTML\n",
    "\n",
    "# Create a text area widget\n",
    "text_area = widgets.Textarea(\n",
    "    placeholder='Type or paste your resume here...',\n",
    "    description='Resume:',\n",
    "    layout=widgets.Layout(width='70%', height='200px')\n",
    ")\n",
    "\n",
    "# Define a function to process the input and display results\n",
    "def process_resume(resume_text):\n",
    "    # Process the text with spaCy\n",
    "    doc = nlp(resume_text)\n",
    "    \n",
    "    # Render the named entities with displacy\n",
    "    html = displacy.render(doc, style=\"ent\", jupyter=True)\n",
    "    display(HTML(html))\n",
    "\n",
    "# Create a button to submit the resume\n",
    "button = widgets.Button(description=\"Submit\")\n",
    "button.on_click(lambda b: process_resume(text_area.value))\n",
    "\n",
    "# Display the widgets\n",
    "display(text_area, button)"
   ]
  },
  {
   "cell_type": "markdown",
   "id": "c9b2117f",
   "metadata": {},
   "source": [
    "## Match Score\n",
    "In this section, I am allowing recruiters to add skills and get a percentage of match skills. This can help them filter out hundreds of Resumes with just one button.\n",
    "\n",
    "Please add the skills that are required by the job description without space in between commas and it will print out the percentage of match skills within the resume."
   ]
  },
  {
   "cell_type": "code",
   "execution_count": 78,
   "id": "770b00c0",
   "metadata": {},
   "outputs": [
    {
     "data": {
      "application/vnd.jupyter.widget-view+json": {
       "model_id": "f678480c7a6742e49f65016fc48b1aff",
       "version_major": 2,
       "version_minor": 0
      },
      "text/plain": [
       "Textarea(value='', description='Resume:', layout=Layout(height='200px', width='70%'), placeholder='Type or pas…"
      ]
     },
     "metadata": {},
     "output_type": "display_data"
    },
    {
     "data": {
      "application/vnd.jupyter.widget-view+json": {
       "model_id": "e190baccbf8e472ebb57eaef9189fd28",
       "version_major": 2,
       "version_minor": 0
      },
      "text/plain": [
       "Textarea(value='', description='Skills:', layout=Layout(height='100px', width='70%'), placeholder='Type or pas…"
      ]
     },
     "metadata": {},
     "output_type": "display_data"
    },
    {
     "data": {
      "application/vnd.jupyter.widget-view+json": {
       "model_id": "d920dd0dceb44a3cbb35250e32690059",
       "version_major": 2,
       "version_minor": 0
      },
      "text/plain": [
       "Button(description='Process', style=ButtonStyle())"
      ]
     },
     "metadata": {},
     "output_type": "display_data"
    },
    {
     "data": {
      "application/vnd.jupyter.widget-view+json": {
       "model_id": "407daf7225e14c0ca6d9f7dd0f1a9bd1",
       "version_major": 2,
       "version_minor": 0
      },
      "text/plain": [
       "Output()"
      ]
     },
     "metadata": {},
     "output_type": "display_data"
    }
   ],
   "source": [
    "import ipywidgets as widgets\n",
    "from IPython.display import display\n",
    "\n",
    "# Dummy functions for skills extraction (replace with actual implementations)\n",
    "def get_skills(resume_text):\n",
    "    # Example: skills are words longer than 3 chars\n",
    "    return [word.strip() for word in resume_text.split() if len(word) > 3]  \n",
    "\n",
    "def unique_skills(skills_list):\n",
    "    return list(set(skills_list))\n",
    "\n",
    "def calculate_match(req_skills, resume_skills):\n",
    "    score = 0\n",
    "    for skill in req_skills:\n",
    "        if skill in resume_skills:\n",
    "            score += 1\n",
    "    req_skills_len = len(req_skills)\n",
    "    match = round(score / req_skills_len * 100, 1) if req_skills_len > 0 else 0\n",
    "    return match\n",
    "\n",
    "# Widgets for input\n",
    "resume_text_area = widgets.Textarea(\n",
    "    placeholder='Type or paste your resume here...',\n",
    "    description='Resume:',\n",
    "    layout=widgets.Layout(width='70%', height='200px')\n",
    ")\n",
    "\n",
    "skills_text_area = widgets.Textarea(\n",
    "    placeholder='Type or paste the required skills here, separated by commas...',\n",
    "    description='Skills:',\n",
    "    layout=widgets.Layout(width='70%', height='100px')\n",
    ")\n",
    "\n",
    "output_area = widgets.Output()\n",
    "\n",
    "# Function to process input and display results\n",
    "def process_data(button):\n",
    "    resume_text = resume_text_area.value\n",
    "    skills_text = skills_text_area.value.lower()\n",
    "    \n",
    "    # Process skills\n",
    "    req_skills = [skill.strip() for skill in skills_text.split(\",\")]\n",
    "    resume_skills = unique_skills(get_skills(resume_text.lower()))\n",
    "    \n",
    "    # Calculate match percentage\n",
    "    match = calculate_match(req_skills, resume_skills)\n",
    "    \n",
    "    # Display results\n",
    "    with output_area:\n",
    "        output_area.clear_output()\n",
    "        print(f\"The current Resume is {match}% matched to your requirements\")\n",
    "\n",
    "# Button to trigger processing\n",
    "process_button = widgets.Button(description=\"Process\")\n",
    "process_button.on_click(process_data)\n",
    "\n",
    "# Display widgets\n",
    "display(resume_text_area, skills_text_area, process_button, output_area)"
   ]
  },
  {
   "cell_type": "markdown",
   "id": "e8981ec5",
   "metadata": {},
   "source": [
    "## Topic Modeling - LDA\n",
    "LDA, or Latent Dirchlet Allocation is arguably the most famous topic modeling algorithm out there. Out here we create a simple topic model with 4 topics."
   ]
  },
  {
   "cell_type": "code",
   "execution_count": 76,
   "id": "c19647ad",
   "metadata": {},
   "outputs": [
    {
     "data": {
      "text/plain": [
       "[(0,\n",
       "  '0.013*\"management\" + 0.011*\"company\" + 0.010*\"state\" + 0.009*\"city\" + 0.009*\"business\" + 0.009*\"project\" + 0.007*\"name\" + 0.007*\"financial\" + 0.007*\"customer\" + 0.006*\"sale\"'),\n",
       " (1,\n",
       "  '0.014*\"system\" + 0.007*\"project\" + 0.007*\"state\" + 0.006*\"city\" + 0.006*\"company\" + 0.006*\"design\" + 0.006*\"technical\" + 0.005*\"data\" + 0.005*\"support\" + 0.005*\"management\"'),\n",
       " (2,\n",
       "  '0.014*\"customer\" + 0.014*\"state\" + 0.012*\"city\" + 0.010*\"company\" + 0.009*\"service\" + 0.009*\"student\" + 0.009*\"name\" + 0.008*\"skill\" + 0.006*\"school\" + 0.005*\"work\"'),\n",
       " (3,\n",
       "  '0.012*\"marketing\" + 0.011*\"company\" + 0.010*\"state\" + 0.009*\"city\" + 0.009*\"medium\" + 0.008*\"management\" + 0.008*\"relation\" + 0.007*\"event\" + 0.007*\"communication\" + 0.007*\"name\"')]"
      ]
     },
     "execution_count": 76,
     "metadata": {},
     "output_type": "execute_result"
    }
   ],
   "source": [
    "docs = data[\"Clean_Resume\"].values\n",
    "dictionary = corpora.Dictionary(d.split() for d in docs)\n",
    "bow = [dictionary.doc2bow(d.split()) for d in docs]\n",
    "lda = gensim.models.ldamodel.LdaModel\n",
    "num_topics = 4\n",
    "ldamodel = lda(\n",
    "    bow, \n",
    "    num_topics=num_topics, \n",
    "    id2word=dictionary, \n",
    "    passes=50, \n",
    "    minimum_probability=0\n",
    ")\n",
    "ldamodel.print_topics(num_topics=num_topics)"
   ]
  },
  {
   "cell_type": "markdown",
   "id": "dd2ee9ce",
   "metadata": {},
   "source": [
    "## pyLDAvis\n",
    "The best way to visualize Topics is to use pyLDAvis from GENSIM.\n",
    "\n",
    "- topic #1 appears to relate to the customer, state, and city.\n",
    "- topic #2 relates to management and marketing.\n",
    "- topic #3 relates to systems and projects.\n",
    "- topic #4 relates to financial and company."
   ]
  },
  {
   "cell_type": "code",
   "execution_count": 77,
   "id": "328c1d4d",
   "metadata": {},
   "outputs": [
    {
     "data": {
      "text/html": [
       "\n",
       "<link rel=\"stylesheet\" type=\"text/css\" href=\"https://cdn.jsdelivr.net/gh/bmabey/pyLDAvis@3.4.0/pyLDAvis/js/ldavis.v1.0.0.css\">\n",
       "\n",
       "\n",
       "<div id=\"ldavis_el24929137164173127149166406\" style=\"background-color:white;\"></div>\n",
       "<script type=\"text/javascript\">\n",
       "\n",
       "var ldavis_el24929137164173127149166406_data = {\"mdsDat\": {\"x\": [0.008907319085577505, 0.06605237866518952, 0.0901519381420535, -0.16511163589282046], \"y\": [0.019117138301447786, -0.12348685755373302, 0.09879581684628928, 0.005573902405995999], \"topics\": [1, 2, 3, 4], \"cluster\": [1, 1, 1, 1], \"Freq\": [33.561932694055, 27.663575834112073, 21.39472703699506, 17.379764434837856]}, \"tinfo\": {\"Term\": [\"marketing\", \"system\", \"medium\", \"student\", \"relation\", \"financial\", \"event\", \"public\", \"customer\", \"engineering\", \"project\", \"business\", \"strategy\", \"patient\", \"food\", \"accounting\", \"technical\", \"account\", \"construction\", \"test\", \"design\", \"maintenance\", \"network\", \"equipment\", \"teacher\", \"communication\", \"server\", \"aircraft\", \"social\", \"art\", \"loan\", \"reconciliation\", \"mortgage\", \"accountant\", \"payable\", \"concrete\", \"lending\", \"banker\", \"variance\", \"ledger\", \"treasury\", \"underwriting\", \"reconciled\", \"fraud\", \"accrual\", \"receivable\", \"receivables\", \"merger\", \"financials\", \"underwriter\", \"sergeant\", \"valuation\", \"liability\", \"airfield\", \"cpa\", \"chase\", \"afghanistan\", \"borrower\", \"rfi\", \"aml\", \"tax\", \"banking\", \"construction\", \"accounting\", \"diligence\", \"financial\", \"statement\", \"branch\", \"subcontractor\", \"teller\", \"bank\", \"bid\", \"finance\", \"audit\", \"payroll\", \"forecasting\", \"account\", \"reporting\", \"compliance\", \"risk\", \"contract\", \"asset\", \"cost\", \"business\", \"management\", \"process\", \"project\", \"monthly\", \"budget\", \"credit\", \"manager\", \"operation\", \"report\", \"analysis\", \"company\", \"client\", \"sale\", \"state\", \"city\", \"new\", \"name\", \"customer\", \"service\", \"employee\", \"team\", \"training\", \"skill\", \"office\", \"system\", \"work\", \"managed\", \"development\", \"teacher\", \"classroom\", \"kitchen\", \"chef\", \"culinary\", \"cooking\", \"sanitation\", \"cook\", \"dining\", \"stocked\", \"emotional\", \"greeted\", \"teach\", \"ingredient\", \"neat\", \"cleanliness\", \"bartender\", \"alcoholic\", \"wine\", \"sou\", \"substitute\", \"garnish\", \"counting\", \"menu\", \"liquor\", \"pastry\", \"dessert\", \"cuisine\", \"trash\", \"pallet\", \"lesson\", \"educator\", \"beverage\", \"patron\", \"meal\", \"drink\", \"patient\", \"food\", \"parent\", \"greeting\", \"therapy\", \"student\", \"merchandise\", \"guest\", \"grade\", \"clean\", \"fitness\", \"bar\", \"teaching\", \"child\", \"curriculum\", \"school\", \"cashier\", \"friendly\", \"learning\", \"customer\", \"care\", \"item\", \"art\", \"store\", \"reading\", \"instruction\", \"medical\", \"service\", \"skill\", \"state\", \"city\", \"need\", \"education\", \"high\", \"name\", \"order\", \"company\", \"work\", \"staff\", \"maintained\", \"member\", \"experience\", \"professional\", \"sale\", \"daily\", \"2014\", \"training\", \"team\", \"information\", \"office\", \"management\", \"facebook\", \"journalism\", \"twitter\", \"blog\", \"indesign\", \"branding\", \"editorial\", \"hris\", \"seo\", \"instagram\", \"reporter\", \"celebrity\", \"spokesperson\", \"photographer\", \"recruiter\", \"follower\", \"fundraising\", \"rehabilitation\", \"copywriting\", \"pitch\", \"postdoctoral\", \"fmla\", \"publicist\", \"pitched\", \"jamie\", \"medium\", \"press\", \"pr\", \"flier\", \"invitation\", \"news\", \"outreach\", \"campaign\", \"marketing\", \"advertising\", \"photography\", \"newsletter\", \"brand\", \"edited\", \"relation\", \"public\", \"audience\", \"graphic\", \"event\", \"website\", \"recruitment\", \"content\", \"strategy\", \"social\", \"digital\", \"release\", \"communication\", \"show\", \"director\", \"creative\", \"print\", \"promotional\", \"wrote\", \"strategic\", \"national\", \"program\", \"development\", \"executive\", \"market\", \"client\", \"company\", \"sale\", \"developed\", \"state\", \"city\", \"including\", \"business\", \"management\", \"name\", \"new\", \"university\", \"team\", \"manager\", \"project\", \"managed\", \"experience\", \"skill\", \"product\", \"configuration\", \"linux\", \"unix\", \"ip\", \"lan\", \"avionics\", \"wiring\", \"3d\", \"javascript\", \"firewall\", \"cs\", \"airframe\", \"hydraulic\", \"db2\", \"welding\", \"xml\", \"configured\", \"instrumentation\", \"scrum\", \"bug\", \"diagram\", \"aeronautical\", \"matlab\", \"asp\", \"wan\", \"helicopter\", \"corrosion\", \"sailor\", \"defect\", \"missile\", \"router\", \"mechanical\", \"switch\", \"install\", \"weapon\", \"aircraft\", \"electrical\", \"server\", \"navy\", \"naval\", \"java\", \"hardware\", \"troubleshooting\", \"engineering\", \"engine\", \"sql\", \"cisco\", \"test\", \"user\", \"network\", \"installed\", \"engineer\", \"window\", \"component\", \"repair\", \"testing\", \"aviation\", \"installation\", \"technical\", \"system\", \"maintenance\", \"flight\", \"manufacturing\", \"tool\", \"security\", \"software\", \"technician\", \"technology\", \"equipment\", \"application\", \"design\", \"data\", \"support\", \"using\", \"project\", \"control\", \"quality\", \"state\", \"city\", \"company\", \"management\", \"name\", \"experience\", \"training\", \"team\", \"information\", \"process\"], \"Freq\": [4428.0, 6783.0, 3070.0, 4120.0, 2856.0, 3942.0, 3049.0, 2714.0, 10880.0, 1688.0, 8084.0, 7235.0, 2350.0, 1805.0, 1821.0, 2131.0, 2144.0, 3929.0, 2108.0, 1485.0, 3102.0, 2235.0, 1603.0, 2637.0, 1440.0, 4236.0, 1148.0, 1089.0, 1664.0, 2887.0, 1214.9371044336167, 643.6205204126121, 572.031854247356, 468.1772376839571, 459.9318268704607, 351.0620774475189, 302.4695573554288, 224.13077370502396, 201.81344606457736, 418.18348951317364, 181.8569116691077, 201.66326165603093, 143.11203607409303, 133.29616425842363, 103.28999110986116, 329.94880613412323, 101.45355276545693, 97.72808889279162, 97.57291594685579, 95.26780413736907, 90.40410848093633, 85.03732524369389, 126.09492752599543, 85.28474462308012, 77.68181365299905, 74.92174119603432, 74.28542721502009, 61.066780463792085, 61.21273480394704, 59.637711667353635, 923.6021738460885, 1278.9920376610512, 2044.157418760611, 2065.282131258095, 169.49207082742132, 3692.3638931537407, 729.8645886994094, 729.5418808949147, 212.76450069411203, 301.7165221652397, 1278.0317027053368, 203.2278209392349, 1290.122770200067, 856.5430694425925, 964.8792491326583, 353.49095932234036, 3176.940663125073, 1366.2382208475683, 1361.6501550890719, 850.8818266541814, 1164.3470260504862, 591.1021044115665, 1372.056259177284, 4651.07571011859, 6544.485294845116, 2900.2673533501734, 4602.816252253533, 1230.0397089326866, 1871.8508921170298, 1102.708084498386, 2986.8184921502843, 2404.489149594003, 2179.5686323086807, 1830.425836132833, 5545.322039492942, 2953.9492683410076, 3299.218484101369, 5357.288141210738, 4654.314259535446, 2627.44794153159, 3724.081632725913, 3658.5337306323336, 3177.0795271008146, 1959.2969186773314, 2631.854397360073, 2242.420882754911, 2384.0722811189503, 1837.4726395209352, 2061.007777333491, 1871.444564048882, 1564.3339613094295, 1662.06980847217, 1439.894259998957, 724.2011329682151, 535.5787348924385, 509.21319266316664, 284.2677691333924, 227.86515494898842, 204.51682113192345, 184.42776462976636, 174.16376696006753, 163.1512057020608, 155.52658890146756, 151.68235009880772, 149.6703179689061, 141.56731120857322, 135.07983475725092, 112.05920279027288, 98.21977141180098, 95.0852671361688, 94.79640678858648, 88.9182393011217, 93.31659157569108, 79.20335373113288, 84.05410002710643, 465.5189159430108, 73.81682610736912, 69.22649952005236, 68.19635992103478, 65.84214435587155, 67.50129981815962, 66.5994603455286, 636.2672060161188, 209.77996913354173, 406.37340990268564, 203.07031729729715, 204.29627554739457, 178.7535710159605, 1731.9096025534593, 1745.96858421851, 667.231870778342, 163.5595142448855, 202.9614441427751, 3776.4203946941707, 579.3478082535481, 772.8507991225785, 598.2907169599855, 471.0598889261891, 535.4011239732342, 329.4026152241467, 660.7956770539012, 982.63776022422, 552.980872607146, 2544.0542173340923, 302.3812462930721, 317.74205279447034, 926.0696031082573, 6152.72570209283, 985.2500192241839, 741.3718639095126, 1914.142486378657, 1097.780495593853, 567.5785592877154, 649.9008471021727, 910.408788922235, 3975.0054266615653, 3534.9834066618328, 5800.3042339967915, 5143.844721757411, 1435.2510955317116, 2026.9298491492598, 1574.5772819047074, 3689.0519462724524, 1328.285130941742, 4109.050163991884, 2030.6212101867766, 1525.1562598389778, 1242.5297619078317, 1340.7113263195713, 1776.4925808133041, 1466.857478647294, 1893.4962247603328, 1148.6727670894945, 1199.1516913464386, 1479.7174248717988, 1550.7103356494924, 1294.1340695570107, 1265.65570883916, 1232.2183756144814, 172.7027481638618, 147.01668771773564, 135.623685028384, 126.98462861385396, 140.03389017087946, 184.33343141922177, 102.03696361409028, 102.72628728947704, 82.80498605926235, 81.87658664006501, 78.4396960200835, 69.79848910735483, 60.920640795532584, 61.034819260294064, 96.75418540831927, 50.467343276534464, 291.79816588944254, 58.304692038227444, 46.441764599329964, 148.6715610295231, 45.864507378169556, 47.056003654165906, 46.31480823028304, 45.424415378802195, 44.440184792725105, 3014.566258035402, 948.5713424704226, 448.82450382889215, 34.990862031184896, 35.61104502455422, 372.0499669486693, 339.67248943420816, 978.0301849979012, 4044.508141724139, 727.6696273200852, 132.56927518645273, 382.27717831029156, 773.9338002180623, 188.34315317905998, 2498.5807813808997, 2373.601023268881, 194.431651376589, 467.9451365731845, 2479.3999154432136, 739.1444932697233, 447.4800912548111, 886.8085723534512, 1794.1002792271256, 1270.889051649858, 533.0198855982145, 538.3180588693897, 2460.1560836880244, 390.31959896508374, 1160.2393283173312, 699.206768548928, 347.9255145837291, 319.2781074660398, 388.594389448231, 987.6757323008911, 848.666297135415, 2251.546943386267, 2285.569114225517, 929.8790389333371, 860.2958065170379, 2116.7902410880333, 3695.494003578019, 2208.883984187629, 1264.483780737807, 3325.096119585533, 3055.9475780391444, 1432.1975462753041, 1997.7097180882313, 2527.6206472034046, 2435.481180759559, 1678.7495187227871, 1250.7864061710982, 1529.2287947513187, 1378.74280017901, 1552.1052461392712, 1181.5583379136729, 1193.211324770037, 1232.98840198334, 1097.7600718564506, 288.034543300531, 183.44908750502017, 155.5688047403249, 149.96512867050362, 131.15190434220278, 119.79043911268947, 143.45767472597657, 113.39658661098746, 105.88595548334636, 102.67848510518209, 98.64869004040067, 92.19408960876635, 92.86575598999939, 88.68749117109236, 95.86987869123122, 87.20662359453866, 87.1328068870913, 84.01069782426296, 82.61226828386418, 80.48229203654894, 81.66978431690099, 101.17898357791317, 78.3100767499447, 76.92697488460989, 76.90706688441206, 104.5428572085151, 73.89585484035359, 74.41173545325405, 105.02350996240824, 71.67815676884506, 148.00793854504678, 491.873487460474, 176.9336453483996, 170.35004545258582, 228.73387105044804, 1023.2458855042846, 616.8366065538961, 1061.0372883957411, 420.20453042316916, 198.1038299545399, 156.1097208163717, 610.4324678612791, 643.3164510007874, 1430.5969293262228, 323.53840988656935, 550.5254418525202, 254.06966595946852, 1214.8829373026877, 816.1020726189197, 1256.0934825602776, 219.7068474695751, 841.7135624564751, 886.9097722059697, 456.55905561836767, 739.2792962229778, 891.758601314226, 1016.7995390373967, 538.1097280330249, 1480.7228820505024, 3811.844998672063, 1422.831824401, 516.0977797153394, 453.66200778745787, 870.950856429002, 1003.1086501946285, 1348.7553671842934, 605.6774338069584, 1275.395254059511, 1397.5077851387393, 1055.4688636336905, 1536.4695346468925, 1472.0959881697188, 1457.6979471503118, 917.4268058943944, 1779.0929524643443, 934.940468485399, 1013.5022051813075, 1749.770117402628, 1678.7433750996204, 1548.578726230126, 1440.719416607028, 1368.5660081161457, 1130.768158233574, 1099.3109229244985, 1076.5696242674096, 992.1302517816428, 948.9925308158554], \"Total\": [4428.0, 6783.0, 3070.0, 4120.0, 2856.0, 3942.0, 3049.0, 2714.0, 10880.0, 1688.0, 8084.0, 7235.0, 2350.0, 1805.0, 1821.0, 2131.0, 2144.0, 3929.0, 2108.0, 1485.0, 3102.0, 2235.0, 1603.0, 2637.0, 1440.0, 4236.0, 1148.0, 1089.0, 1664.0, 2887.0, 1215.6834190821546, 644.3640143019206, 572.7691265747568, 468.9174581834744, 460.70581998550216, 351.8642267734194, 303.3446412881272, 224.86991354664585, 202.5587368482174, 419.8006795418752, 182.6017735914036, 202.58027692158396, 143.86352954009354, 134.03938313724842, 104.02053162912215, 332.2982284434408, 102.19899736346426, 98.46934697867641, 98.31785110961758, 96.01113357987687, 91.17007397755218, 85.77750504411776, 127.21147471459622, 86.07648816377586, 78.4193312604195, 75.66699515429185, 75.07516423042841, 61.80170884159625, 61.96273153140188, 60.37367303913069, 944.1031179472195, 1312.4488194759238, 2108.5901905842743, 2131.095674483453, 171.6502482794127, 3942.270531733486, 764.7820714332071, 765.0627508538884, 217.64729289176623, 313.2238050392884, 1388.880732904044, 208.8922212409553, 1417.661254458563, 943.4162950463337, 1090.1966674580237, 376.96121604469266, 3929.8862737669583, 1628.8568920967236, 1630.4191652485379, 1014.5516144978033, 1449.2195290188256, 677.5556781735714, 1766.2515481164155, 7235.223018474106, 11745.04373427003, 4552.589504329609, 8084.707225969019, 1647.6454056894713, 2791.3924876641863, 1460.0492964765033, 5152.537249206492, 3949.1578930990527, 3563.6023007247663, 2919.897077405167, 14898.44493329297, 6222.62500483581, 7417.181100824324, 16232.458612195689, 14532.849934431622, 5796.736259372269, 11217.180767874072, 10880.048066272571, 8760.772075600838, 3817.544871406083, 6788.363152028293, 5743.861893689513, 8031.4094880717985, 4317.86458482767, 6783.950472095465, 5414.144429202627, 3333.7921505411186, 5307.294960767973, 1440.6255892206077, 724.9495245042655, 536.3062301306496, 509.9445770300501, 284.99460796402246, 228.59450797273274, 205.23842191749932, 185.15734302212852, 174.89546601275103, 163.88806961772917, 156.25474336755624, 152.4032094592549, 150.43007989950053, 142.28709259046016, 135.8280426842462, 112.79714092231272, 98.94708108492702, 95.79967340189154, 95.56077974327414, 89.63538396557787, 94.0726951657658, 79.91772720496242, 84.8192743457522, 469.8924518358147, 74.53973833452608, 69.94272769667059, 68.9116788451688, 66.56032581730192, 68.2548664822861, 67.35421748330317, 645.9333103171653, 212.78065069497393, 416.1283974307011, 206.65393908901672, 208.12373582485355, 181.99204575271614, 1805.8189720109647, 1821.1873914221271, 692.1556221413753, 166.39698656271335, 207.39780685108113, 4120.039152799661, 605.8457336166165, 817.1021071599104, 628.9988994351648, 496.3389556194485, 568.2644765630702, 342.65697202451247, 712.6197901578179, 1127.357928202533, 610.911567557702, 3320.124136151047, 321.2773200339604, 342.00586917054096, 1164.8985260266397, 10880.048066272571, 1293.7340428482648, 930.4708036925141, 2887.7312459072896, 1500.8645593558515, 692.9246105368638, 827.545429760508, 1276.8563462041127, 8760.772075600838, 8031.4094880717985, 16232.458612195689, 14532.849934431622, 2508.4133554509954, 4189.011880149219, 3018.9541354225566, 11217.180767874072, 2356.9995147170207, 14898.44493329297, 5414.144429202627, 3718.832654771427, 2570.4872548965304, 3095.598988177309, 5695.232933480538, 4084.8649809139706, 7417.181100824324, 2378.8620320370433, 2733.9384410465022, 5743.861893689513, 6788.363152028293, 4254.593006651828, 4317.86458482767, 11745.04373427003, 173.47226452520616, 147.7948053379206, 136.3890790434198, 127.74870732296799, 140.956795571493, 185.61748464921394, 102.79716118224044, 103.5791906095699, 83.57614029244284, 82.64001848584448, 79.20715737721758, 70.5900863747606, 61.689564429416905, 61.81062895170027, 98.12523652255521, 51.24649497265022, 296.31473674767346, 59.23794483727775, 47.201473367906935, 151.11908563018378, 46.621738434808115, 47.84466773376755, 47.09272030327017, 46.190355599586816, 45.20223398849796, 3070.425166496261, 967.3444123853051, 457.9707587581346, 35.754275566212996, 36.39213687054796, 383.7526122021254, 350.47454693412396, 1035.0782266845758, 4428.641592123191, 774.3418826705686, 136.7308795949776, 404.68474803072684, 843.1048974712858, 197.2991761685145, 2856.976546021564, 2714.3873241199863, 205.7784820846883, 515.6560572120889, 3049.379655294604, 856.114692284774, 510.81533130025286, 1069.1459522231469, 2350.9510261986907, 1664.1605120688212, 656.2910883252932, 664.7572070965784, 4236.056545482255, 474.4775841997498, 1739.4709829010555, 954.4668269364307, 424.0227708855535, 381.5984843199053, 493.06490326528444, 1658.1892343443594, 1373.9606585214137, 5162.590151099861, 5307.294960767973, 1711.228747446134, 1548.908905514236, 6222.62500483581, 14898.44493329297, 7417.181100824324, 2962.970135500981, 16232.458612195689, 14532.849934431622, 3875.8636506065723, 7235.223018474106, 11745.04373427003, 11217.180767874072, 5796.736259372269, 3502.30304987275, 6788.363152028293, 5152.537249206492, 8084.707225969019, 3333.7921505411186, 5695.232933480538, 8031.4094880717985, 4136.616571785447, 288.7999280828863, 184.18328796971775, 156.30113111951823, 150.7230666619668, 131.89348985960618, 120.5415759099923, 144.39378329020144, 114.14383652587364, 106.61933005725437, 103.40478525887397, 99.40795461809424, 92.92104707908501, 93.59849596709569, 89.41334185382311, 96.6643925774707, 87.93472922043843, 87.88427463998732, 84.74682313220273, 83.34320031491131, 81.21690154423044, 82.41839899213485, 102.11267103435509, 79.04022791833319, 77.65378100141709, 77.63842512718882, 105.5613647289688, 74.62150681497212, 75.15132927269302, 106.06815937984214, 72.40990752968106, 150.1255190399967, 512.3272122383352, 180.5693962447461, 174.18218996344385, 235.94008525302308, 1089.4946964723079, 650.5284077560387, 1148.8033118535834, 442.9716656644269, 204.79460618993713, 160.20314553517306, 656.4752157133387, 700.0299936219006, 1688.7570929640676, 350.60541367108897, 617.9557796299057, 274.6067026425936, 1485.3901618650498, 975.7978083521264, 1603.4875197675988, 237.82708808219104, 1048.3249671973115, 1113.2034985021623, 536.8167116780663, 922.6833232948527, 1152.325474344057, 1349.292774376362, 659.3861358424077, 2144.402063102557, 6783.950472095465, 2235.264802437924, 666.8589487433031, 580.699962264184, 1312.945303999098, 1571.4992800489529, 2307.6674553851985, 840.5288543632402, 2212.206362936629, 2637.174791855251, 1799.144472098453, 3102.7095335827426, 3458.355798380514, 4022.7431007738646, 1913.0181279891365, 8084.707225969019, 2432.051630746647, 3353.2525137815946, 16232.458612195689, 14532.849934431622, 14898.44493329297, 11745.04373427003, 11217.180767874072, 5695.232933480538, 5743.861893689513, 6788.363152028293, 4254.593006651828, 4552.589504329609], \"Category\": [\"Default\", \"Default\", \"Default\", \"Default\", \"Default\", \"Default\", \"Default\", \"Default\", \"Default\", \"Default\", \"Default\", \"Default\", \"Default\", \"Default\", \"Default\", \"Default\", \"Default\", \"Default\", \"Default\", \"Default\", \"Default\", \"Default\", \"Default\", \"Default\", \"Default\", \"Default\", \"Default\", \"Default\", \"Default\", \"Default\", \"Topic1\", \"Topic1\", \"Topic1\", \"Topic1\", \"Topic1\", \"Topic1\", \"Topic1\", \"Topic1\", \"Topic1\", \"Topic1\", \"Topic1\", \"Topic1\", \"Topic1\", \"Topic1\", \"Topic1\", \"Topic1\", \"Topic1\", \"Topic1\", \"Topic1\", \"Topic1\", \"Topic1\", \"Topic1\", \"Topic1\", \"Topic1\", \"Topic1\", \"Topic1\", \"Topic1\", \"Topic1\", \"Topic1\", \"Topic1\", \"Topic1\", \"Topic1\", \"Topic1\", \"Topic1\", \"Topic1\", \"Topic1\", \"Topic1\", \"Topic1\", \"Topic1\", \"Topic1\", \"Topic1\", \"Topic1\", \"Topic1\", \"Topic1\", \"Topic1\", \"Topic1\", \"Topic1\", \"Topic1\", \"Topic1\", \"Topic1\", \"Topic1\", \"Topic1\", \"Topic1\", \"Topic1\", \"Topic1\", \"Topic1\", \"Topic1\", \"Topic1\", \"Topic1\", \"Topic1\", \"Topic1\", \"Topic1\", \"Topic1\", \"Topic1\", \"Topic1\", \"Topic1\", \"Topic1\", \"Topic1\", \"Topic1\", \"Topic1\", \"Topic1\", \"Topic1\", \"Topic1\", \"Topic1\", \"Topic1\", \"Topic1\", \"Topic1\", \"Topic1\", \"Topic1\", \"Topic1\", \"Topic1\", \"Topic1\", \"Topic2\", \"Topic2\", \"Topic2\", \"Topic2\", \"Topic2\", \"Topic2\", \"Topic2\", \"Topic2\", \"Topic2\", \"Topic2\", \"Topic2\", \"Topic2\", \"Topic2\", \"Topic2\", \"Topic2\", \"Topic2\", \"Topic2\", \"Topic2\", \"Topic2\", \"Topic2\", \"Topic2\", \"Topic2\", \"Topic2\", \"Topic2\", \"Topic2\", \"Topic2\", \"Topic2\", \"Topic2\", \"Topic2\", \"Topic2\", \"Topic2\", \"Topic2\", \"Topic2\", \"Topic2\", \"Topic2\", \"Topic2\", \"Topic2\", \"Topic2\", \"Topic2\", \"Topic2\", \"Topic2\", \"Topic2\", \"Topic2\", \"Topic2\", \"Topic2\", \"Topic2\", \"Topic2\", \"Topic2\", \"Topic2\", \"Topic2\", \"Topic2\", \"Topic2\", \"Topic2\", \"Topic2\", \"Topic2\", \"Topic2\", \"Topic2\", \"Topic2\", \"Topic2\", \"Topic2\", \"Topic2\", \"Topic2\", \"Topic2\", \"Topic2\", \"Topic2\", \"Topic2\", \"Topic2\", \"Topic2\", \"Topic2\", \"Topic2\", \"Topic2\", \"Topic2\", \"Topic2\", \"Topic2\", \"Topic2\", \"Topic2\", \"Topic2\", \"Topic2\", \"Topic2\", \"Topic2\", \"Topic2\", \"Topic2\", \"Topic2\", \"Topic2\", \"Topic2\", \"Topic2\", \"Topic2\", \"Topic3\", \"Topic3\", \"Topic3\", \"Topic3\", \"Topic3\", \"Topic3\", \"Topic3\", \"Topic3\", \"Topic3\", \"Topic3\", \"Topic3\", \"Topic3\", \"Topic3\", \"Topic3\", \"Topic3\", \"Topic3\", \"Topic3\", \"Topic3\", \"Topic3\", \"Topic3\", \"Topic3\", \"Topic3\", \"Topic3\", \"Topic3\", \"Topic3\", \"Topic3\", \"Topic3\", \"Topic3\", \"Topic3\", \"Topic3\", \"Topic3\", \"Topic3\", \"Topic3\", \"Topic3\", \"Topic3\", \"Topic3\", \"Topic3\", \"Topic3\", \"Topic3\", \"Topic3\", \"Topic3\", \"Topic3\", \"Topic3\", \"Topic3\", \"Topic3\", \"Topic3\", \"Topic3\", \"Topic3\", \"Topic3\", \"Topic3\", \"Topic3\", \"Topic3\", \"Topic3\", \"Topic3\", \"Topic3\", \"Topic3\", \"Topic3\", \"Topic3\", \"Topic3\", \"Topic3\", \"Topic3\", \"Topic3\", \"Topic3\", \"Topic3\", \"Topic3\", \"Topic3\", \"Topic3\", \"Topic3\", \"Topic3\", \"Topic3\", \"Topic3\", \"Topic3\", \"Topic3\", \"Topic3\", \"Topic3\", \"Topic3\", \"Topic3\", \"Topic3\", \"Topic3\", \"Topic3\", \"Topic3\", \"Topic3\", \"Topic3\", \"Topic4\", \"Topic4\", \"Topic4\", \"Topic4\", \"Topic4\", \"Topic4\", \"Topic4\", \"Topic4\", \"Topic4\", \"Topic4\", \"Topic4\", \"Topic4\", \"Topic4\", \"Topic4\", \"Topic4\", \"Topic4\", \"Topic4\", \"Topic4\", \"Topic4\", \"Topic4\", \"Topic4\", \"Topic4\", \"Topic4\", \"Topic4\", \"Topic4\", \"Topic4\", \"Topic4\", \"Topic4\", \"Topic4\", \"Topic4\", \"Topic4\", \"Topic4\", \"Topic4\", \"Topic4\", \"Topic4\", \"Topic4\", \"Topic4\", \"Topic4\", \"Topic4\", \"Topic4\", \"Topic4\", \"Topic4\", \"Topic4\", \"Topic4\", \"Topic4\", \"Topic4\", \"Topic4\", \"Topic4\", \"Topic4\", \"Topic4\", \"Topic4\", \"Topic4\", \"Topic4\", \"Topic4\", \"Topic4\", \"Topic4\", \"Topic4\", \"Topic4\", \"Topic4\", \"Topic4\", \"Topic4\", \"Topic4\", \"Topic4\", \"Topic4\", \"Topic4\", \"Topic4\", \"Topic4\", \"Topic4\", \"Topic4\", \"Topic4\", \"Topic4\", \"Topic4\", \"Topic4\", \"Topic4\", \"Topic4\", \"Topic4\", \"Topic4\", \"Topic4\", \"Topic4\", \"Topic4\", \"Topic4\", \"Topic4\", \"Topic4\", \"Topic4\", \"Topic4\", \"Topic4\", \"Topic4\"], \"logprob\": [30.0, 29.0, 28.0, 27.0, 26.0, 25.0, 24.0, 23.0, 22.0, 21.0, 20.0, 19.0, 18.0, 17.0, 16.0, 15.0, 14.0, 13.0, 12.0, 11.0, 10.0, 9.0, 8.0, 7.0, 6.0, 5.0, 4.0, 3.0, 2.0, 1.0, -6.0565, -6.6918, -6.8097, -7.0101, -7.0279, -7.298, -7.447, -7.7467, -7.8516, -7.123, -7.9557, -7.8523, -8.1953, -8.2664, -8.5214, -7.36, -8.5393, -8.5767, -8.5783, -8.6022, -8.6546, -8.7158, -8.3219, -8.7129, -8.8063, -8.8425, -8.851, -9.047, -9.0446, -9.0706, -6.3307, -6.0051, -5.5362, -5.5259, -8.0261, -4.9449, -6.5661, -6.5665, -7.7987, -7.4494, -6.0059, -7.8446, -5.9964, -6.406, -6.2869, -7.2911, -5.0953, -5.9391, -5.9425, -6.4127, -6.099, -6.7769, -5.9349, -4.7141, -4.3726, -5.1864, -4.7245, -6.0441, -5.6242, -6.1534, -5.157, -5.3738, -5.472, -5.6466, -4.5382, -5.168, -5.0575, -4.5727, -4.7134, -5.2852, -4.9364, -4.9541, -5.0952, -5.5786, -5.2835, -5.4436, -5.3824, -5.6428, -5.528, -5.6245, -5.8037, -5.7431, -5.6933, -6.3806, -6.6823, -6.7328, -7.3157, -7.5369, -7.645, -7.7484, -7.8057, -7.871, -7.9188, -7.9439, -7.9572, -8.0129, -8.0598, -8.2466, -8.3784, -8.4109, -8.4139, -8.4779, -8.4297, -8.5936, -8.5342, -6.8225, -8.6641, -8.7283, -8.7433, -8.7784, -8.7535, -8.767, -6.51, -7.6196, -6.9584, -7.6521, -7.6461, -7.7796, -5.5087, -5.5006, -6.4625, -7.8685, -7.6526, -4.7291, -6.6038, -6.3156, -6.5716, -6.8107, -6.6826, -7.1684, -6.4722, -6.0754, -6.6503, -5.1241, -7.254, -7.2044, -6.1347, -4.241, -6.0728, -6.3572, -5.4086, -5.9646, -6.6243, -6.4888, -6.1518, -4.6779, -4.7952, -4.3, -4.4201, -5.6966, -5.3514, -5.6039, -4.7525, -5.774, -4.6447, -5.3496, -5.6358, -5.8408, -5.7647, -5.4833, -5.6748, -5.4195, -5.9193, -5.8763, -5.666, -5.6192, -5.8001, -5.8223, -5.8491, -7.5571, -7.7181, -7.7988, -7.8646, -7.7668, -7.4919, -8.0833, -8.0766, -8.2922, -8.3035, -8.3464, -8.4631, -8.5991, -8.5972, -8.1365, -8.7874, -7.0326, -8.643, -8.8705, -7.7069, -8.883, -8.8573, -8.8732, -8.8926, -8.9145, -4.6975, -5.8537, -6.6021, -9.1536, -9.136, -6.7897, -6.8807, -5.8231, -4.4036, -6.1188, -7.8216, -6.7625, -6.0572, -7.4704, -4.8852, -4.9365, -7.4386, -6.5603, -4.8929, -6.1032, -6.6051, -5.9211, -5.2164, -5.5612, -6.4301, -6.4202, -4.9007, -6.7417, -5.6523, -6.1587, -6.8567, -6.9426, -6.7461, -5.8133, -5.965, -4.9893, -4.9743, -5.8736, -5.9514, -5.051, -4.4938, -5.0084, -5.5663, -4.5994, -4.6838, -5.4417, -5.1089, -4.8737, -4.9108, -5.2829, -5.5772, -5.3762, -5.4798, -5.3613, -5.6341, -5.6243, -5.5915, -5.7077, -6.8378, -7.2889, -7.4538, -7.4904, -7.6245, -7.7151, -7.5348, -7.77, -7.8385, -7.8692, -7.9093, -7.977, -7.9697, -8.0157, -7.9379, -8.0326, -8.0334, -8.0699, -8.0867, -8.1128, -8.0982, -7.884, -8.1402, -8.158, -8.1582, -7.8512, -8.1982, -8.1912, -7.8467, -8.2287, -7.5036, -6.3026, -7.3251, -7.363, -7.0683, -5.5701, -6.0762, -5.5338, -6.4601, -7.2121, -7.4503, -6.0867, -6.0342, -5.235, -6.7215, -6.19, -6.9632, -5.3984, -5.7963, -5.3651, -7.1086, -5.7654, -5.7131, -6.3771, -5.8952, -5.7077, -5.5764, -6.2128, -5.2006, -4.255, -5.2404, -6.2545, -6.3835, -5.7313, -5.59, -5.2939, -6.0945, -5.3498, -5.2584, -5.5391, -5.1636, -5.2064, -5.2162, -5.6793, -5.017, -5.6604, -5.5797, -5.0336, -5.075, -5.1558, -5.2279, -5.2793, -5.4702, -5.4984, -5.5193, -5.601, -5.6454], \"loglift\": [30.0, 29.0, 28.0, 27.0, 26.0, 25.0, 24.0, 23.0, 22.0, 21.0, 20.0, 19.0, 18.0, 17.0, 16.0, 15.0, 14.0, 13.0, 12.0, 11.0, 10.0, 9.0, 8.0, 7.0, 6.0, 5.0, 4.0, 3.0, 2.0, 1.0, 1.0912, 1.0906, 1.0905, 1.0902, 1.0901, 1.0895, 1.0889, 1.0885, 1.0881, 1.0879, 1.0877, 1.0872, 1.0865, 1.0862, 1.0847, 1.0847, 1.0845, 1.0842, 1.0842, 1.084, 1.0833, 1.0831, 1.083, 1.0825, 1.0823, 1.0819, 1.0812, 1.0798, 1.0796, 1.0795, 1.0698, 1.066, 1.0607, 1.0604, 1.0791, 1.0263, 1.045, 1.0442, 1.0691, 1.0543, 1.0086, 1.0643, 0.9975, 0.9952, 0.9697, 1.0275, 0.8791, 0.916, 0.9116, 0.9158, 0.8729, 0.9553, 0.8392, 0.6499, 0.507, 0.6409, 0.5285, 0.7995, 0.6922, 0.8111, 0.5465, 0.5956, 0.6001, 0.6248, 0.1035, 0.3467, 0.2817, -0.0168, -0.0468, 0.3005, -0.0108, 0.0019, 0.0775, 0.4248, 0.1443, 0.1512, -0.1228, 0.2374, -0.0996, 0.0295, 0.3351, -0.0692, 1.2845, 1.284, 1.2837, 1.2836, 1.2825, 1.2819, 1.2815, 1.2811, 1.2809, 1.2805, 1.2804, 1.2803, 1.28, 1.28, 1.2795, 1.2785, 1.2777, 1.2776, 1.277, 1.277, 1.277, 1.2761, 1.276, 1.2757, 1.2753, 1.2748, 1.2746, 1.2742, 1.274, 1.2738, 1.27, 1.2709, 1.2613, 1.2676, 1.2665, 1.2671, 1.2433, 1.2429, 1.2484, 1.2679, 1.2634, 1.198, 1.2403, 1.2294, 1.235, 1.2328, 1.2255, 1.2456, 1.2096, 1.1477, 1.1854, 1.0188, 1.2244, 1.2115, 1.0556, 0.715, 1.0127, 1.0579, 0.8739, 0.9723, 1.0855, 1.0434, 0.9468, 0.4948, 0.4644, 0.256, 0.2464, 0.7267, 0.5591, 0.6341, 0.173, 0.7116, -0.003, 0.3044, 0.3937, 0.5581, 0.4483, 0.1201, 0.2609, -0.0803, 0.557, 0.4609, -0.0712, -0.1914, 0.0949, 0.0579, -0.9696, 1.5376, 1.5367, 1.5364, 1.536, 1.5355, 1.5351, 1.5346, 1.5338, 1.5328, 1.5327, 1.5323, 1.5307, 1.5295, 1.5294, 1.528, 1.5267, 1.5267, 1.5261, 1.5258, 1.5257, 1.5257, 1.5254, 1.5254, 1.5253, 1.525, 1.5237, 1.5224, 1.5219, 1.5204, 1.5203, 1.5111, 1.5107, 1.4853, 1.4513, 1.4799, 1.5111, 1.4851, 1.4564, 1.4956, 1.408, 1.4079, 1.4853, 1.4449, 1.3351, 1.3951, 1.4096, 1.355, 1.2717, 1.2724, 1.334, 1.3311, 0.9986, 1.3468, 1.1371, 1.2308, 1.3442, 1.3637, 1.3039, 1.0239, 1.0602, 0.7122, 0.6996, 0.9321, 0.954, 0.4637, 0.1479, 0.3307, 0.6905, -0.0435, -0.0173, 0.5465, 0.2551, 0.0059, 0.0147, 0.3028, 0.5124, 0.0516, 0.2237, -0.1083, 0.5047, -0.021, -0.3319, 0.2154, 1.7472, 1.7459, 1.7452, 1.7448, 1.7442, 1.7436, 1.7434, 1.7433, 1.743, 1.7428, 1.7422, 1.742, 1.742, 1.7417, 1.7416, 1.7415, 1.7413, 1.7411, 1.7411, 1.7408, 1.7407, 1.7407, 1.7406, 1.7405, 1.7404, 1.7402, 1.7401, 1.74, 1.74, 1.7397, 1.7357, 1.7091, 1.7295, 1.7276, 1.7188, 1.6871, 1.6967, 1.6704, 1.6971, 1.7166, 1.724, 1.6771, 1.6654, 1.584, 1.6695, 1.6343, 1.6721, 1.5488, 1.5711, 1.5057, 1.6706, 1.5304, 1.5226, 1.5879, 1.5283, 1.4935, 1.4669, 1.5466, 1.3795, 1.1734, 1.2982, 1.4936, 1.503, 1.3394, 1.3009, 1.2128, 1.4222, 1.1991, 1.1148, 1.2165, 1.0471, 0.8958, 0.7348, 1.015, 0.236, 0.7939, 0.5533, -0.4777, -0.4085, -0.5141, -0.3484, -0.3538, 0.1331, 0.0964, -0.0916, 0.294, 0.1818]}, \"token.table\": {\"Topic\": [1, 2, 3, 4, 4, 1, 2, 3, 4, 1, 1, 2, 3, 1, 2, 3, 4, 1, 1, 2, 4, 1, 4, 2, 1, 1, 2, 3, 4, 1, 2, 3, 4, 1, 2, 3, 4, 4, 1, 2, 3, 4, 3, 4, 1, 2, 3, 4, 1, 2, 3, 4, 4, 1, 2, 3, 4, 1, 1, 2, 4, 2, 3, 4, 2, 1, 2, 1, 3, 3, 1, 1, 2, 3, 4, 1, 2, 3, 1, 3, 1, 2, 3, 4, 4, 1, 2, 3, 4, 1, 2, 3, 4, 1, 2, 3, 4, 1, 2, 4, 3, 1, 2, 2, 3, 3, 4, 1, 2, 3, 4, 2, 1, 2, 4, 2, 1, 2, 3, 4, 1, 2, 3, 4, 1, 2, 3, 4, 1, 2, 3, 4, 1, 2, 3, 4, 1, 4, 4, 1, 2, 4, 2, 3, 4, 1, 2, 3, 4, 1, 2, 3, 4, 2, 2, 3, 4, 1, 2, 3, 4, 2, 1, 1, 2, 3, 1, 2, 3, 4, 4, 2, 2, 2, 3, 4, 1, 2, 3, 4, 1, 2, 3, 4, 1, 2, 3, 4, 4, 2, 4, 1, 2, 3, 4, 2, 1, 2, 3, 4, 1, 2, 3, 4, 4, 2, 3, 4, 1, 3, 2, 1, 2, 3, 4, 2, 3, 2, 3, 4, 3, 1, 2, 3, 4, 2, 3, 1, 2, 4, 2, 1, 2, 3, 4, 1, 3, 4, 1, 3, 4, 1, 3, 4, 1, 2, 3, 4, 1, 2, 3, 4, 1, 2, 3, 1, 2, 3, 4, 3, 1, 2, 3, 4, 1, 2, 3, 1, 4, 1, 2, 3, 3, 1, 2, 4, 3, 3, 1, 2, 3, 1, 3, 1, 1, 2, 3, 2, 3, 2, 1, 2, 3, 4, 2, 3, 4, 2, 2, 3, 2, 3, 1, 3, 4, 1, 4, 1, 2, 3, 4, 3, 4, 1, 2, 3, 4, 3, 1, 2, 3, 4, 2, 3, 1, 4, 1, 2, 3, 4, 1, 2, 4, 1, 2, 4, 4, 3, 4, 1, 2, 3, 4, 3, 2, 4, 4, 3, 2, 4, 1, 2, 3, 4, 1, 3, 1, 2, 4, 1, 3, 4, 2, 1, 1, 2, 3, 4, 1, 2, 3, 4, 1, 2, 3, 4, 1, 2, 3, 4, 1, 2, 3, 4, 1, 3, 4, 1, 2, 3, 4, 1, 2, 3, 4, 4, 2, 3, 1, 2, 4, 1, 2, 3, 4, 2, 3, 4, 1, 2, 3, 4, 2, 3, 1, 2, 3, 4, 1, 4, 1, 2, 3, 4, 1, 1, 2, 3, 4, 1, 2, 3, 4, 1, 4, 1, 4, 2, 1, 2, 3, 4, 1, 3, 4, 1, 2, 3, 4, 1, 3, 4, 2, 3, 1, 2, 3, 4, 1, 2, 3, 4, 1, 2, 3, 4, 2, 3, 2, 2, 3, 2, 2, 3, 2, 3, 1, 1, 2, 3, 3, 2, 3, 3, 4, 3, 3, 1, 2, 3, 1, 2, 3, 1, 2, 3, 4, 1, 2, 3, 4, 1, 2, 3, 4, 1, 2, 3, 4, 1, 2, 3, 4, 1, 2, 3, 4, 1, 2, 3, 4, 1, 2, 3, 4, 3, 1, 2, 3, 4, 1, 2, 3, 4, 1, 3, 1, 1, 1, 2, 3, 1, 2, 3, 3, 1, 2, 3, 1, 2, 3, 4, 1, 2, 4, 1, 2, 3, 4, 3, 1, 2, 3, 4, 1, 1, 2, 3, 4, 2, 4, 4, 1, 2, 3, 4, 2, 1, 2, 3, 4, 4, 1, 2, 3, 4, 3, 1, 2, 4, 1, 2, 3, 4, 2, 3, 4, 1, 2, 3, 4, 2, 3, 1, 2, 3, 4, 2, 3, 1, 4, 1, 2, 3, 4, 1, 2, 3, 4, 1, 2, 3, 4, 2, 1, 2, 3, 4, 1, 3, 4, 1, 2, 3, 4, 1, 2, 3, 4, 1, 3, 2, 1, 2, 3, 4, 3, 4, 1, 2, 3, 4, 1, 2, 2, 2, 2, 3, 1, 2, 3, 4, 1, 2, 3, 4, 1, 2, 4, 1, 2, 3, 4, 1, 2, 1, 2, 4, 1, 2, 3, 4, 2, 3, 4, 1, 2, 3, 4, 1, 2, 3, 4, 2, 1, 1, 2, 4, 3, 1, 1, 1, 2, 3, 4, 4, 1, 3, 4, 1, 2, 3, 4, 1, 1, 4, 1, 3, 4, 2, 3, 4, 4, 1, 2, 3, 4, 2, 4, 1, 2, 3, 4, 1, 2, 3, 4, 4], \"Freq\": [0.19093334076687837, 0.4385614474702819, 0.22677906374610074, 0.14374866460035096, 0.989978990012182, 0.8084203406107002, 0.018321140863698588, 0.16234566487555138, 0.010941792460264435, 0.998043454839518, 0.9689851209990966, 0.025808320414019523, 0.005161664082803904, 0.9901891327304423, 0.059405284706225775, 0.9401532014376601, 0.9891034969207618, 0.9856788294577897, 0.05507140162707992, 0.005507140162707992, 0.9389673977417127, 0.9874938187333148, 0.9900878529887732, 0.9916526500196216, 0.9938106624904451, 0.6267344195660045, 0.0171238912449728, 0.10377078094453517, 0.2524061569508991, 0.3184847069739068, 0.034460823442202825, 0.06058435089032432, 0.5863898182503868, 0.025625653393084407, 0.662804062085994, 0.3019671589022919, 0.009349900562341609, 0.9915808220412969, 0.8722530399171148, 0.004427680405670633, 0.04722859099382009, 0.07527056689640077, 0.942761352084224, 0.05345554058209517, 0.9084006758203285, 0.030739346089602715, 0.03709921079779638, 0.024379481381409048, 0.23493789192380146, 0.008152418962655571, 0.0029645159864202077, 0.7537281895473379, 0.9955071442703164, 0.9201654034956618, 0.047520279053766566, 0.020880122614533796, 0.011520067649397956, 0.9961314809396883, 0.9745141913501204, 0.0007619344732995468, 0.0243819031455855, 0.9601438956755403, 0.023346964028584563, 0.014591852517865352, 0.9904284080485999, 0.021627939971337315, 0.9756604031514388, 0.9717930078681164, 0.02393578837113587, 0.9941392180112231, 0.9870277237211821, 0.954170098054369, 0.03136997582644501, 0.002614164652203751, 0.011763740934916878, 0.022535748584768596, 0.05930460153886472, 0.9180352318216259, 0.005387423506410687, 0.9912859251795664, 0.6706330293116443, 0.02400235735250009, 0.29053599720712797, 0.01504625386276125, 0.9850166465219347, 0.6428274550935524, 0.026813271616458648, 0.27614905510146587, 0.05417939419408139, 0.033813869423287284, 0.0009661105549510652, 0.9448561227421417, 0.021254432208923434, 0.05256103476282672, 0.7613620476674164, 0.1762340577341837, 0.009275476722851774, 0.04980121223094344, 0.9399978808590576, 0.009337727293301895, 0.9916406622365094, 0.9911851243341725, 0.9981476868808933, 0.8719502257524385, 0.127732281290286, 0.07283143422041823, 0.9249592145993114, 0.3202400094267551, 0.35395672722200866, 0.2102822236373364, 0.11553136566985858, 0.9986902198399057, 0.008059008777596067, 0.9489482835619368, 0.04230979608237935, 0.9929329687278001, 0.47471927003545095, 0.1279202907746171, 0.34021012006264373, 0.0572105823062358, 0.1576938345434554, 0.18838275443963684, 0.5807287918815872, 0.07294520190707741, 0.37218649495483963, 0.2758005965319091, 0.24801246147125922, 0.10397058263030597, 0.835368001695674, 0.03741369170590023, 0.04416042299712814, 0.08341413232790872, 0.10804432637481508, 0.014902665706871045, 0.02794249820038321, 0.8513147785050084, 0.9975438629230817, 0.9972301652282382, 0.9899381926560843, 0.9693680683554841, 0.02466102717929803, 0.0061652567948245075, 0.06734347153471944, 0.829634156268002, 0.1028858592891547, 0.8031909429126106, 0.01794069116471467, 0.1635363002322068, 0.015180584831681644, 0.45311538047474875, 0.1558355074409526, 0.006578807701992722, 0.3844490750851997, 0.9937494079184848, 0.9973992902191523, 0.974545850326701, 0.991671210600006, 0.7767862972084257, 0.0815285909606511, 0.04812451549760655, 0.09398434791297279, 0.9903409413476875, 0.9946527054786153, 0.03771739256308136, 0.22944747142541164, 0.7323460389331632, 0.7554539443714945, 0.2095819646216476, 0.021232159814611358, 0.014383076003446404, 0.9958961572073229, 0.9915816845782888, 0.9965100814674079, 0.9052046635993152, 0.08184490629288564, 0.013095185006861703, 0.33630366131769746, 0.5655305898026216, 0.05983429448423642, 0.038327036559027014, 0.36151739294589247, 0.48300405173817496, 0.08995897917490812, 0.06557757360413863, 0.30737149731608987, 0.14775807632034046, 0.11942091099863134, 0.4256357893219984, 0.9953771792301549, 0.009427900001723291, 0.9899295001809455, 0.11409382546719776, 0.06349289157355356, 0.3271334261276998, 0.4950511749085191, 0.9867703289130837, 0.2645993594759742, 0.17077458660056496, 0.42659896731840735, 0.13803716584907327, 0.3131538782535475, 0.10852986394346772, 0.43072789752563756, 0.14772120370083108, 0.994923475859137, 0.0015237141228776614, 0.8121396274937935, 0.1858931229910747, 0.9845601838274151, 0.011651599808608462, 0.9948799929857202, 0.23915317018177754, 0.05231475597726384, 0.6668694168530336, 0.04139189483915381, 0.9835594696441755, 0.016484236921410763, 0.02534222441825843, 0.952867638126517, 0.020273779534606746, 0.992245299645705, 0.2110282866919228, 0.4838849967472031, 0.21460908341180837, 0.09023607734111631, 0.986931844197807, 0.009399350897121971, 0.044579144667999775, 0.006148847540413762, 0.9484597331088228, 0.9983696919398023, 0.5131570331165377, 0.19253211809119714, 0.2794990068072209, 0.014407165299341282, 0.008556627716006602, 0.06845302172805282, 0.9241157933287131, 0.1965039529209529, 0.0009539026840822957, 0.803186059997293, 0.14981432264834502, 0.0029607573645917987, 0.8473687577461728, 0.12930504305333007, 0.3317944653127971, 0.008721454516793525, 0.530112757151189, 0.011149808762239945, 0.1642957114671239, 0.8129522329880242, 0.011149808762239945, 0.39737527844529447, 0.059021916357315796, 0.543469130814888, 0.28005878225339675, 0.31183974751224613, 0.20947343399893562, 0.19858713650695406, 0.9972775790614209, 0.9099493944289817, 0.005643097019714615, 0.0839410681682549, 0.0007053871274643269, 0.9365161447650733, 0.005580540407592528, 0.05783469149686801, 0.9967671068271906, 0.9960854301098292, 0.010558463967849442, 0.9414630371332419, 0.04575334386068092, 0.9789039057771941, 0.20843988112020653, 0.01799480988088114, 0.773776824877889, 0.9823456244180079, 0.9756764833709025, 0.004392738516464782, 0.9587151812184386, 0.03678918507539255, 0.9364358585848476, 0.06101423441204389, 0.9922456884467742, 0.014619632148788517, 0.9298086046629497, 0.055554602165396365, 0.013499159859221569, 0.9854386697231745, 0.9885166002955921, 0.0063593116038707905, 0.9507170847786831, 0.025437246415483162, 0.017488106910644674, 0.04460337404810145, 0.9075816980222382, 0.0465426511806276, 0.9973543243565176, 0.9855947718030942, 0.0120194484366231, 0.9460261982272928, 0.05384883922639183, 0.05788489662737452, 0.012186294026815689, 0.9292049195446963, 0.009473162861881549, 0.9946821004975626, 0.23219961899218536, 0.5217038515159657, 0.13746482436769888, 0.10897813787222393, 0.9944082338724474, 0.9936057095692425, 0.3467614243317523, 0.17441274021448253, 0.3694660414010932, 0.10939497315227899, 0.9932121359058017, 0.3020265388465998, 0.30414189981906625, 0.16053239379939896, 0.233159787187414, 0.9979823005359559, 0.9922553443528802, 0.017223345283634447, 0.9759895660726187, 0.1698549513130313, 0.006066248261179689, 0.009099372391769533, 0.8159103911286681, 0.04204735499492002, 0.03363788399593602, 0.9250418098882406, 0.04591892920126115, 0.7854553679163092, 0.1691750023204358, 0.99118759730925, 0.9892246813661192, 0.9952026807974358, 0.17840430816446853, 0.7963710382522361, 0.016120871219680893, 0.00859779798382981, 0.9734032174426628, 0.024968298759912855, 0.9737636516366013, 0.9941912028811117, 0.9946222376618492, 0.9994290013551119, 0.9932256712552132, 0.03004553548486471, 0.7949190245424206, 0.11760681032647044, 0.057515739356741015, 0.9957106321413289, 0.0023820828520127488, 0.9955672818797217, 0.9846217710737231, 0.013933326949156458, 0.9904766868137154, 0.007860926085823138, 0.9935754867731957, 0.9927590524653602, 0.999437831370053, 0.2991650701769204, 0.48356590667088695, 0.10620554506930985, 0.11126295197737221, 0.2245818926923049, 0.12302792926371285, 0.015658100088108907, 0.6366136121536851, 0.46913542577816136, 0.09628674659513414, 0.3545511977428304, 0.08008897613987793, 0.5571711905087017, 0.1048953097045722, 0.21523972640678452, 0.1226900497437407, 0.5797143922559722, 0.08325995121453367, 0.2676351345567411, 0.06948033224895817, 0.20148098433450895, 0.01722059695166743, 0.7818151016057014, 0.4306257118320052, 0.010329852157889181, 0.5552295534865435, 0.0038736945592084426, 0.07067629960317938, 0.01287076382549912, 0.9133726258621745, 0.003387043111973453, 0.9868392596310833, 0.9801861339433006, 0.014414501969754419, 0.033181918886814044, 0.00585563274473189, 0.96032377013603, 0.09946302916342191, 0.7126878467615271, 0.14880295701614302, 0.039158672898985, 0.007165131474317855, 0.9819486997758332, 0.010747697211476781, 0.24163336493413928, 0.4331956448886107, 0.24906326786660613, 0.07623726487226855, 0.9917162920566028, 0.008512586197910755, 0.009903511186226894, 0.9556888294708952, 0.028059948360976198, 0.006602340790817929, 0.9952335727505327, 0.9943390684553348, 0.7465198493272258, 0.08679051906812463, 0.1571940170534565, 0.009103900601551534, 0.9986571787146484, 0.3319907271767885, 0.3288705135755029, 0.21707771768944148, 0.12204492629028557, 0.1768609592224454, 0.10626214010895897, 0.617921622962371, 0.09971173421183137, 0.029297646611040572, 0.9668223381643388, 0.049664576101050434, 0.9481419073836902, 0.9939037427921189, 0.26829708849122247, 0.572074772637302, 0.12318543884663855, 0.036676570789290444, 0.06236406505645487, 0.15403924068944355, 0.7832926571090733, 0.4531860485721803, 0.14818683506794933, 0.28964574630859946, 0.10902686817572058, 0.005211690908169205, 0.9693745089194722, 0.023452609086761424, 0.05436330404606597, 0.9439446429816909, 0.4254417812116997, 0.2932004872150309, 0.1929194359005693, 0.08846965727973287, 0.6087373726436374, 0.1526907802429756, 0.05722739027348671, 0.18130447537971897, 0.3406873845268515, 0.5634282025549923, 0.018667801891882274, 0.07721681691642213, 0.0285327424986432, 0.9701132449538689, 0.9947409754498152, 0.9636561181666785, 0.03467428311244421, 0.9865214336398341, 0.9591216101087033, 0.040424871557699395, 0.9823185606568924, 0.014517023063894961, 0.9984679594767777, 0.8851613922560039, 0.059622269944704924, 0.05503594148741993, 0.98688528226539, 0.029254547413493915, 0.9727137014986726, 0.985977379221513, 0.013234595694248496, 0.9742293475740753, 0.9866641945221004, 0.01528481866174532, 0.004367091046212948, 0.980411939874807, 0.008270063792763712, 0.01033757974095464, 0.9810363174165952, 0.04009218647502403, 0.009433455641182125, 0.8207106407828448, 0.1297100150662542, 0.6370001066957692, 0.06040518253149536, 0.09401242953992732, 0.20845279353596036, 0.2763127740182741, 0.2796971824489441, 0.2654343183482633, 0.17840667298817697, 0.2959706148548125, 0.3591305971811497, 0.25361915383753997, 0.0913126876268363, 0.2535548942852116, 0.201642967876933, 0.4362151428038935, 0.1086663832650907, 0.5693465293603495, 0.018677237873867644, 0.19196737205458667, 0.22004507402391088, 0.0026205554819805584, 0.13364832958100847, 0.8359571987517981, 0.028826110301786143, 0.06483967797670873, 0.05120860931115064, 0.8745988381631051, 0.009578588792013789, 0.9767964072529, 0.3924547866858661, 0.2508012732544175, 0.05457387991148442, 0.30239297393576614, 0.04906738696098194, 0.8197139939364041, 0.07360108044147291, 0.05772633760115522, 0.9930838378097704, 0.00601868992611982, 0.988268012462, 0.9939975785186552, 0.9994350797160593, 0.010191058237807544, 0.9885326490673317, 0.10962865945596234, 0.013703582431995293, 0.8750716210145565, 0.9791021643191995, 0.08260480833440441, 0.042702485664395495, 0.8747009153715111, 0.04964218461674479, 0.010530160373248896, 0.8093180401154152, 0.12937054172848644, 0.12572027376171732, 0.07261429605202638, 0.8009248474992163, 0.6117405411812175, 0.14704222182521007, 0.15125144573242028, 0.08979677668715118, 0.9847594912228879, 0.8386249317714064, 0.022101389124283038, 0.08349413669173593, 0.055867400286382124, 0.9844627325553913, 0.8387941902997609, 0.09659439559268691, 0.016756170664037527, 0.047311540698458894, 0.01332218541384131, 0.985841720624257, 0.984679854849735, 0.44477813810335015, 0.2552182526309918, 0.29782203912406807, 0.002157153746484875, 0.9988383173322432, 0.07740674428454802, 0.7662364103497672, 0.1132487776303115, 0.04307067872642166, 0.9958820837979039, 0.20744521116792683, 0.1049952755911286, 0.04899779527586002, 0.6382440085933454, 0.9931064022527618, 0.9871660301839804, 0.0757309794481932, 0.9235697608567008, 0.3626392711263536, 0.4537271333733886, 0.09519708911532229, 0.08846252285896256, 0.16860648988282, 0.8219566381787476, 0.008430324494141002, 0.2968345722554307, 0.4401469013938538, 0.15352224311700757, 0.10944529740458205, 0.2361551047209006, 0.7637484430032179, 0.2431026180530666, 0.03900042000851336, 0.1334681040291346, 0.5845729621276058, 0.9929114604359605, 0.9888220246682746, 0.1084219975094761, 0.8916495616077811, 0.36409274783116635, 0.41007491908606253, 0.20866763095789148, 0.01720970152230033, 0.33001778276367855, 0.35730878103963704, 0.20483649947530916, 0.10780868393437325, 0.9545202839705366, 0.005230248131345406, 0.03791929895225419, 0.002615124065672703, 0.9945812430410548, 0.08395161256527858, 0.7315783380688562, 0.15124615914538284, 0.033314131970348645, 0.3871693210297822, 0.5958306685006617, 0.01688588939070701, 0.1786511055821984, 0.04296133729476676, 0.7630954367011047, 0.01531295190704558, 0.012135807002228088, 0.9164961448082651, 0.05873730589078394, 0.01237852314227265, 0.978647596163407, 0.018378358613397316, 0.9885971677129523, 0.29954684398518794, 0.15462086054671112, 0.1834569052788952, 0.36243925189245146, 0.01661411104201601, 0.9802325514789445, 0.30380528402699064, 0.08416924656934094, 0.05011829042657779, 0.5619144797238663, 0.9787066501899389, 0.021184126627487854, 0.9971409979986193, 0.9995657516947577, 0.9275633502314241, 0.0715669150708058, 0.38772233321276944, 0.2284792320718106, 0.22523839190057923, 0.15865385747346228, 0.16881162643364198, 0.047099376435905636, 0.09373242241204983, 0.6906354109066956, 0.08922953639327205, 0.19035634430564705, 0.7209746540576382, 0.13380306871872027, 0.10984508681976023, 0.17991088293936036, 0.5763476777580012, 0.9641668198306941, 0.03511865900045574, 0.025582504163274757, 0.1561879201547301, 0.8179669094310218, 0.12062564188223257, 0.09545914105788189, 0.010413724479041661, 0.7740868529420968, 0.9787953068653281, 0.004821651757957282, 0.014464955273871843, 0.17289372170232914, 0.07083311065337713, 0.09292085483561302, 0.663393971818188, 0.39032971918478243, 0.25766636235213114, 0.16051917978963845, 0.19133468393580547, 0.9962659588184493, 0.9967044482670242, 0.03428424527330018, 0.0457123270310669, 0.9185320712805005, 0.997147285939984, 0.9894685799221853, 0.997135570498758, 0.3123658873665283, 0.1938724291790427, 0.35719353299408313, 0.1367671481248328, 0.9980733912969064, 0.11170346875862859, 0.052264925749450075, 0.8362388119912012, 0.14741104429387897, 0.29639029118662896, 0.0763191931450579, 0.4793472610549184, 0.9909357932045486, 0.9972416057835309, 0.9917769438761419, 0.008476728309457005, 0.02119182077364251, 0.9705853914328271, 0.054899186316459264, 0.8632020997417744, 0.08176474557770529, 0.9931268116443371, 0.04940695935110122, 0.12486486090551036, 0.028745867258822527, 0.7967995080804869, 0.9941316956100538, 0.9903473455820447, 0.3455763000906042, 0.3751285224393464, 0.10823501435226833, 0.17103348684334552, 0.07098456971529547, 0.040562611265883126, 0.7889427891214268, 0.09937839760141366, 0.9893701927699668], \"Term\": [\"2014\", \"2014\", \"2014\", \"2014\", \"3d\", \"account\", \"account\", \"account\", \"account\", \"accountant\", \"accounting\", \"accounting\", \"accounting\", \"accrual\", \"advertising\", \"advertising\", \"aeronautical\", \"afghanistan\", \"aircraft\", \"aircraft\", \"aircraft\", \"airfield\", \"airframe\", \"alcoholic\", \"aml\", \"analysis\", \"analysis\", \"analysis\", \"analysis\", \"application\", \"application\", \"application\", \"application\", \"art\", \"art\", \"art\", \"art\", \"asp\", \"asset\", \"asset\", \"asset\", \"asset\", \"audience\", \"audience\", \"audit\", \"audit\", \"audit\", \"audit\", \"aviation\", \"aviation\", \"aviation\", \"aviation\", \"avionics\", \"bank\", \"bank\", \"bank\", \"bank\", \"banker\", \"banking\", \"banking\", \"banking\", \"bar\", \"bar\", \"bar\", \"bartender\", \"beverage\", \"beverage\", \"bid\", \"bid\", \"blog\", \"borrower\", \"branch\", \"branch\", \"branch\", \"branch\", \"brand\", \"brand\", \"brand\", \"branding\", \"branding\", \"budget\", \"budget\", \"budget\", \"budget\", \"bug\", \"business\", \"business\", \"business\", \"business\", \"campaign\", \"campaign\", \"campaign\", \"campaign\", \"care\", \"care\", \"care\", \"care\", \"cashier\", \"cashier\", \"cashier\", \"celebrity\", \"chase\", \"chef\", \"child\", \"child\", \"cisco\", \"cisco\", \"city\", \"city\", \"city\", \"city\", \"classroom\", \"clean\", \"clean\", \"clean\", \"cleanliness\", \"client\", \"client\", \"client\", \"client\", \"communication\", \"communication\", \"communication\", \"communication\", \"company\", \"company\", \"company\", \"company\", \"compliance\", \"compliance\", \"compliance\", \"compliance\", \"component\", \"component\", \"component\", \"component\", \"concrete\", \"configuration\", \"configured\", \"construction\", \"construction\", \"construction\", \"content\", \"content\", \"content\", \"contract\", \"contract\", \"contract\", \"contract\", \"control\", \"control\", \"control\", \"control\", \"cook\", \"cooking\", \"copywriting\", \"corrosion\", \"cost\", \"cost\", \"cost\", \"cost\", \"counting\", \"cpa\", \"creative\", \"creative\", \"creative\", \"credit\", \"credit\", \"credit\", \"credit\", \"cs\", \"cuisine\", \"culinary\", \"curriculum\", \"curriculum\", \"curriculum\", \"customer\", \"customer\", \"customer\", \"customer\", \"daily\", \"daily\", \"daily\", \"daily\", \"data\", \"data\", \"data\", \"data\", \"db2\", \"defect\", \"defect\", \"design\", \"design\", \"design\", \"design\", \"dessert\", \"developed\", \"developed\", \"developed\", \"developed\", \"development\", \"development\", \"development\", \"development\", \"diagram\", \"digital\", \"digital\", \"digital\", \"diligence\", \"diligence\", \"dining\", \"director\", \"director\", \"director\", \"director\", \"drink\", \"drink\", \"edited\", \"edited\", \"edited\", \"editorial\", \"education\", \"education\", \"education\", \"education\", \"educator\", \"educator\", \"electrical\", \"electrical\", \"electrical\", \"emotional\", \"employee\", \"employee\", \"employee\", \"employee\", \"engine\", \"engine\", \"engine\", \"engineer\", \"engineer\", \"engineer\", \"engineering\", \"engineering\", \"engineering\", \"equipment\", \"equipment\", \"equipment\", \"equipment\", \"event\", \"event\", \"event\", \"event\", \"executive\", \"executive\", \"executive\", \"experience\", \"experience\", \"experience\", \"experience\", \"facebook\", \"finance\", \"finance\", \"finance\", \"finance\", \"financial\", \"financial\", \"financial\", \"financials\", \"firewall\", \"fitness\", \"fitness\", \"fitness\", \"flier\", \"flight\", \"flight\", \"flight\", \"fmla\", \"follower\", \"food\", \"food\", \"food\", \"forecasting\", \"forecasting\", \"fraud\", \"friendly\", \"friendly\", \"friendly\", \"fundraising\", \"fundraising\", \"garnish\", \"grade\", \"grade\", \"grade\", \"grade\", \"graphic\", \"graphic\", \"graphic\", \"greeted\", \"greeting\", \"greeting\", \"guest\", \"guest\", \"hardware\", \"hardware\", \"hardware\", \"helicopter\", \"helicopter\", \"high\", \"high\", \"high\", \"high\", \"hris\", \"hydraulic\", \"including\", \"including\", \"including\", \"including\", \"indesign\", \"information\", \"information\", \"information\", \"information\", \"ingredient\", \"instagram\", \"install\", \"install\", \"installation\", \"installation\", \"installation\", \"installation\", \"installed\", \"installed\", \"installed\", \"instruction\", \"instruction\", \"instruction\", \"instrumentation\", \"invitation\", \"ip\", \"item\", \"item\", \"item\", \"item\", \"jamie\", \"java\", \"java\", \"javascript\", \"journalism\", \"kitchen\", \"lan\", \"learning\", \"learning\", \"learning\", \"learning\", \"ledger\", \"ledger\", \"lending\", \"lesson\", \"lesson\", \"liability\", \"liability\", \"linux\", \"liquor\", \"loan\", \"maintained\", \"maintained\", \"maintained\", \"maintained\", \"maintenance\", \"maintenance\", \"maintenance\", \"maintenance\", \"managed\", \"managed\", \"managed\", \"managed\", \"management\", \"management\", \"management\", \"management\", \"manager\", \"manager\", \"manager\", \"manager\", \"manufacturing\", \"manufacturing\", \"manufacturing\", \"market\", \"market\", \"market\", \"market\", \"marketing\", \"marketing\", \"marketing\", \"marketing\", \"matlab\", \"meal\", \"meal\", \"mechanical\", \"mechanical\", \"mechanical\", \"medical\", \"medical\", \"medical\", \"medical\", \"medium\", \"medium\", \"medium\", \"member\", \"member\", \"member\", \"member\", \"menu\", \"menu\", \"merchandise\", \"merchandise\", \"merchandise\", \"merchandise\", \"merger\", \"missile\", \"monthly\", \"monthly\", \"monthly\", \"monthly\", \"mortgage\", \"name\", \"name\", \"name\", \"name\", \"national\", \"national\", \"national\", \"national\", \"naval\", \"naval\", \"navy\", \"navy\", \"neat\", \"need\", \"need\", \"need\", \"need\", \"network\", \"network\", \"network\", \"new\", \"new\", \"new\", \"new\", \"news\", \"news\", \"news\", \"newsletter\", \"newsletter\", \"office\", \"office\", \"office\", \"office\", \"operation\", \"operation\", \"operation\", \"operation\", \"order\", \"order\", \"order\", \"order\", \"outreach\", \"outreach\", \"pallet\", \"parent\", \"parent\", \"pastry\", \"patient\", \"patient\", \"patron\", \"patron\", \"payable\", \"payroll\", \"payroll\", \"payroll\", \"photographer\", \"photography\", \"photography\", \"pitch\", \"pitch\", \"pitched\", \"postdoctoral\", \"pr\", \"pr\", \"pr\", \"press\", \"press\", \"press\", \"print\", \"print\", \"print\", \"print\", \"process\", \"process\", \"process\", \"process\", \"product\", \"product\", \"product\", \"product\", \"professional\", \"professional\", \"professional\", \"professional\", \"program\", \"program\", \"program\", \"program\", \"project\", \"project\", \"project\", \"project\", \"promotional\", \"promotional\", \"promotional\", \"promotional\", \"public\", \"public\", \"public\", \"public\", \"publicist\", \"quality\", \"quality\", \"quality\", \"quality\", \"reading\", \"reading\", \"reading\", \"reading\", \"receivable\", \"receivable\", \"receivables\", \"reconciled\", \"reconciliation\", \"recruiter\", \"recruiter\", \"recruitment\", \"recruitment\", \"recruitment\", \"rehabilitation\", \"relation\", \"relation\", \"relation\", \"release\", \"release\", \"release\", \"release\", \"repair\", \"repair\", \"repair\", \"report\", \"report\", \"report\", \"report\", \"reporter\", \"reporting\", \"reporting\", \"reporting\", \"reporting\", \"rfi\", \"risk\", \"risk\", \"risk\", \"risk\", \"router\", \"router\", \"sailor\", \"sale\", \"sale\", \"sale\", \"sale\", \"sanitation\", \"school\", \"school\", \"school\", \"school\", \"scrum\", \"security\", \"security\", \"security\", \"security\", \"seo\", \"sergeant\", \"server\", \"server\", \"service\", \"service\", \"service\", \"service\", \"show\", \"show\", \"show\", \"skill\", \"skill\", \"skill\", \"skill\", \"social\", \"social\", \"software\", \"software\", \"software\", \"software\", \"sou\", \"spokesperson\", \"sql\", \"sql\", \"staff\", \"staff\", \"staff\", \"staff\", \"state\", \"state\", \"state\", \"state\", \"statement\", \"statement\", \"statement\", \"statement\", \"stocked\", \"store\", \"store\", \"store\", \"store\", \"strategic\", \"strategic\", \"strategic\", \"strategy\", \"strategy\", \"strategy\", \"strategy\", \"student\", \"student\", \"student\", \"student\", \"subcontractor\", \"subcontractor\", \"substitute\", \"support\", \"support\", \"support\", \"support\", \"switch\", \"switch\", \"system\", \"system\", \"system\", \"system\", \"tax\", \"tax\", \"teach\", \"teacher\", \"teaching\", \"teaching\", \"team\", \"team\", \"team\", \"team\", \"technical\", \"technical\", \"technical\", \"technical\", \"technician\", \"technician\", \"technician\", \"technology\", \"technology\", \"technology\", \"technology\", \"teller\", \"teller\", \"test\", \"test\", \"test\", \"testing\", \"testing\", \"testing\", \"testing\", \"therapy\", \"therapy\", \"therapy\", \"tool\", \"tool\", \"tool\", \"tool\", \"training\", \"training\", \"training\", \"training\", \"trash\", \"treasury\", \"troubleshooting\", \"troubleshooting\", \"troubleshooting\", \"twitter\", \"underwriter\", \"underwriting\", \"university\", \"university\", \"university\", \"university\", \"unix\", \"user\", \"user\", \"user\", \"using\", \"using\", \"using\", \"using\", \"valuation\", \"variance\", \"wan\", \"weapon\", \"weapon\", \"weapon\", \"website\", \"website\", \"website\", \"welding\", \"window\", \"window\", \"window\", \"window\", \"wine\", \"wiring\", \"work\", \"work\", \"work\", \"work\", \"wrote\", \"wrote\", \"wrote\", \"wrote\", \"xml\"]}, \"R\": 30, \"lambda.step\": 0.01, \"plot.opts\": {\"xlab\": \"PC1\", \"ylab\": \"PC2\"}, \"topic.order\": [1, 3, 4, 2]};\n",
       "\n",
       "function LDAvis_load_lib(url, callback){\n",
       "  var s = document.createElement('script');\n",
       "  s.src = url;\n",
       "  s.async = true;\n",
       "  s.onreadystatechange = s.onload = callback;\n",
       "  s.onerror = function(){console.warn(\"failed to load library \" + url);};\n",
       "  document.getElementsByTagName(\"head\")[0].appendChild(s);\n",
       "}\n",
       "\n",
       "if(typeof(LDAvis) !== \"undefined\"){\n",
       "   // already loaded: just create the visualization\n",
       "   !function(LDAvis){\n",
       "       new LDAvis(\"#\" + \"ldavis_el24929137164173127149166406\", ldavis_el24929137164173127149166406_data);\n",
       "   }(LDAvis);\n",
       "}else if(typeof define === \"function\" && define.amd){\n",
       "   // require.js is available: use it to load d3/LDAvis\n",
       "   require.config({paths: {d3: \"https://d3js.org/d3.v5\"}});\n",
       "   require([\"d3\"], function(d3){\n",
       "      window.d3 = d3;\n",
       "      LDAvis_load_lib(\"https://cdn.jsdelivr.net/gh/bmabey/pyLDAvis@3.4.0/pyLDAvis/js/ldavis.v3.0.0.js\", function(){\n",
       "        new LDAvis(\"#\" + \"ldavis_el24929137164173127149166406\", ldavis_el24929137164173127149166406_data);\n",
       "      });\n",
       "    });\n",
       "}else{\n",
       "    // require.js not available: dynamically load d3 & LDAvis\n",
       "    LDAvis_load_lib(\"https://d3js.org/d3.v5.js\", function(){\n",
       "         LDAvis_load_lib(\"https://cdn.jsdelivr.net/gh/bmabey/pyLDAvis@3.4.0/pyLDAvis/js/ldavis.v3.0.0.js\", function(){\n",
       "                 new LDAvis(\"#\" + \"ldavis_el24929137164173127149166406\", ldavis_el24929137164173127149166406_data);\n",
       "            })\n",
       "         });\n",
       "}\n",
       "</script>"
      ],
      "text/plain": [
       "PreparedData(topic_coordinates=              x         y  topics  cluster       Freq\n",
       "topic                                                \n",
       "0      0.008907  0.019117       1        1  33.561933\n",
       "2      0.066052 -0.123487       2        1  27.663576\n",
       "3      0.090152  0.098796       3        1  21.394727\n",
       "1     -0.165112  0.005574       4        1  17.379764, topic_info=            Term         Freq        Total Category  logprob  loglift\n",
       "170    marketing  4428.000000  4428.000000  Default  30.0000  30.0000\n",
       "277       system  6783.000000  6783.000000  Default  29.0000  29.0000\n",
       "174       medium  3070.000000  3070.000000  Default  28.0000  28.0000\n",
       "769      student  4120.000000  4120.000000  Default  27.0000  27.0000\n",
       "231     relation  2856.000000  2856.000000  Default  26.0000  26.0000\n",
       "..           ...          ...          ...      ...      ...      ...\n",
       "106   experience  1130.768158  5695.232933   Topic4  -5.4702   0.1331\n",
       "288     training  1099.310923  5743.861894   Topic4  -5.4984   0.0964\n",
       "279         team  1076.569624  6788.363152   Topic4  -5.5193  -0.0916\n",
       "657  information   992.130252  4254.593007   Topic4  -5.6010   0.2940\n",
       "466      process   948.992531  4552.589504   Topic4  -5.6454   0.1818\n",
       "\n",
       "[369 rows x 6 columns], token_table=      Topic      Freq   Term\n",
       "term                        \n",
       "308       1  0.190933   2014\n",
       "308       2  0.438561   2014\n",
       "308       3  0.226779   2014\n",
       "308       4  0.143749   2014\n",
       "5686      4  0.989979     3d\n",
       "...     ...       ...    ...\n",
       "1082      1  0.070985  wrote\n",
       "1082      2  0.040563  wrote\n",
       "1082      3  0.788943  wrote\n",
       "1082      4  0.099378  wrote\n",
       "5969      4  0.989370    xml\n",
       "\n",
       "[738 rows x 3 columns], R=30, lambda_step=0.01, plot_opts={'xlab': 'PC1', 'ylab': 'PC2'}, topic_order=[1, 3, 4, 2])"
      ]
     },
     "execution_count": 77,
     "metadata": {},
     "output_type": "execute_result"
    }
   ],
   "source": [
    "pyLDAvis.enable_notebook()\n",
    "pyLDAvis.gensim_models.prepare(ldamodel, bow, dictionary)"
   ]
  },
  {
   "cell_type": "markdown",
   "id": "4203ac99",
   "metadata": {},
   "source": [
    "## Conclusion\n",
    "In this project, we have used an entity ruler to create additional entities and then displayed them using custom colors. We have also visualized categories and skills distributions and allowed the user to add resumes directly which includes skills match percentage. Finally, we have used LDA for topic modeling and used pyLDAvis to visualize various topics.\n",
    "\n",
    "Overall, it was a learning experience for me as I have never used spaCy in depth. I have also discovered various ways on how my project can be used to improve the hiring process in filtering out the perfect candidate for the job.\n"
   ]
  },
  {
   "cell_type": "code",
   "execution_count": null,
   "id": "59adc1b0",
   "metadata": {},
   "outputs": [],
   "source": []
  },
  {
   "cell_type": "code",
   "execution_count": null,
   "id": "95e6bd91",
   "metadata": {},
   "outputs": [],
   "source": []
  }
 ],
 "metadata": {
  "kernelspec": {
   "display_name": "Python 3 (ipykernel)",
   "language": "python",
   "name": "python3"
  },
  "language_info": {
   "codemirror_mode": {
    "name": "ipython",
    "version": 3
   },
   "file_extension": ".py",
   "mimetype": "text/x-python",
   "name": "python",
   "nbconvert_exporter": "python",
   "pygments_lexer": "ipython3",
   "version": "3.11.5"
  }
 },
 "nbformat": 4,
 "nbformat_minor": 5
}
